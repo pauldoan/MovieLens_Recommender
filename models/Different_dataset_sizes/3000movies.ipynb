{
 "cells": [
  {
   "cell_type": "markdown",
   "metadata": {},
   "source": [
    "# Project 1 - Recommender system for 3000 movies "
   ]
  },
  {
   "cell_type": "markdown",
   "metadata": {},
   "source": [
    "## Data and methods"
   ]
  },
  {
   "cell_type": "markdown",
   "metadata": {},
   "source": [
    "Let us start by reading the data:"
   ]
  },
  {
   "cell_type": "code",
   "execution_count": 2,
   "metadata": {},
   "outputs": [],
   "source": [
    "from pyspark.sql.session import SparkSession"
   ]
  },
  {
   "cell_type": "code",
   "execution_count": 3,
   "metadata": {},
   "outputs": [],
   "source": [
    "spark = SparkSession.builder.getOrCreate()"
   ]
  },
  {
   "cell_type": "code",
   "execution_count": 4,
   "metadata": {},
   "outputs": [
    {
     "name": "stdout",
     "output_type": "stream",
     "text": [
      "+------+-------+------+\n",
      "|userId|movieId|rating|\n",
      "+------+-------+------+\n",
      "|     1|      2|   3.5|\n",
      "|     1|     29|   3.5|\n",
      "|     1|     32|   3.5|\n",
      "|     1|     47|   3.5|\n",
      "|     1|     50|   3.5|\n",
      "|     1|    112|   3.5|\n",
      "|     1|    151|   4.0|\n",
      "|     1|    223|   4.0|\n",
      "|     1|    253|   4.0|\n",
      "|     1|    260|   4.0|\n",
      "|     1|    293|   4.0|\n",
      "|     1|    296|   4.0|\n",
      "|     1|    318|   4.0|\n",
      "|     1|    337|   3.5|\n",
      "|     1|    367|   3.5|\n",
      "|     1|    541|   4.0|\n",
      "|     1|    589|   3.5|\n",
      "|     1|    593|   3.5|\n",
      "|     1|    653|   3.0|\n",
      "|     1|    919|   3.5|\n",
      "+------+-------+------+\n",
      "only showing top 20 rows\n",
      "\n"
     ]
    }
   ],
   "source": [
    "data = spark.read.csv(\"ratings.csv\", header='true').drop('timestamp')\n",
    "data.show()"
   ]
  },
  {
   "cell_type": "markdown",
   "metadata": {},
   "source": [
    "How many entries are there in the data?"
   ]
  },
  {
   "cell_type": "code",
   "execution_count": 5,
   "metadata": {
    "scrolled": true
   },
   "outputs": [
    {
     "data": {
      "text/plain": [
       "20000263"
      ]
     },
     "execution_count": 5,
     "metadata": {},
     "output_type": "execute_result"
    }
   ],
   "source": [
    "data.count()"
   ]
  },
  {
   "cell_type": "code",
   "execution_count": 6,
   "metadata": {},
   "outputs": [
    {
     "name": "stdout",
     "output_type": "stream",
     "text": [
      "+-------+------------------+\n",
      "|summary|            rating|\n",
      "+-------+------------------+\n",
      "|  count|          20000263|\n",
      "|   mean|3.5255285642993797|\n",
      "| stddev| 1.051988919294227|\n",
      "|    min|               0.5|\n",
      "|    max|               5.0|\n",
      "+-------+------------------+\n",
      "\n"
     ]
    }
   ],
   "source": [
    "data.describe(\"rating\").show()"
   ]
  },
  {
   "cell_type": "markdown",
   "metadata": {},
   "source": [
    "Converting the data into numeric values:"
   ]
  },
  {
   "cell_type": "code",
   "execution_count": 7,
   "metadata": {},
   "outputs": [
    {
     "name": "stdout",
     "output_type": "stream",
     "text": [
      "root\n",
      " |-- userId: integer (nullable = true)\n",
      " |-- movieId: integer (nullable = true)\n",
      " |-- rating: double (nullable = true)\n",
      "\n"
     ]
    }
   ],
   "source": [
    "from pyspark.sql.types import DoubleType, IntegerType\n",
    "\n",
    "data = data.withColumn(\"movieId\", data[\"movieId\"].cast(IntegerType()))\n",
    "data = data.withColumn(\"userId\", data[\"userId\"].cast(IntegerType()))\n",
    "data = data.withColumn(\"rating\", data[\"rating\"].cast(DoubleType()))\n",
    "data.printSchema()"
   ]
  },
  {
   "cell_type": "markdown",
   "metadata": {},
   "source": [
    "## Sampling the data"
   ]
  },
  {
   "cell_type": "code",
   "execution_count": 8,
   "metadata": {},
   "outputs": [],
   "source": [
    "import pandas as pd\n",
    "data = pd.read_csv('ratings.csv').drop('timestamp', axis=1)"
   ]
  },
  {
   "cell_type": "code",
   "execution_count": 9,
   "metadata": {
    "scrolled": true
   },
   "outputs": [
    {
     "data": {
      "text/html": [
       "<div>\n",
       "<style scoped>\n",
       "    .dataframe tbody tr th:only-of-type {\n",
       "        vertical-align: middle;\n",
       "    }\n",
       "\n",
       "    .dataframe tbody tr th {\n",
       "        vertical-align: top;\n",
       "    }\n",
       "\n",
       "    .dataframe thead th {\n",
       "        text-align: right;\n",
       "    }\n",
       "</style>\n",
       "<table border=\"1\" class=\"dataframe\">\n",
       "  <thead>\n",
       "    <tr style=\"text-align: right;\">\n",
       "      <th></th>\n",
       "      <th>userId</th>\n",
       "      <th>movieId</th>\n",
       "      <th>rating</th>\n",
       "    </tr>\n",
       "  </thead>\n",
       "  <tbody>\n",
       "    <tr>\n",
       "      <td>0</td>\n",
       "      <td>1</td>\n",
       "      <td>2</td>\n",
       "      <td>3.5</td>\n",
       "    </tr>\n",
       "    <tr>\n",
       "      <td>1</td>\n",
       "      <td>1</td>\n",
       "      <td>29</td>\n",
       "      <td>3.5</td>\n",
       "    </tr>\n",
       "    <tr>\n",
       "      <td>2</td>\n",
       "      <td>1</td>\n",
       "      <td>32</td>\n",
       "      <td>3.5</td>\n",
       "    </tr>\n",
       "    <tr>\n",
       "      <td>3</td>\n",
       "      <td>1</td>\n",
       "      <td>47</td>\n",
       "      <td>3.5</td>\n",
       "    </tr>\n",
       "    <tr>\n",
       "      <td>4</td>\n",
       "      <td>1</td>\n",
       "      <td>50</td>\n",
       "      <td>3.5</td>\n",
       "    </tr>\n",
       "  </tbody>\n",
       "</table>\n",
       "</div>"
      ],
      "text/plain": [
       "   userId  movieId  rating\n",
       "0       1        2     3.5\n",
       "1       1       29     3.5\n",
       "2       1       32     3.5\n",
       "3       1       47     3.5\n",
       "4       1       50     3.5"
      ]
     },
     "execution_count": 9,
     "metadata": {},
     "output_type": "execute_result"
    }
   ],
   "source": [
    "data.head()"
   ]
  },
  {
   "cell_type": "markdown",
   "metadata": {},
   "source": [
    "In order to train our models, we need to sample our data into a smaller dataset. We plan to create a user-based collaborative filtering, so we will need to compute the similarities between the users. We believe it is appropriate to select the most popular movies as it would be easier to evaluate the similarities in behavior between users.\n",
    "<br> Let us start by selecting the movies that have more than 5,000 ratings:"
   ]
  },
  {
   "cell_type": "code",
   "execution_count": 10,
   "metadata": {},
   "outputs": [
    {
     "data": {
      "text/plain": [
       "userId     3159\n",
       "movieId    3159\n",
       "rating     3159\n",
       "dtype: int64"
      ]
     },
     "execution_count": 10,
     "metadata": {},
     "output_type": "execute_result"
    }
   ],
   "source": [
    "counts = data['movieId'].value_counts()\n",
    "data = data[data['movieId'].isin(counts.index[counts > 1000])]\n",
    "data.groupby('movieId').nunique().count()"
   ]
  },
  {
   "cell_type": "code",
   "execution_count": 11,
   "metadata": {},
   "outputs": [
    {
     "data": {
      "text/plain": [
       "userId     138493\n",
       "movieId    138493\n",
       "rating     138493\n",
       "dtype: int64"
      ]
     },
     "execution_count": 11,
     "metadata": {},
     "output_type": "execute_result"
    }
   ],
   "source": [
    "data.groupby('userId').nunique().count()"
   ]
  },
  {
   "cell_type": "markdown",
   "metadata": {},
   "source": [
    "We end up with 3,159 distinct movies and 138493 distinct users. \n",
    "<br>Let us randomly select 10,000 users to build our dataset."
   ]
  },
  {
   "cell_type": "code",
   "execution_count": 12,
   "metadata": {},
   "outputs": [
    {
     "data": {
      "text/html": [
       "<div>\n",
       "<style scoped>\n",
       "    .dataframe tbody tr th:only-of-type {\n",
       "        vertical-align: middle;\n",
       "    }\n",
       "\n",
       "    .dataframe tbody tr th {\n",
       "        vertical-align: top;\n",
       "    }\n",
       "\n",
       "    .dataframe thead th {\n",
       "        text-align: right;\n",
       "    }\n",
       "</style>\n",
       "<table border=\"1\" class=\"dataframe\">\n",
       "  <thead>\n",
       "    <tr style=\"text-align: right;\">\n",
       "      <th></th>\n",
       "      <th>userId</th>\n",
       "      <th>movieId</th>\n",
       "      <th>rating</th>\n",
       "    </tr>\n",
       "  </thead>\n",
       "  <tbody>\n",
       "    <tr>\n",
       "      <td>922</td>\n",
       "      <td>10</td>\n",
       "      <td>1</td>\n",
       "      <td>4.0</td>\n",
       "    </tr>\n",
       "    <tr>\n",
       "      <td>923</td>\n",
       "      <td>10</td>\n",
       "      <td>11</td>\n",
       "      <td>4.0</td>\n",
       "    </tr>\n",
       "    <tr>\n",
       "      <td>924</td>\n",
       "      <td>10</td>\n",
       "      <td>25</td>\n",
       "      <td>4.0</td>\n",
       "    </tr>\n",
       "    <tr>\n",
       "      <td>925</td>\n",
       "      <td>10</td>\n",
       "      <td>260</td>\n",
       "      <td>4.0</td>\n",
       "    </tr>\n",
       "    <tr>\n",
       "      <td>926</td>\n",
       "      <td>10</td>\n",
       "      <td>356</td>\n",
       "      <td>3.0</td>\n",
       "    </tr>\n",
       "    <tr>\n",
       "      <td>...</td>\n",
       "      <td>...</td>\n",
       "      <td>...</td>\n",
       "      <td>...</td>\n",
       "    </tr>\n",
       "    <tr>\n",
       "      <td>19996962</td>\n",
       "      <td>138467</td>\n",
       "      <td>3264</td>\n",
       "      <td>4.0</td>\n",
       "    </tr>\n",
       "    <tr>\n",
       "      <td>19996963</td>\n",
       "      <td>138467</td>\n",
       "      <td>3266</td>\n",
       "      <td>3.0</td>\n",
       "    </tr>\n",
       "    <tr>\n",
       "      <td>19996965</td>\n",
       "      <td>138467</td>\n",
       "      <td>3347</td>\n",
       "      <td>4.0</td>\n",
       "    </tr>\n",
       "    <tr>\n",
       "      <td>19996966</td>\n",
       "      <td>138467</td>\n",
       "      <td>3358</td>\n",
       "      <td>4.0</td>\n",
       "    </tr>\n",
       "    <tr>\n",
       "      <td>19996967</td>\n",
       "      <td>138467</td>\n",
       "      <td>3396</td>\n",
       "      <td>4.0</td>\n",
       "    </tr>\n",
       "  </tbody>\n",
       "</table>\n",
       "<p>1221731 rows × 3 columns</p>\n",
       "</div>"
      ],
      "text/plain": [
       "          userId  movieId  rating\n",
       "922           10        1     4.0\n",
       "923           10       11     4.0\n",
       "924           10       25     4.0\n",
       "925           10      260     4.0\n",
       "926           10      356     3.0\n",
       "...          ...      ...     ...\n",
       "19996962  138467     3264     4.0\n",
       "19996963  138467     3266     3.0\n",
       "19996965  138467     3347     4.0\n",
       "19996966  138467     3358     4.0\n",
       "19996967  138467     3396     4.0\n",
       "\n",
       "[1221731 rows x 3 columns]"
      ]
     },
     "execution_count": 12,
     "metadata": {},
     "output_type": "execute_result"
    }
   ],
   "source": [
    "import numpy as np\n",
    "np.random.seed(1)\n",
    "sample = data['userId'].unique()\n",
    "sample_users = np.random.choice(sample, 10000)\n",
    "dataset = data.loc[data['userId'].isin(sample_users)]\n",
    "dataset"
   ]
  },
  {
   "cell_type": "code",
   "execution_count": 13,
   "metadata": {},
   "outputs": [
    {
     "data": {
      "text/plain": [
       "userId     3159\n",
       "movieId    3159\n",
       "rating     3159\n",
       "dtype: int64"
      ]
     },
     "execution_count": 13,
     "metadata": {},
     "output_type": "execute_result"
    }
   ],
   "source": [
    "dataset.groupby('movieId').nunique().count()"
   ]
  },
  {
   "cell_type": "code",
   "execution_count": 14,
   "metadata": {
    "scrolled": true
   },
   "outputs": [
    {
     "data": {
      "text/plain": [
       "userId     9672\n",
       "movieId    9672\n",
       "rating     9672\n",
       "dtype: int64"
      ]
     },
     "execution_count": 14,
     "metadata": {},
     "output_type": "execute_result"
    }
   ],
   "source": [
    "dataset.groupby('userId').nunique().count()"
   ]
  },
  {
   "cell_type": "markdown",
   "metadata": {},
   "source": [
    "Interesting, we only have 9,672 users instead of 10,000... But well, it will be enough for our study!"
   ]
  },
  {
   "cell_type": "markdown",
   "metadata": {},
   "source": [
    "Let us now split our datset in a train set and a test set. We will use both of them for the rest of our study in this homework:"
   ]
  },
  {
   "cell_type": "code",
   "execution_count": 15,
   "metadata": {},
   "outputs": [
    {
     "name": "stdout",
     "output_type": "stream",
     "text": [
      "977455 244276\n"
     ]
    }
   ],
   "source": [
    "dataset = spark.createDataFrame(dataset)\n",
    "(training, test) = dataset.randomSplit([0.8,0.2], seed=0)\n",
    "print(training.count(), test.count())"
   ]
  },
  {
   "cell_type": "markdown",
   "metadata": {},
   "source": [
    "## Statistics\n",
    "\n",
    "We can make some statistics about our new set of movies to better understand it. Here is the number of ratings each movie has:"
   ]
  },
  {
   "cell_type": "code",
   "execution_count": 16,
   "metadata": {},
   "outputs": [
    {
     "name": "stdout",
     "output_type": "stream",
     "text": [
      "+-------+-----------------+\n",
      "|summary|            count|\n",
      "+-------+-----------------+\n",
      "|  count|             3159|\n",
      "|   mean|386.7461221905666|\n",
      "| stddev|507.0092498934479|\n",
      "|    min|               51|\n",
      "|    max|             4592|\n",
      "+-------+-----------------+\n",
      "\n"
     ]
    }
   ],
   "source": [
    "stat = dataset.groupBy(\"movieId\").count().sort('count', ascending=False)\n",
    "stat.describe('count').show()"
   ]
  },
  {
   "cell_type": "markdown",
   "metadata": {},
   "source": [
    "Even though we kept a small part of the users, we still have at least 326 ratings per movie which is enough for our study."
   ]
  },
  {
   "cell_type": "markdown",
   "metadata": {},
   "source": [
    "Here we can see the number of ratings with respect to the number of movies:"
   ]
  },
  {
   "cell_type": "code",
   "execution_count": 17,
   "metadata": {},
   "outputs": [
    {
     "data": {
      "text/plain": [
       "array([[<matplotlib.axes._subplots.AxesSubplot object at 0x10e136990>]],\n",
       "      dtype=object)"
      ]
     },
     "execution_count": 17,
     "metadata": {},
     "output_type": "execute_result"
    },
    {
     "data": {
      "image/png": "[encoded data removed]",
      "text/plain": [
       "<Figure size 432x288 with 1 Axes>"
      ]
     },
     "metadata": {
      "needs_background": "light"
     },
     "output_type": "display_data"
    }
   ],
   "source": [
    "%matplotlib inline\n",
    "import pandas as pd\n",
    "\n",
    "panda_stat = stat.toPandas()\n",
    "bin_ = [i*500 for i in range(10)]\n",
    "panda_stat.hist(column='count', bins=bin_)"
   ]
  },
  {
   "cell_type": "markdown",
   "metadata": {},
   "source": [
    "We can observe that the vast majority of the movies have less than 1,000 ratings and just a few of them have more ratings. This is the long tail effect: the popular movies (that represent a small proportion of the overall dataset) are far more rated than the other ones. "
   ]
  },
  {
   "cell_type": "markdown",
   "metadata": {},
   "source": [
    "# Metrics\n",
    "\n",
    "In this section, we will define the metrics functions which we will use later to assess the performances of our models:\n",
    "- MAE\n",
    "- RMSE\n",
    "- precision"
   ]
  },
  {
   "cell_type": "markdown",
   "metadata": {},
   "source": [
    "MAE and RMSE:"
   ]
  },
  {
   "cell_type": "code",
   "execution_count": 18,
   "metadata": {},
   "outputs": [],
   "source": [
    "from sklearn.metrics import mean_absolute_error, mean_squared_error\n",
    "import numpy as np\n",
    "\n",
    "def RMSE(y, y_predicted):\n",
    "    return np.sqrt(mean_squared_error(y, y_predicted))"
   ]
  },
  {
   "cell_type": "markdown",
   "metadata": {},
   "source": [
    "Precision:"
   ]
  },
  {
   "cell_type": "code",
   "execution_count": 19,
   "metadata": {},
   "outputs": [],
   "source": [
    "# Let us first create a function to transform our raw predictions into appropriate ones.\n",
    "def round_rating(x): \n",
    "    dec = x - int(x)\n",
    "    if (dec >= 0.25) and (dec < 0.75):\n",
    "        return int(x) + 0.5\n",
    "    else:\n",
    "        return int(x) + (dec > 0.5)\n",
    "\n",
    "# Precision function metric:\n",
    "def precision(y, y_predicted):\n",
    "    y_predicted = [round_rating(k) for k in y_predicted]       \n",
    "    TP = 0\n",
    "    for i in range(len(y)):\n",
    "        if y[i] == y_predicted[i]:\n",
    "            TP += 1\n",
    "    return TP/len(y)"
   ]
  },
  {
   "cell_type": "markdown",
   "metadata": {},
   "source": [
    "## Baseline Model"
   ]
  },
  {
   "cell_type": "markdown",
   "metadata": {},
   "source": [
    "We first need a baseline model to later compare the performances of our personalized models. We will use this one: \n",
    "<br><br>\n",
    "$$r_{ui}=\\mu$$\n",
    "<br>\n",
    "with $\\mu$: global average rating"
   ]
  },
  {
   "cell_type": "code",
   "execution_count": 20,
   "metadata": {},
   "outputs": [
    {
     "name": "stdout",
     "output_type": "stream",
     "text": [
      "+-------+------------------+\n",
      "|summary|            rating|\n",
      "+-------+------------------+\n",
      "|  count|            977455|\n",
      "|   mean| 3.571661611020456|\n",
      "| stddev|1.0364099463884444|\n",
      "|    min|               0.5|\n",
      "|    max|               5.0|\n",
      "+-------+------------------+\n",
      "\n"
     ]
    }
   ],
   "source": [
    "training.describe(\"rating\").show()"
   ]
  },
  {
   "cell_type": "code",
   "execution_count": 21,
   "metadata": {},
   "outputs": [],
   "source": [
    "mu = 3.639545494108101"
   ]
  },
  {
   "cell_type": "code",
   "execution_count": 22,
   "metadata": {},
   "outputs": [],
   "source": [
    "def baseline_rating(userId, movieId):\n",
    "    return mu"
   ]
  },
  {
   "cell_type": "code",
   "execution_count": 23,
   "metadata": {},
   "outputs": [],
   "source": [
    "test_baseline = test.toPandas()"
   ]
  },
  {
   "cell_type": "code",
   "execution_count": 24,
   "metadata": {},
   "outputs": [
    {
     "name": "stdout",
     "output_type": "stream",
     "text": [
      "Time of the training: 5.444983005523682\n"
     ]
    }
   ],
   "source": [
    "import time\n",
    "\n",
    "t0 = time.time()\n",
    "y_predicted = []\n",
    "for i in range(len(test_baseline.index)):\n",
    "    movieId = test_baseline.iloc[i, 1]\n",
    "    userId = test_baseline.iloc[i, 0]\n",
    "    y_predicted.append(baseline_rating(userId, movieId))\n",
    "t_baseline = time.time() - t0\n",
    "print (\"Time of the training:\", t_baseline)"
   ]
  },
  {
   "cell_type": "code",
   "execution_count": 25,
   "metadata": {},
   "outputs": [],
   "source": [
    "y = test_baseline['rating'].values"
   ]
  },
  {
   "cell_type": "code",
   "execution_count": 26,
   "metadata": {},
   "outputs": [
    {
     "data": {
      "text/html": [
       "<div>\n",
       "<style scoped>\n",
       "    .dataframe tbody tr th:only-of-type {\n",
       "        vertical-align: middle;\n",
       "    }\n",
       "\n",
       "    .dataframe tbody tr th {\n",
       "        vertical-align: top;\n",
       "    }\n",
       "\n",
       "    .dataframe thead th {\n",
       "        text-align: right;\n",
       "    }\n",
       "</style>\n",
       "<table border=\"1\" class=\"dataframe\">\n",
       "  <thead>\n",
       "    <tr style=\"text-align: right;\">\n",
       "      <th></th>\n",
       "      <th>userId</th>\n",
       "      <th>movieId</th>\n",
       "      <th>rating</th>\n",
       "      <th>baseline_rating</th>\n",
       "    </tr>\n",
       "  </thead>\n",
       "  <tbody>\n",
       "    <tr>\n",
       "      <td>0</td>\n",
       "      <td>10</td>\n",
       "      <td>1</td>\n",
       "      <td>4.0</td>\n",
       "      <td>3.639545</td>\n",
       "    </tr>\n",
       "    <tr>\n",
       "      <td>1</td>\n",
       "      <td>10</td>\n",
       "      <td>260</td>\n",
       "      <td>4.0</td>\n",
       "      <td>3.639545</td>\n",
       "    </tr>\n",
       "    <tr>\n",
       "      <td>2</td>\n",
       "      <td>10</td>\n",
       "      <td>527</td>\n",
       "      <td>5.0</td>\n",
       "      <td>3.639545</td>\n",
       "    </tr>\n",
       "    <tr>\n",
       "      <td>3</td>\n",
       "      <td>10</td>\n",
       "      <td>1250</td>\n",
       "      <td>4.0</td>\n",
       "      <td>3.639545</td>\n",
       "    </tr>\n",
       "    <tr>\n",
       "      <td>4</td>\n",
       "      <td>10</td>\n",
       "      <td>1304</td>\n",
       "      <td>3.0</td>\n",
       "      <td>3.639545</td>\n",
       "    </tr>\n",
       "  </tbody>\n",
       "</table>\n",
       "</div>"
      ],
      "text/plain": [
       "   userId  movieId  rating  baseline_rating\n",
       "0      10        1     4.0         3.639545\n",
       "1      10      260     4.0         3.639545\n",
       "2      10      527     5.0         3.639545\n",
       "3      10     1250     4.0         3.639545\n",
       "4      10     1304     3.0         3.639545"
      ]
     },
     "execution_count": 26,
     "metadata": {},
     "output_type": "execute_result"
    }
   ],
   "source": [
    "test_baseline['baseline_rating'] = y_predicted\n",
    "test_baseline.head()"
   ]
  },
  {
   "cell_type": "code",
   "execution_count": 27,
   "metadata": {},
   "outputs": [
    {
     "name": "stdout",
     "output_type": "stream",
     "text": [
      "MAE:  0.8280127345342817 \n",
      "RMSE:  1.0359999610752963 \n",
      "precision:  0.10419361705611685 \n",
      "Running time:  5.444983005523682\n"
     ]
    }
   ],
   "source": [
    "mae_baseline = mean_absolute_error(y, y_predicted)\n",
    "rmse_baseline = RMSE(y, y_predicted)\n",
    "precision_baseline = precision(y, y_predicted)\n",
    "\n",
    "print('MAE: ', mae_baseline, '\\nRMSE: ', rmse_baseline, '\\nprecision: ', precision_baseline, '\\nRunning time: ', t_baseline)"
   ]
  },
  {
   "cell_type": "markdown",
   "metadata": {},
   "source": [
    "We will compare the performances of our models with these values. "
   ]
  },
  {
   "cell_type": "markdown",
   "metadata": {},
   "source": [
    "## Memory Based: user-based model"
   ]
  },
  {
   "cell_type": "markdown",
   "metadata": {},
   "source": [
    "### Computing Similarity matrix\n",
    "\n",
    "Now we will focus on the training set to build an user similarity matrix, using the adjusted cosine similarity.\n",
    "\n",
    "Let's first adjust each row to remove the user bias.\n",
    "For that, we first compute the average rating per user, and we substract this average to each rating to obtain a non biased rating column:"
   ]
  },
  {
   "cell_type": "code",
   "execution_count": 28,
   "metadata": {},
   "outputs": [
    {
     "data": {
      "text/html": [
       "<div>\n",
       "<style scoped>\n",
       "    .dataframe tbody tr th:only-of-type {\n",
       "        vertical-align: middle;\n",
       "    }\n",
       "\n",
       "    .dataframe tbody tr th {\n",
       "        vertical-align: top;\n",
       "    }\n",
       "\n",
       "    .dataframe thead th {\n",
       "        text-align: right;\n",
       "    }\n",
       "</style>\n",
       "<table border=\"1\" class=\"dataframe\">\n",
       "  <thead>\n",
       "    <tr style=\"text-align: right;\">\n",
       "      <th></th>\n",
       "      <th>userId</th>\n",
       "      <th>rating_mean</th>\n",
       "    </tr>\n",
       "  </thead>\n",
       "  <tbody>\n",
       "    <tr>\n",
       "      <td>0</td>\n",
       "      <td>10</td>\n",
       "      <td>3.933333</td>\n",
       "    </tr>\n",
       "    <tr>\n",
       "      <td>1</td>\n",
       "      <td>28</td>\n",
       "      <td>2.913043</td>\n",
       "    </tr>\n",
       "    <tr>\n",
       "      <td>2</td>\n",
       "      <td>49</td>\n",
       "      <td>3.839286</td>\n",
       "    </tr>\n",
       "    <tr>\n",
       "      <td>3</td>\n",
       "      <td>53</td>\n",
       "      <td>4.014388</td>\n",
       "    </tr>\n",
       "    <tr>\n",
       "      <td>4</td>\n",
       "      <td>81</td>\n",
       "      <td>4.684211</td>\n",
       "    </tr>\n",
       "  </tbody>\n",
       "</table>\n",
       "</div>"
      ],
      "text/plain": [
       "   userId  rating_mean\n",
       "0      10     3.933333\n",
       "1      28     2.913043\n",
       "2      49     3.839286\n",
       "3      53     4.014388\n",
       "4      81     4.684211"
      ]
     },
     "execution_count": 28,
     "metadata": {},
     "output_type": "execute_result"
    }
   ],
   "source": [
    "Training = training.toPandas()\n",
    "Testing = test.toPandas()\n",
    "training_ratings_mean = Training.groupby('userId', as_index=False).mean().rename(columns = {'rating': 'rating_mean'})[['userId','rating_mean']]\n",
    "training_ratings_mean.head()"
   ]
  },
  {
   "cell_type": "code",
   "execution_count": 29,
   "metadata": {
    "scrolled": true
   },
   "outputs": [
    {
     "data": {
      "text/html": [
       "<div>\n",
       "<style scoped>\n",
       "    .dataframe tbody tr th:only-of-type {\n",
       "        vertical-align: middle;\n",
       "    }\n",
       "\n",
       "    .dataframe tbody tr th {\n",
       "        vertical-align: top;\n",
       "    }\n",
       "\n",
       "    .dataframe thead th {\n",
       "        text-align: right;\n",
       "    }\n",
       "</style>\n",
       "<table border=\"1\" class=\"dataframe\">\n",
       "  <thead>\n",
       "    <tr style=\"text-align: right;\">\n",
       "      <th></th>\n",
       "      <th>userId</th>\n",
       "      <th>movieId</th>\n",
       "      <th>rating</th>\n",
       "      <th>rating_mean</th>\n",
       "      <th>rating_adjusted</th>\n",
       "    </tr>\n",
       "  </thead>\n",
       "  <tbody>\n",
       "    <tr>\n",
       "      <td>0</td>\n",
       "      <td>10</td>\n",
       "      <td>11</td>\n",
       "      <td>4.0</td>\n",
       "      <td>3.933333</td>\n",
       "      <td>0.066667</td>\n",
       "    </tr>\n",
       "    <tr>\n",
       "      <td>1</td>\n",
       "      <td>10</td>\n",
       "      <td>25</td>\n",
       "      <td>4.0</td>\n",
       "      <td>3.933333</td>\n",
       "      <td>0.066667</td>\n",
       "    </tr>\n",
       "    <tr>\n",
       "      <td>2</td>\n",
       "      <td>10</td>\n",
       "      <td>356</td>\n",
       "      <td>3.0</td>\n",
       "      <td>3.933333</td>\n",
       "      <td>-0.933333</td>\n",
       "    </tr>\n",
       "    <tr>\n",
       "      <td>3</td>\n",
       "      <td>10</td>\n",
       "      <td>858</td>\n",
       "      <td>5.0</td>\n",
       "      <td>3.933333</td>\n",
       "      <td>1.066667</td>\n",
       "    </tr>\n",
       "    <tr>\n",
       "      <td>4</td>\n",
       "      <td>10</td>\n",
       "      <td>912</td>\n",
       "      <td>4.0</td>\n",
       "      <td>3.933333</td>\n",
       "      <td>0.066667</td>\n",
       "    </tr>\n",
       "  </tbody>\n",
       "</table>\n",
       "</div>"
      ],
      "text/plain": [
       "   userId  movieId  rating  rating_mean  rating_adjusted\n",
       "0      10       11     4.0     3.933333         0.066667\n",
       "1      10       25     4.0     3.933333         0.066667\n",
       "2      10      356     3.0     3.933333        -0.933333\n",
       "3      10      858     5.0     3.933333         1.066667\n",
       "4      10      912     4.0     3.933333         0.066667"
      ]
     },
     "execution_count": 29,
     "metadata": {},
     "output_type": "execute_result"
    }
   ],
   "source": [
    "training_adjusted_ratings = pd.merge(Training, training_ratings_mean, on='userId', how='left', sort=False)\n",
    "training_adjusted_ratings['rating_adjusted'] = training_adjusted_ratings['rating'] - training_adjusted_ratings['rating_mean']\n",
    "training_adjusted_ratings.head()"
   ]
  },
  {
   "cell_type": "code",
   "execution_count": 30,
   "metadata": {},
   "outputs": [
    {
     "data": {
      "text/html": [
       "<div>\n",
       "<style scoped>\n",
       "    .dataframe tbody tr th:only-of-type {\n",
       "        vertical-align: middle;\n",
       "    }\n",
       "\n",
       "    .dataframe tbody tr th {\n",
       "        vertical-align: top;\n",
       "    }\n",
       "\n",
       "    .dataframe thead th {\n",
       "        text-align: right;\n",
       "    }\n",
       "</style>\n",
       "<table border=\"1\" class=\"dataframe\">\n",
       "  <thead>\n",
       "    <tr style=\"text-align: right;\">\n",
       "      <th></th>\n",
       "      <th>movieId</th>\n",
       "      <th>userId</th>\n",
       "      <th>rating_adjusted</th>\n",
       "    </tr>\n",
       "  </thead>\n",
       "  <tbody>\n",
       "    <tr>\n",
       "      <td>0</td>\n",
       "      <td>11</td>\n",
       "      <td>10</td>\n",
       "      <td>0.066667</td>\n",
       "    </tr>\n",
       "    <tr>\n",
       "      <td>1</td>\n",
       "      <td>25</td>\n",
       "      <td>10</td>\n",
       "      <td>0.066667</td>\n",
       "    </tr>\n",
       "    <tr>\n",
       "      <td>2</td>\n",
       "      <td>356</td>\n",
       "      <td>10</td>\n",
       "      <td>-0.933333</td>\n",
       "    </tr>\n",
       "    <tr>\n",
       "      <td>3</td>\n",
       "      <td>858</td>\n",
       "      <td>10</td>\n",
       "      <td>1.066667</td>\n",
       "    </tr>\n",
       "    <tr>\n",
       "      <td>4</td>\n",
       "      <td>912</td>\n",
       "      <td>10</td>\n",
       "      <td>0.066667</td>\n",
       "    </tr>\n",
       "  </tbody>\n",
       "</table>\n",
       "</div>"
      ],
      "text/plain": [
       "   movieId  userId  rating_adjusted\n",
       "0       11      10         0.066667\n",
       "1       25      10         0.066667\n",
       "2      356      10        -0.933333\n",
       "3      858      10         1.066667\n",
       "4      912      10         0.066667"
      ]
     },
     "execution_count": 30,
     "metadata": {},
     "output_type": "execute_result"
    }
   ],
   "source": [
    "training_adjusted_ratings = training_adjusted_ratings[['movieId', 'userId', 'rating_adjusted']]\n",
    "training_adjusted_ratings.head()"
   ]
  },
  {
   "cell_type": "markdown",
   "metadata": {},
   "source": [
    "Here, the last column of the dataframe contains the adjusted rating on each user. We will then use this column to compute the similarity between each users using cosine similarity:\n",
    "- firstly, select two distinct users\n",
    "- secondly, isolate items that have been rated by both users\n",
    "- thirdly, apply similarity computation, which is defined as the following:\n",
    "\n",
    "$$sim(u,v) = \\frac{\\sum_{i \\in I}R_{u,i} R_{v,i}}{\\sqrt{\\sum_{i \\in I}R_{u,i}^2 R_{v,i}^2}}$$\n",
    "Where:\n",
    "- $R_{u,i}$ is the mean centered rating of item i given by user U\n",
    "- $I$ is the set of items that are rated by u and v\n",
    "\n",
    "In order to compute the similarity matrix, we will use the cosine_similarity method from the Sklearn library."
   ]
  },
  {
   "cell_type": "markdown",
   "metadata": {},
   "source": [
    "Let's first create our rating matrix. We put the userId in rows because we want to create an **user based** model. We can see that it is a very sparse matrix:"
   ]
  },
  {
   "cell_type": "code",
   "execution_count": 31,
   "metadata": {
    "scrolled": true
   },
   "outputs": [
    {
     "data": {
      "text/html": [
       "<div>\n",
       "<style scoped>\n",
       "    .dataframe tbody tr th:only-of-type {\n",
       "        vertical-align: middle;\n",
       "    }\n",
       "\n",
       "    .dataframe tbody tr th {\n",
       "        vertical-align: top;\n",
       "    }\n",
       "\n",
       "    .dataframe thead th {\n",
       "        text-align: right;\n",
       "    }\n",
       "</style>\n",
       "<table border=\"1\" class=\"dataframe\">\n",
       "  <thead>\n",
       "    <tr style=\"text-align: right;\">\n",
       "      <th>movieId</th>\n",
       "      <th>1</th>\n",
       "      <th>2</th>\n",
       "      <th>3</th>\n",
       "      <th>4</th>\n",
       "      <th>5</th>\n",
       "      <th>6</th>\n",
       "      <th>7</th>\n",
       "      <th>8</th>\n",
       "      <th>9</th>\n",
       "      <th>10</th>\n",
       "      <th>...</th>\n",
       "      <th>106916</th>\n",
       "      <th>106920</th>\n",
       "      <th>108932</th>\n",
       "      <th>109374</th>\n",
       "      <th>109487</th>\n",
       "      <th>110102</th>\n",
       "      <th>111362</th>\n",
       "      <th>111759</th>\n",
       "      <th>112556</th>\n",
       "      <th>112852</th>\n",
       "    </tr>\n",
       "    <tr>\n",
       "      <th>userId</th>\n",
       "      <th></th>\n",
       "      <th></th>\n",
       "      <th></th>\n",
       "      <th></th>\n",
       "      <th></th>\n",
       "      <th></th>\n",
       "      <th></th>\n",
       "      <th></th>\n",
       "      <th></th>\n",
       "      <th></th>\n",
       "      <th></th>\n",
       "      <th></th>\n",
       "      <th></th>\n",
       "      <th></th>\n",
       "      <th></th>\n",
       "      <th></th>\n",
       "      <th></th>\n",
       "      <th></th>\n",
       "      <th></th>\n",
       "      <th></th>\n",
       "      <th></th>\n",
       "    </tr>\n",
       "  </thead>\n",
       "  <tbody>\n",
       "    <tr>\n",
       "      <td>10</td>\n",
       "      <td>NaN</td>\n",
       "      <td>NaN</td>\n",
       "      <td>NaN</td>\n",
       "      <td>NaN</td>\n",
       "      <td>NaN</td>\n",
       "      <td>NaN</td>\n",
       "      <td>NaN</td>\n",
       "      <td>NaN</td>\n",
       "      <td>NaN</td>\n",
       "      <td>NaN</td>\n",
       "      <td>...</td>\n",
       "      <td>NaN</td>\n",
       "      <td>NaN</td>\n",
       "      <td>NaN</td>\n",
       "      <td>NaN</td>\n",
       "      <td>NaN</td>\n",
       "      <td>NaN</td>\n",
       "      <td>NaN</td>\n",
       "      <td>NaN</td>\n",
       "      <td>NaN</td>\n",
       "      <td>NaN</td>\n",
       "    </tr>\n",
       "    <tr>\n",
       "      <td>28</td>\n",
       "      <td>NaN</td>\n",
       "      <td>NaN</td>\n",
       "      <td>NaN</td>\n",
       "      <td>NaN</td>\n",
       "      <td>NaN</td>\n",
       "      <td>NaN</td>\n",
       "      <td>NaN</td>\n",
       "      <td>NaN</td>\n",
       "      <td>NaN</td>\n",
       "      <td>NaN</td>\n",
       "      <td>...</td>\n",
       "      <td>NaN</td>\n",
       "      <td>NaN</td>\n",
       "      <td>NaN</td>\n",
       "      <td>NaN</td>\n",
       "      <td>NaN</td>\n",
       "      <td>NaN</td>\n",
       "      <td>NaN</td>\n",
       "      <td>NaN</td>\n",
       "      <td>NaN</td>\n",
       "      <td>NaN</td>\n",
       "    </tr>\n",
       "    <tr>\n",
       "      <td>49</td>\n",
       "      <td>NaN</td>\n",
       "      <td>NaN</td>\n",
       "      <td>NaN</td>\n",
       "      <td>NaN</td>\n",
       "      <td>NaN</td>\n",
       "      <td>NaN</td>\n",
       "      <td>NaN</td>\n",
       "      <td>NaN</td>\n",
       "      <td>NaN</td>\n",
       "      <td>NaN</td>\n",
       "      <td>...</td>\n",
       "      <td>NaN</td>\n",
       "      <td>NaN</td>\n",
       "      <td>NaN</td>\n",
       "      <td>NaN</td>\n",
       "      <td>NaN</td>\n",
       "      <td>NaN</td>\n",
       "      <td>NaN</td>\n",
       "      <td>NaN</td>\n",
       "      <td>NaN</td>\n",
       "      <td>NaN</td>\n",
       "    </tr>\n",
       "    <tr>\n",
       "      <td>53</td>\n",
       "      <td>4.0</td>\n",
       "      <td>NaN</td>\n",
       "      <td>NaN</td>\n",
       "      <td>NaN</td>\n",
       "      <td>NaN</td>\n",
       "      <td>NaN</td>\n",
       "      <td>NaN</td>\n",
       "      <td>NaN</td>\n",
       "      <td>NaN</td>\n",
       "      <td>NaN</td>\n",
       "      <td>...</td>\n",
       "      <td>NaN</td>\n",
       "      <td>NaN</td>\n",
       "      <td>NaN</td>\n",
       "      <td>NaN</td>\n",
       "      <td>NaN</td>\n",
       "      <td>NaN</td>\n",
       "      <td>NaN</td>\n",
       "      <td>NaN</td>\n",
       "      <td>NaN</td>\n",
       "      <td>NaN</td>\n",
       "    </tr>\n",
       "    <tr>\n",
       "      <td>81</td>\n",
       "      <td>NaN</td>\n",
       "      <td>NaN</td>\n",
       "      <td>NaN</td>\n",
       "      <td>NaN</td>\n",
       "      <td>NaN</td>\n",
       "      <td>NaN</td>\n",
       "      <td>NaN</td>\n",
       "      <td>NaN</td>\n",
       "      <td>NaN</td>\n",
       "      <td>NaN</td>\n",
       "      <td>...</td>\n",
       "      <td>NaN</td>\n",
       "      <td>NaN</td>\n",
       "      <td>NaN</td>\n",
       "      <td>NaN</td>\n",
       "      <td>NaN</td>\n",
       "      <td>NaN</td>\n",
       "      <td>NaN</td>\n",
       "      <td>NaN</td>\n",
       "      <td>NaN</td>\n",
       "      <td>NaN</td>\n",
       "    </tr>\n",
       "  </tbody>\n",
       "</table>\n",
       "<p>5 rows × 3159 columns</p>\n",
       "</div>"
      ],
      "text/plain": [
       "movieId  1       2       3       4       5       6       7       8       \\\n",
       "userId                                                                    \n",
       "10          NaN     NaN     NaN     NaN     NaN     NaN     NaN     NaN   \n",
       "28          NaN     NaN     NaN     NaN     NaN     NaN     NaN     NaN   \n",
       "49          NaN     NaN     NaN     NaN     NaN     NaN     NaN     NaN   \n",
       "53          4.0     NaN     NaN     NaN     NaN     NaN     NaN     NaN   \n",
       "81          NaN     NaN     NaN     NaN     NaN     NaN     NaN     NaN   \n",
       "\n",
       "movieId  9       10      ...  106916  106920  108932  109374  109487  110102  \\\n",
       "userId                   ...                                                   \n",
       "10          NaN     NaN  ...     NaN     NaN     NaN     NaN     NaN     NaN   \n",
       "28          NaN     NaN  ...     NaN     NaN     NaN     NaN     NaN     NaN   \n",
       "49          NaN     NaN  ...     NaN     NaN     NaN     NaN     NaN     NaN   \n",
       "53          NaN     NaN  ...     NaN     NaN     NaN     NaN     NaN     NaN   \n",
       "81          NaN     NaN  ...     NaN     NaN     NaN     NaN     NaN     NaN   \n",
       "\n",
       "movieId  111362  111759  112556  112852  \n",
       "userId                                   \n",
       "10          NaN     NaN     NaN     NaN  \n",
       "28          NaN     NaN     NaN     NaN  \n",
       "49          NaN     NaN     NaN     NaN  \n",
       "53          NaN     NaN     NaN     NaN  \n",
       "81          NaN     NaN     NaN     NaN  \n",
       "\n",
       "[5 rows x 3159 columns]"
      ]
     },
     "execution_count": 31,
     "metadata": {},
     "output_type": "execute_result"
    }
   ],
   "source": [
    "# First the original ratings matrix, used to compute the predicted ratings\n",
    "training_rating_matrix = Training.pivot_table(values='rating', \n",
    "                                              index='userId', \n",
    "                                              columns='movieId')\n",
    "training_rating_matrix.head()"
   ]
  },
  {
   "cell_type": "code",
   "execution_count": 32,
   "metadata": {},
   "outputs": [
    {
     "data": {
      "text/html": [
       "<div>\n",
       "<style scoped>\n",
       "    .dataframe tbody tr th:only-of-type {\n",
       "        vertical-align: middle;\n",
       "    }\n",
       "\n",
       "    .dataframe tbody tr th {\n",
       "        vertical-align: top;\n",
       "    }\n",
       "\n",
       "    .dataframe thead th {\n",
       "        text-align: right;\n",
       "    }\n",
       "</style>\n",
       "<table border=\"1\" class=\"dataframe\">\n",
       "  <thead>\n",
       "    <tr style=\"text-align: right;\">\n",
       "      <th>movieId</th>\n",
       "      <th>1</th>\n",
       "      <th>2</th>\n",
       "      <th>3</th>\n",
       "      <th>4</th>\n",
       "      <th>5</th>\n",
       "      <th>6</th>\n",
       "      <th>7</th>\n",
       "      <th>8</th>\n",
       "      <th>9</th>\n",
       "      <th>10</th>\n",
       "      <th>...</th>\n",
       "      <th>106916</th>\n",
       "      <th>106920</th>\n",
       "      <th>108932</th>\n",
       "      <th>109374</th>\n",
       "      <th>109487</th>\n",
       "      <th>110102</th>\n",
       "      <th>111362</th>\n",
       "      <th>111759</th>\n",
       "      <th>112556</th>\n",
       "      <th>112852</th>\n",
       "    </tr>\n",
       "    <tr>\n",
       "      <th>userId</th>\n",
       "      <th></th>\n",
       "      <th></th>\n",
       "      <th></th>\n",
       "      <th></th>\n",
       "      <th></th>\n",
       "      <th></th>\n",
       "      <th></th>\n",
       "      <th></th>\n",
       "      <th></th>\n",
       "      <th></th>\n",
       "      <th></th>\n",
       "      <th></th>\n",
       "      <th></th>\n",
       "      <th></th>\n",
       "      <th></th>\n",
       "      <th></th>\n",
       "      <th></th>\n",
       "      <th></th>\n",
       "      <th></th>\n",
       "      <th></th>\n",
       "      <th></th>\n",
       "    </tr>\n",
       "  </thead>\n",
       "  <tbody>\n",
       "    <tr>\n",
       "      <td>10</td>\n",
       "      <td>NaN</td>\n",
       "      <td>NaN</td>\n",
       "      <td>NaN</td>\n",
       "      <td>NaN</td>\n",
       "      <td>NaN</td>\n",
       "      <td>NaN</td>\n",
       "      <td>NaN</td>\n",
       "      <td>NaN</td>\n",
       "      <td>NaN</td>\n",
       "      <td>NaN</td>\n",
       "      <td>...</td>\n",
       "      <td>NaN</td>\n",
       "      <td>NaN</td>\n",
       "      <td>NaN</td>\n",
       "      <td>NaN</td>\n",
       "      <td>NaN</td>\n",
       "      <td>NaN</td>\n",
       "      <td>NaN</td>\n",
       "      <td>NaN</td>\n",
       "      <td>NaN</td>\n",
       "      <td>NaN</td>\n",
       "    </tr>\n",
       "    <tr>\n",
       "      <td>28</td>\n",
       "      <td>NaN</td>\n",
       "      <td>NaN</td>\n",
       "      <td>NaN</td>\n",
       "      <td>NaN</td>\n",
       "      <td>NaN</td>\n",
       "      <td>NaN</td>\n",
       "      <td>NaN</td>\n",
       "      <td>NaN</td>\n",
       "      <td>NaN</td>\n",
       "      <td>NaN</td>\n",
       "      <td>...</td>\n",
       "      <td>NaN</td>\n",
       "      <td>NaN</td>\n",
       "      <td>NaN</td>\n",
       "      <td>NaN</td>\n",
       "      <td>NaN</td>\n",
       "      <td>NaN</td>\n",
       "      <td>NaN</td>\n",
       "      <td>NaN</td>\n",
       "      <td>NaN</td>\n",
       "      <td>NaN</td>\n",
       "    </tr>\n",
       "    <tr>\n",
       "      <td>49</td>\n",
       "      <td>NaN</td>\n",
       "      <td>NaN</td>\n",
       "      <td>NaN</td>\n",
       "      <td>NaN</td>\n",
       "      <td>NaN</td>\n",
       "      <td>NaN</td>\n",
       "      <td>NaN</td>\n",
       "      <td>NaN</td>\n",
       "      <td>NaN</td>\n",
       "      <td>NaN</td>\n",
       "      <td>...</td>\n",
       "      <td>NaN</td>\n",
       "      <td>NaN</td>\n",
       "      <td>NaN</td>\n",
       "      <td>NaN</td>\n",
       "      <td>NaN</td>\n",
       "      <td>NaN</td>\n",
       "      <td>NaN</td>\n",
       "      <td>NaN</td>\n",
       "      <td>NaN</td>\n",
       "      <td>NaN</td>\n",
       "    </tr>\n",
       "    <tr>\n",
       "      <td>53</td>\n",
       "      <td>-0.014388</td>\n",
       "      <td>NaN</td>\n",
       "      <td>NaN</td>\n",
       "      <td>NaN</td>\n",
       "      <td>NaN</td>\n",
       "      <td>NaN</td>\n",
       "      <td>NaN</td>\n",
       "      <td>NaN</td>\n",
       "      <td>NaN</td>\n",
       "      <td>NaN</td>\n",
       "      <td>...</td>\n",
       "      <td>NaN</td>\n",
       "      <td>NaN</td>\n",
       "      <td>NaN</td>\n",
       "      <td>NaN</td>\n",
       "      <td>NaN</td>\n",
       "      <td>NaN</td>\n",
       "      <td>NaN</td>\n",
       "      <td>NaN</td>\n",
       "      <td>NaN</td>\n",
       "      <td>NaN</td>\n",
       "    </tr>\n",
       "    <tr>\n",
       "      <td>81</td>\n",
       "      <td>NaN</td>\n",
       "      <td>NaN</td>\n",
       "      <td>NaN</td>\n",
       "      <td>NaN</td>\n",
       "      <td>NaN</td>\n",
       "      <td>NaN</td>\n",
       "      <td>NaN</td>\n",
       "      <td>NaN</td>\n",
       "      <td>NaN</td>\n",
       "      <td>NaN</td>\n",
       "      <td>...</td>\n",
       "      <td>NaN</td>\n",
       "      <td>NaN</td>\n",
       "      <td>NaN</td>\n",
       "      <td>NaN</td>\n",
       "      <td>NaN</td>\n",
       "      <td>NaN</td>\n",
       "      <td>NaN</td>\n",
       "      <td>NaN</td>\n",
       "      <td>NaN</td>\n",
       "      <td>NaN</td>\n",
       "    </tr>\n",
       "  </tbody>\n",
       "</table>\n",
       "<p>5 rows × 3159 columns</p>\n",
       "</div>"
      ],
      "text/plain": [
       "movieId    1       2       3       4       5       6       7       8       \\\n",
       "userId                                                                      \n",
       "10            NaN     NaN     NaN     NaN     NaN     NaN     NaN     NaN   \n",
       "28            NaN     NaN     NaN     NaN     NaN     NaN     NaN     NaN   \n",
       "49            NaN     NaN     NaN     NaN     NaN     NaN     NaN     NaN   \n",
       "53      -0.014388     NaN     NaN     NaN     NaN     NaN     NaN     NaN   \n",
       "81            NaN     NaN     NaN     NaN     NaN     NaN     NaN     NaN   \n",
       "\n",
       "movieId  9       10      ...  106916  106920  108932  109374  109487  110102  \\\n",
       "userId                   ...                                                   \n",
       "10          NaN     NaN  ...     NaN     NaN     NaN     NaN     NaN     NaN   \n",
       "28          NaN     NaN  ...     NaN     NaN     NaN     NaN     NaN     NaN   \n",
       "49          NaN     NaN  ...     NaN     NaN     NaN     NaN     NaN     NaN   \n",
       "53          NaN     NaN  ...     NaN     NaN     NaN     NaN     NaN     NaN   \n",
       "81          NaN     NaN  ...     NaN     NaN     NaN     NaN     NaN     NaN   \n",
       "\n",
       "movieId  111362  111759  112556  112852  \n",
       "userId                                   \n",
       "10          NaN     NaN     NaN     NaN  \n",
       "28          NaN     NaN     NaN     NaN  \n",
       "49          NaN     NaN     NaN     NaN  \n",
       "53          NaN     NaN     NaN     NaN  \n",
       "81          NaN     NaN     NaN     NaN  \n",
       "\n",
       "[5 rows x 3159 columns]"
      ]
     },
     "execution_count": 32,
     "metadata": {},
     "output_type": "execute_result"
    }
   ],
   "source": [
    "# Second the adusted rating matrix, used to compute the similarities between movies\n",
    "training_adjusted_rating_matrix = training_adjusted_ratings.pivot_table(values='rating_adjusted', \n",
    "                                                                        index='userId', \n",
    "                                                                        columns='movieId')\n",
    "training_adjusted_rating_matrix.head()"
   ]
  },
  {
   "cell_type": "code",
   "execution_count": 33,
   "metadata": {},
   "outputs": [
    {
     "data": {
      "text/html": [
       "<div>\n",
       "<style scoped>\n",
       "    .dataframe tbody tr th:only-of-type {\n",
       "        vertical-align: middle;\n",
       "    }\n",
       "\n",
       "    .dataframe tbody tr th {\n",
       "        vertical-align: top;\n",
       "    }\n",
       "\n",
       "    .dataframe thead th {\n",
       "        text-align: right;\n",
       "    }\n",
       "</style>\n",
       "<table border=\"1\" class=\"dataframe\">\n",
       "  <thead>\n",
       "    <tr style=\"text-align: right;\">\n",
       "      <th>movieId</th>\n",
       "      <th>1</th>\n",
       "      <th>2</th>\n",
       "      <th>3</th>\n",
       "      <th>4</th>\n",
       "      <th>5</th>\n",
       "      <th>6</th>\n",
       "      <th>7</th>\n",
       "      <th>8</th>\n",
       "      <th>9</th>\n",
       "      <th>10</th>\n",
       "      <th>...</th>\n",
       "      <th>106916</th>\n",
       "      <th>106920</th>\n",
       "      <th>108932</th>\n",
       "      <th>109374</th>\n",
       "      <th>109487</th>\n",
       "      <th>110102</th>\n",
       "      <th>111362</th>\n",
       "      <th>111759</th>\n",
       "      <th>112556</th>\n",
       "      <th>112852</th>\n",
       "    </tr>\n",
       "    <tr>\n",
       "      <th>userId</th>\n",
       "      <th></th>\n",
       "      <th></th>\n",
       "      <th></th>\n",
       "      <th></th>\n",
       "      <th></th>\n",
       "      <th></th>\n",
       "      <th></th>\n",
       "      <th></th>\n",
       "      <th></th>\n",
       "      <th></th>\n",
       "      <th></th>\n",
       "      <th></th>\n",
       "      <th></th>\n",
       "      <th></th>\n",
       "      <th></th>\n",
       "      <th></th>\n",
       "      <th></th>\n",
       "      <th></th>\n",
       "      <th></th>\n",
       "      <th></th>\n",
       "      <th></th>\n",
       "    </tr>\n",
       "  </thead>\n",
       "  <tbody>\n",
       "    <tr>\n",
       "      <td>10</td>\n",
       "      <td>0.000000</td>\n",
       "      <td>0.0</td>\n",
       "      <td>0.0</td>\n",
       "      <td>0.0</td>\n",
       "      <td>0.0</td>\n",
       "      <td>0.0</td>\n",
       "      <td>0.0</td>\n",
       "      <td>0.0</td>\n",
       "      <td>0.0</td>\n",
       "      <td>0.0</td>\n",
       "      <td>...</td>\n",
       "      <td>0.0</td>\n",
       "      <td>0.0</td>\n",
       "      <td>0.0</td>\n",
       "      <td>0.0</td>\n",
       "      <td>0.0</td>\n",
       "      <td>0.0</td>\n",
       "      <td>0.0</td>\n",
       "      <td>0.0</td>\n",
       "      <td>0.0</td>\n",
       "      <td>0.0</td>\n",
       "    </tr>\n",
       "    <tr>\n",
       "      <td>28</td>\n",
       "      <td>0.000000</td>\n",
       "      <td>0.0</td>\n",
       "      <td>0.0</td>\n",
       "      <td>0.0</td>\n",
       "      <td>0.0</td>\n",
       "      <td>0.0</td>\n",
       "      <td>0.0</td>\n",
       "      <td>0.0</td>\n",
       "      <td>0.0</td>\n",
       "      <td>0.0</td>\n",
       "      <td>...</td>\n",
       "      <td>0.0</td>\n",
       "      <td>0.0</td>\n",
       "      <td>0.0</td>\n",
       "      <td>0.0</td>\n",
       "      <td>0.0</td>\n",
       "      <td>0.0</td>\n",
       "      <td>0.0</td>\n",
       "      <td>0.0</td>\n",
       "      <td>0.0</td>\n",
       "      <td>0.0</td>\n",
       "    </tr>\n",
       "    <tr>\n",
       "      <td>49</td>\n",
       "      <td>0.000000</td>\n",
       "      <td>0.0</td>\n",
       "      <td>0.0</td>\n",
       "      <td>0.0</td>\n",
       "      <td>0.0</td>\n",
       "      <td>0.0</td>\n",
       "      <td>0.0</td>\n",
       "      <td>0.0</td>\n",
       "      <td>0.0</td>\n",
       "      <td>0.0</td>\n",
       "      <td>...</td>\n",
       "      <td>0.0</td>\n",
       "      <td>0.0</td>\n",
       "      <td>0.0</td>\n",
       "      <td>0.0</td>\n",
       "      <td>0.0</td>\n",
       "      <td>0.0</td>\n",
       "      <td>0.0</td>\n",
       "      <td>0.0</td>\n",
       "      <td>0.0</td>\n",
       "      <td>0.0</td>\n",
       "    </tr>\n",
       "    <tr>\n",
       "      <td>53</td>\n",
       "      <td>-0.014388</td>\n",
       "      <td>0.0</td>\n",
       "      <td>0.0</td>\n",
       "      <td>0.0</td>\n",
       "      <td>0.0</td>\n",
       "      <td>0.0</td>\n",
       "      <td>0.0</td>\n",
       "      <td>0.0</td>\n",
       "      <td>0.0</td>\n",
       "      <td>0.0</td>\n",
       "      <td>...</td>\n",
       "      <td>0.0</td>\n",
       "      <td>0.0</td>\n",
       "      <td>0.0</td>\n",
       "      <td>0.0</td>\n",
       "      <td>0.0</td>\n",
       "      <td>0.0</td>\n",
       "      <td>0.0</td>\n",
       "      <td>0.0</td>\n",
       "      <td>0.0</td>\n",
       "      <td>0.0</td>\n",
       "    </tr>\n",
       "    <tr>\n",
       "      <td>81</td>\n",
       "      <td>0.000000</td>\n",
       "      <td>0.0</td>\n",
       "      <td>0.0</td>\n",
       "      <td>0.0</td>\n",
       "      <td>0.0</td>\n",
       "      <td>0.0</td>\n",
       "      <td>0.0</td>\n",
       "      <td>0.0</td>\n",
       "      <td>0.0</td>\n",
       "      <td>0.0</td>\n",
       "      <td>...</td>\n",
       "      <td>0.0</td>\n",
       "      <td>0.0</td>\n",
       "      <td>0.0</td>\n",
       "      <td>0.0</td>\n",
       "      <td>0.0</td>\n",
       "      <td>0.0</td>\n",
       "      <td>0.0</td>\n",
       "      <td>0.0</td>\n",
       "      <td>0.0</td>\n",
       "      <td>0.0</td>\n",
       "    </tr>\n",
       "  </tbody>\n",
       "</table>\n",
       "<p>5 rows × 3159 columns</p>\n",
       "</div>"
      ],
      "text/plain": [
       "movieId    1       2       3       4       5       6       7       8       \\\n",
       "userId                                                                      \n",
       "10       0.000000     0.0     0.0     0.0     0.0     0.0     0.0     0.0   \n",
       "28       0.000000     0.0     0.0     0.0     0.0     0.0     0.0     0.0   \n",
       "49       0.000000     0.0     0.0     0.0     0.0     0.0     0.0     0.0   \n",
       "53      -0.014388     0.0     0.0     0.0     0.0     0.0     0.0     0.0   \n",
       "81       0.000000     0.0     0.0     0.0     0.0     0.0     0.0     0.0   \n",
       "\n",
       "movieId  9       10      ...  106916  106920  108932  109374  109487  110102  \\\n",
       "userId                   ...                                                   \n",
       "10          0.0     0.0  ...     0.0     0.0     0.0     0.0     0.0     0.0   \n",
       "28          0.0     0.0  ...     0.0     0.0     0.0     0.0     0.0     0.0   \n",
       "49          0.0     0.0  ...     0.0     0.0     0.0     0.0     0.0     0.0   \n",
       "53          0.0     0.0  ...     0.0     0.0     0.0     0.0     0.0     0.0   \n",
       "81          0.0     0.0  ...     0.0     0.0     0.0     0.0     0.0     0.0   \n",
       "\n",
       "movieId  111362  111759  112556  112852  \n",
       "userId                                   \n",
       "10          0.0     0.0     0.0     0.0  \n",
       "28          0.0     0.0     0.0     0.0  \n",
       "49          0.0     0.0     0.0     0.0  \n",
       "53          0.0     0.0     0.0     0.0  \n",
       "81          0.0     0.0     0.0     0.0  \n",
       "\n",
       "[5 rows x 3159 columns]"
      ]
     },
     "execution_count": 33,
     "metadata": {},
     "output_type": "execute_result"
    }
   ],
   "source": [
    "# Creating a dummy matrix with 0 instead of Nan\n",
    "\n",
    "dummy_training_adjusted_rating_matrix = training_adjusted_rating_matrix.copy().fillna(0)\n",
    "dummy_training_adjusted_rating_matrix.head()"
   ]
  },
  {
   "cell_type": "code",
   "execution_count": 34,
   "metadata": {},
   "outputs": [],
   "source": [
    "# Importing the cosine similarity method from the Sklearn library\n",
    "from sklearn.metrics.pairwise import cosine_similarity\n",
    "\n",
    "# Computing the similarities\n",
    "cosine_similarity = cosine_similarity(dummy_training_adjusted_rating_matrix, dummy_training_adjusted_rating_matrix)"
   ]
  },
  {
   "cell_type": "code",
   "execution_count": 35,
   "metadata": {},
   "outputs": [
    {
     "data": {
      "text/html": [
       "<div>\n",
       "<style scoped>\n",
       "    .dataframe tbody tr th:only-of-type {\n",
       "        vertical-align: middle;\n",
       "    }\n",
       "\n",
       "    .dataframe tbody tr th {\n",
       "        vertical-align: top;\n",
       "    }\n",
       "\n",
       "    .dataframe thead th {\n",
       "        text-align: right;\n",
       "    }\n",
       "</style>\n",
       "<table border=\"1\" class=\"dataframe\">\n",
       "  <thead>\n",
       "    <tr style=\"text-align: right;\">\n",
       "      <th>userId</th>\n",
       "      <th>10</th>\n",
       "      <th>28</th>\n",
       "      <th>49</th>\n",
       "      <th>53</th>\n",
       "      <th>81</th>\n",
       "      <th>124</th>\n",
       "      <th>127</th>\n",
       "      <th>163</th>\n",
       "      <th>167</th>\n",
       "      <th>180</th>\n",
       "      <th>...</th>\n",
       "      <th>138359</th>\n",
       "      <th>138365</th>\n",
       "      <th>138370</th>\n",
       "      <th>138380</th>\n",
       "      <th>138405</th>\n",
       "      <th>138408</th>\n",
       "      <th>138464</th>\n",
       "      <th>138465</th>\n",
       "      <th>138466</th>\n",
       "      <th>138467</th>\n",
       "    </tr>\n",
       "    <tr>\n",
       "      <th>userId</th>\n",
       "      <th></th>\n",
       "      <th></th>\n",
       "      <th></th>\n",
       "      <th></th>\n",
       "      <th></th>\n",
       "      <th></th>\n",
       "      <th></th>\n",
       "      <th></th>\n",
       "      <th></th>\n",
       "      <th></th>\n",
       "      <th></th>\n",
       "      <th></th>\n",
       "      <th></th>\n",
       "      <th></th>\n",
       "      <th></th>\n",
       "      <th></th>\n",
       "      <th></th>\n",
       "      <th></th>\n",
       "      <th></th>\n",
       "      <th></th>\n",
       "      <th></th>\n",
       "    </tr>\n",
       "  </thead>\n",
       "  <tbody>\n",
       "    <tr>\n",
       "      <td>10</td>\n",
       "      <td>1.000000</td>\n",
       "      <td>-0.059138</td>\n",
       "      <td>0.001051</td>\n",
       "      <td>0.023341</td>\n",
       "      <td>-0.035262</td>\n",
       "      <td>0.006467</td>\n",
       "      <td>0.008738</td>\n",
       "      <td>0.049454</td>\n",
       "      <td>0.000000</td>\n",
       "      <td>0.000000</td>\n",
       "      <td>...</td>\n",
       "      <td>0.000000</td>\n",
       "      <td>-0.035934</td>\n",
       "      <td>-0.065291</td>\n",
       "      <td>0.002552</td>\n",
       "      <td>0.000000</td>\n",
       "      <td>0.114069</td>\n",
       "      <td>0.005992</td>\n",
       "      <td>0.086374</td>\n",
       "      <td>0.000000</td>\n",
       "      <td>0.024816</td>\n",
       "    </tr>\n",
       "    <tr>\n",
       "      <td>28</td>\n",
       "      <td>-0.059138</td>\n",
       "      <td>1.000000</td>\n",
       "      <td>0.136708</td>\n",
       "      <td>0.044603</td>\n",
       "      <td>0.046295</td>\n",
       "      <td>0.073427</td>\n",
       "      <td>-0.082659</td>\n",
       "      <td>-0.005528</td>\n",
       "      <td>0.000000</td>\n",
       "      <td>0.098086</td>\n",
       "      <td>...</td>\n",
       "      <td>0.003956</td>\n",
       "      <td>0.031923</td>\n",
       "      <td>0.039901</td>\n",
       "      <td>0.001332</td>\n",
       "      <td>0.083074</td>\n",
       "      <td>-0.071076</td>\n",
       "      <td>-0.012380</td>\n",
       "      <td>0.000000</td>\n",
       "      <td>0.000000</td>\n",
       "      <td>0.002573</td>\n",
       "    </tr>\n",
       "    <tr>\n",
       "      <td>49</td>\n",
       "      <td>0.001051</td>\n",
       "      <td>0.136708</td>\n",
       "      <td>1.000000</td>\n",
       "      <td>0.000129</td>\n",
       "      <td>0.012661</td>\n",
       "      <td>0.105582</td>\n",
       "      <td>-0.067504</td>\n",
       "      <td>-0.015673</td>\n",
       "      <td>0.017327</td>\n",
       "      <td>0.079705</td>\n",
       "      <td>...</td>\n",
       "      <td>-0.016783</td>\n",
       "      <td>0.077770</td>\n",
       "      <td>0.037097</td>\n",
       "      <td>-0.009630</td>\n",
       "      <td>0.157867</td>\n",
       "      <td>-0.006879</td>\n",
       "      <td>0.010510</td>\n",
       "      <td>0.010149</td>\n",
       "      <td>0.035868</td>\n",
       "      <td>0.026284</td>\n",
       "    </tr>\n",
       "    <tr>\n",
       "      <td>53</td>\n",
       "      <td>0.023341</td>\n",
       "      <td>0.044603</td>\n",
       "      <td>0.000129</td>\n",
       "      <td>1.000000</td>\n",
       "      <td>-0.008672</td>\n",
       "      <td>-0.005172</td>\n",
       "      <td>-0.008322</td>\n",
       "      <td>-0.016653</td>\n",
       "      <td>-0.020501</td>\n",
       "      <td>-0.000136</td>\n",
       "      <td>...</td>\n",
       "      <td>0.000186</td>\n",
       "      <td>0.020623</td>\n",
       "      <td>0.003828</td>\n",
       "      <td>-0.017690</td>\n",
       "      <td>0.031646</td>\n",
       "      <td>0.013600</td>\n",
       "      <td>0.002989</td>\n",
       "      <td>-0.011911</td>\n",
       "      <td>0.027404</td>\n",
       "      <td>-0.019637</td>\n",
       "    </tr>\n",
       "    <tr>\n",
       "      <td>81</td>\n",
       "      <td>-0.035262</td>\n",
       "      <td>0.046295</td>\n",
       "      <td>0.012661</td>\n",
       "      <td>-0.008672</td>\n",
       "      <td>1.000000</td>\n",
       "      <td>0.051417</td>\n",
       "      <td>0.012841</td>\n",
       "      <td>0.025034</td>\n",
       "      <td>0.017998</td>\n",
       "      <td>0.000000</td>\n",
       "      <td>...</td>\n",
       "      <td>-0.043302</td>\n",
       "      <td>-0.021815</td>\n",
       "      <td>0.009571</td>\n",
       "      <td>-0.014031</td>\n",
       "      <td>0.000000</td>\n",
       "      <td>-0.022820</td>\n",
       "      <td>-0.010030</td>\n",
       "      <td>0.000000</td>\n",
       "      <td>0.000000</td>\n",
       "      <td>0.025412</td>\n",
       "    </tr>\n",
       "  </tbody>\n",
       "</table>\n",
       "<p>5 rows × 9672 columns</p>\n",
       "</div>"
      ],
      "text/plain": [
       "userId    10        28        49        53        81        124       127     \\\n",
       "userId                                                                         \n",
       "10      1.000000 -0.059138  0.001051  0.023341 -0.035262  0.006467  0.008738   \n",
       "28     -0.059138  1.000000  0.136708  0.044603  0.046295  0.073427 -0.082659   \n",
       "49      0.001051  0.136708  1.000000  0.000129  0.012661  0.105582 -0.067504   \n",
       "53      0.023341  0.044603  0.000129  1.000000 -0.008672 -0.005172 -0.008322   \n",
       "81     -0.035262  0.046295  0.012661 -0.008672  1.000000  0.051417  0.012841   \n",
       "\n",
       "userId    163       167       180     ...    138359    138365    138370  \\\n",
       "userId                                ...                                 \n",
       "10      0.049454  0.000000  0.000000  ...  0.000000 -0.035934 -0.065291   \n",
       "28     -0.005528  0.000000  0.098086  ...  0.003956  0.031923  0.039901   \n",
       "49     -0.015673  0.017327  0.079705  ... -0.016783  0.077770  0.037097   \n",
       "53     -0.016653 -0.020501 -0.000136  ...  0.000186  0.020623  0.003828   \n",
       "81      0.025034  0.017998  0.000000  ... -0.043302 -0.021815  0.009571   \n",
       "\n",
       "userId    138380    138405    138408    138464    138465    138466    138467  \n",
       "userId                                                                        \n",
       "10      0.002552  0.000000  0.114069  0.005992  0.086374  0.000000  0.024816  \n",
       "28      0.001332  0.083074 -0.071076 -0.012380  0.000000  0.000000  0.002573  \n",
       "49     -0.009630  0.157867 -0.006879  0.010510  0.010149  0.035868  0.026284  \n",
       "53     -0.017690  0.031646  0.013600  0.002989 -0.011911  0.027404 -0.019637  \n",
       "81     -0.014031  0.000000 -0.022820 -0.010030  0.000000  0.000000  0.025412  \n",
       "\n",
       "[5 rows x 9672 columns]"
      ]
     },
     "execution_count": 35,
     "metadata": {},
     "output_type": "execute_result"
    }
   ],
   "source": [
    "# converting the cosine similarity into a similarity matrix\n",
    "cosine_similarity = pd.DataFrame(cosine_similarity, \n",
    "                                 index=dummy_training_adjusted_rating_matrix.index, \n",
    "                                 columns=dummy_training_adjusted_rating_matrix.index)\n",
    "cosine_similarity.head()"
   ]
  },
  {
   "cell_type": "markdown",
   "metadata": {},
   "source": [
    "### Computing predicted ratings\n",
    "\n",
    "Now we can complete the rating matrix by computing each missing rating using weighted mean ratings. \n",
    "More precisely, each missing entry is given by : \n",
    "\n",
    "$$ r_{u,i} = \\frac{\\sum_{i \\in N}Similarity_{u,v} * r_{v,i}}{\\sum_{j \\in N}\\mid\\mid Similarity_{u,v} \\mid\\mid } $$\n",
    "\n",
    "where $N$ is the set of users that have rated $i$."
   ]
  },
  {
   "cell_type": "code",
   "execution_count": 36,
   "metadata": {},
   "outputs": [],
   "source": [
    "import heapq\n",
    "def user_based_collab(userId, movieId, k=10):\n",
    "    \n",
    "    # First check if the user is in the training set. Otherwise we do not have computed similarities for her.\n",
    "    if userId in training_rating_matrix.index:\n",
    "        \n",
    "        # get the similarities between the movie and the other movies\n",
    "        user_similarities = cosine_similarity[userId]\n",
    "        #print('User Similarities: ', user_similarities)\n",
    "        \n",
    "        # Get all the other users' ratings for this movie\n",
    "        other_users_ratings = training_rating_matrix[movieId]\n",
    "        #print('other users ratings: ', other_users_ratings)\n",
    "        \n",
    "        # Remove the NaN from the users' ratings and from the similarity vector\n",
    "        nan_index = other_users_ratings[other_users_ratings.isnull()].index\n",
    "        other_users_ratings = other_users_ratings.dropna()\n",
    "        user_similarities = user_similarities.drop(nan_index)\n",
    "        #print('DROPING NAN')\n",
    "        #print('User Similarities: ', user_similarities)\n",
    "        #print('other users ratings: ', other_users_ratings)\n",
    "        \n",
    "        # take k nearest neighbors\n",
    "        k_index = user_similarities[user_similarities.isin(heapq.nlargest(k, user_similarities))].index\n",
    "        other_users_ratings = other_users_ratings[k_index]\n",
    "        user_similarities = user_similarities[k_index]\n",
    "        #print('TAKING K NEAREST')\n",
    "        #print('User Similarities: ', user_similarities)\n",
    "        #print('other users ratings: ', other_users_ratings)\n",
    "           \n",
    "        \n",
    "        # Compute the predicted rating\n",
    "        s = 0\n",
    "        for sim in user_similarities:\n",
    "            s += abs(sim)\n",
    "        if s > 0:\n",
    "            return np.dot(user_similarities, other_users_ratings) / s\n",
    "        else:\n",
    "            return mu\n",
    "    \n",
    "        \n",
    "    # If the user or the movie were not in the training set, return the average rating\n",
    "    else:\n",
    "        return mu"
   ]
  },
  {
   "cell_type": "code",
   "execution_count": null,
   "metadata": {},
   "outputs": [],
   "source": [
    "t0 = time.time()\n",
    "predictions_user_based =[]\n",
    "timecheck = 0\n",
    "for row in Testing.index:\n",
    "    if timecheck % 2000 ==0: ####################### A ENLEVER ##################\n",
    "        print(timecheck / 178115)\n",
    "        \n",
    "    userId = Testing.loc[row, 'userId']\n",
    "    movieId = Testing.loc[row, 'movieId']\n",
    "    rating = user_based_collab(userId, movieId)\n",
    "    #print(rating)\n",
    "    predictions_user_based.append(rating)\n",
    "    timecheck += 1\n",
    "t_user_based = time.time() - t0\n",
    "print (\"Time of the training:\", t_user_based)"
   ]
  },
  {
   "cell_type": "code",
   "execution_count": 60,
   "metadata": {},
   "outputs": [
    {
     "data": {
      "text/html": [
       "<div>\n",
       "<style scoped>\n",
       "    .dataframe tbody tr th:only-of-type {\n",
       "        vertical-align: middle;\n",
       "    }\n",
       "\n",
       "    .dataframe tbody tr th {\n",
       "        vertical-align: top;\n",
       "    }\n",
       "\n",
       "    .dataframe thead th {\n",
       "        text-align: right;\n",
       "    }\n",
       "</style>\n",
       "<table border=\"1\" class=\"dataframe\">\n",
       "  <thead>\n",
       "    <tr style=\"text-align: right;\">\n",
       "      <th></th>\n",
       "      <th>userId</th>\n",
       "      <th>movieId</th>\n",
       "      <th>rating</th>\n",
       "      <th>User_based_predictions</th>\n",
       "    </tr>\n",
       "  </thead>\n",
       "  <tbody>\n",
       "    <tr>\n",
       "      <td>0</td>\n",
       "      <td>10</td>\n",
       "      <td>1</td>\n",
       "      <td>4.0</td>\n",
       "      <td>3.493941</td>\n",
       "    </tr>\n",
       "    <tr>\n",
       "      <td>1</td>\n",
       "      <td>10</td>\n",
       "      <td>260</td>\n",
       "      <td>4.0</td>\n",
       "      <td>4.544690</td>\n",
       "    </tr>\n",
       "    <tr>\n",
       "      <td>2</td>\n",
       "      <td>10</td>\n",
       "      <td>527</td>\n",
       "      <td>5.0</td>\n",
       "      <td>3.939422</td>\n",
       "    </tr>\n",
       "    <tr>\n",
       "      <td>3</td>\n",
       "      <td>10</td>\n",
       "      <td>1250</td>\n",
       "      <td>4.0</td>\n",
       "      <td>4.459280</td>\n",
       "    </tr>\n",
       "    <tr>\n",
       "      <td>4</td>\n",
       "      <td>10</td>\n",
       "      <td>1304</td>\n",
       "      <td>3.0</td>\n",
       "      <td>3.683933</td>\n",
       "    </tr>\n",
       "    <tr>\n",
       "      <td>...</td>\n",
       "      <td>...</td>\n",
       "      <td>...</td>\n",
       "      <td>...</td>\n",
       "      <td>...</td>\n",
       "    </tr>\n",
       "    <tr>\n",
       "      <td>244271</td>\n",
       "      <td>138467</td>\n",
       "      <td>3175</td>\n",
       "      <td>4.0</td>\n",
       "      <td>3.905624</td>\n",
       "    </tr>\n",
       "    <tr>\n",
       "      <td>244272</td>\n",
       "      <td>138467</td>\n",
       "      <td>3210</td>\n",
       "      <td>4.0</td>\n",
       "      <td>3.500387</td>\n",
       "    </tr>\n",
       "    <tr>\n",
       "      <td>244273</td>\n",
       "      <td>138467</td>\n",
       "      <td>3259</td>\n",
       "      <td>2.0</td>\n",
       "      <td>2.956624</td>\n",
       "    </tr>\n",
       "    <tr>\n",
       "      <td>244274</td>\n",
       "      <td>138467</td>\n",
       "      <td>3261</td>\n",
       "      <td>5.0</td>\n",
       "      <td>3.518719</td>\n",
       "    </tr>\n",
       "    <tr>\n",
       "      <td>244275</td>\n",
       "      <td>138467</td>\n",
       "      <td>3358</td>\n",
       "      <td>4.0</td>\n",
       "      <td>3.538330</td>\n",
       "    </tr>\n",
       "  </tbody>\n",
       "</table>\n",
       "<p>244276 rows × 4 columns</p>\n",
       "</div>"
      ],
      "text/plain": [
       "        userId  movieId  rating  User_based_predictions\n",
       "0           10        1     4.0                3.493941\n",
       "1           10      260     4.0                4.544690\n",
       "2           10      527     5.0                3.939422\n",
       "3           10     1250     4.0                4.459280\n",
       "4           10     1304     3.0                3.683933\n",
       "...        ...      ...     ...                     ...\n",
       "244271  138467     3175     4.0                3.905624\n",
       "244272  138467     3210     4.0                3.500387\n",
       "244273  138467     3259     2.0                2.956624\n",
       "244274  138467     3261     5.0                3.518719\n",
       "244275  138467     3358     4.0                3.538330\n",
       "\n",
       "[244276 rows x 4 columns]"
      ]
     },
     "execution_count": 60,
     "metadata": {},
     "output_type": "execute_result"
    }
   ],
   "source": [
    "Testing['User_based_predictions'] = predictions_user_based\n",
    "Testing"
   ]
  },
  {
   "cell_type": "code",
   "execution_count": 64,
   "metadata": {},
   "outputs": [
    {
     "name": "stdout",
     "output_type": "stream",
     "text": [
      "MAE:  0.7133408505481735 \n",
      "RMSE:  0.9160241498098819 \n",
      "precision:  0.22776285840606528 \n",
      "Running time:  1499.3303899765015\n"
     ]
    }
   ],
   "source": [
    "y_1 = Testing['rating']\n",
    "y_predicted_1 = Testing['User_based_predictions']\n",
    "\n",
    "mae_user_based = mean_absolute_error(y_1, y_predicted_1)\n",
    "rmse_user_based = RMSE(y_1, y_predicted_1)\n",
    "precision_user_based = precision(y_1, y_predicted_1)                                     \n",
    "\n",
    "print('MAE: ', mae_user_based, '\\nRMSE: ', rmse_user_based, '\\nprecision: ', precision_user_based, '\\nRunning time: ', t_user_based)"
   ]
  },
  {
   "cell_type": "markdown",
   "metadata": {},
   "source": [
    "Fortunately, we can observe an improvement in our metrics by ...\n",
    "This model is more effective than the baseline model because it is more personalized. Indeed, it takes into account the users behaviors and their similarities. However, due to an important sparsity, this is not the best that can be done: the performances would be poorer if we had taken less popular movies with fewer ratings in our sample dataset."
   ]
  },
  {
   "cell_type": "code",
   "execution_count": 40,
   "metadata": {},
   "outputs": [],
   "source": [
    "################### A ENLEVER ####################\n",
    "\n",
    "Testing.to_csv('Predition_userBased')"
   ]
  },
  {
   "cell_type": "markdown",
   "metadata": {},
   "source": [
    "## Model Based: Matrix Factorization"
   ]
  },
  {
   "cell_type": "markdown",
   "metadata": {},
   "source": [
    "### 1. Simple ALS method\n",
    "We will first create a simple ALS method to fit the training set, without fitting the hyper parameters.\n",
    "We start with a rank of 20, 20 iterations, $\\lambda=0.01$ and we set the constraint of non-negativity to True. "
   ]
  },
  {
   "cell_type": "markdown",
   "metadata": {},
   "source": [
    "Let's first import the required packages:"
   ]
  },
  {
   "cell_type": "code",
   "execution_count": 41,
   "metadata": {},
   "outputs": [],
   "source": [
    "from pyspark.ml.recommendation import ALS, ALSModel\n",
    "from pyspark.ml.tuning import TrainValidationSplit, ParamGridBuilder\n",
    "from pyspark.ml.evaluation import RegressionEvaluator"
   ]
  },
  {
   "cell_type": "code",
   "execution_count": 42,
   "metadata": {},
   "outputs": [],
   "source": [
    "# Create ALS Model\n",
    "SimpleAls = ALS(rank=20, maxIter=20, regParam=0.01, userCol=\"userId\", itemCol=\"movieId\", ratingCol=\"rating\",\n",
    "          coldStartStrategy=\"drop\", nonnegative=True)"
   ]
  },
  {
   "cell_type": "code",
   "execution_count": 43,
   "metadata": {},
   "outputs": [
    {
     "name": "stdout",
     "output_type": "stream",
     "text": [
      "Time of the training: 26.388944149017334\n"
     ]
    }
   ],
   "source": [
    "import time\n",
    "\n",
    "t0 = time.time()\n",
    "SimpleModel = SimpleAls.fit(training)\n",
    "t_simpleALS = time.time() - t0\n",
    "print (\"Time of the training:\", t_simpleALS)"
   ]
  },
  {
   "cell_type": "markdown",
   "metadata": {},
   "source": [
    "We can therefore use the simple model to compute the predictions:"
   ]
  },
  {
   "cell_type": "code",
   "execution_count": 44,
   "metadata": {},
   "outputs": [],
   "source": [
    "# Define evaluator as RMSE\n",
    "evaluator_rmse = RegressionEvaluator(metricName='rmse', labelCol='rating', predictionCol='prediction')\n",
    "evaluator_mae = RegressionEvaluator(metricName='mae', labelCol='rating', predictionCol='prediction')"
   ]
  },
  {
   "cell_type": "code",
   "execution_count": 45,
   "metadata": {},
   "outputs": [],
   "source": [
    "# Generate predictions and evaluate RMSE\n",
    "predictions_training_1 = SimpleModel.transform(training)\n",
    "predictions_test_1 = SimpleModel.transform(test)\n",
    "\n",
    "rmse_training_1 = evaluator_rmse.evaluate(predictions_training_1)\n",
    "rmse_test_1 = evaluator_rmse.evaluate(predictions_test_1)\n",
    "\n",
    "mae_training_1 = evaluator_mae.evaluate(predictions_training_1)\n",
    "mae_test_1 = evaluator_mae.evaluate(predictions_test_1)"
   ]
  },
  {
   "cell_type": "code",
   "execution_count": 46,
   "metadata": {},
   "outputs": [
    {
     "name": "stdout",
     "output_type": "stream",
     "text": [
      "+------+-------+------+----------+\n",
      "|userId|movieId|rating|prediction|\n",
      "+------+-------+------+----------+\n",
      "| 20924|    471|   4.0| 3.5506563|\n",
      "|  2711|    471|   5.0| 3.9711926|\n",
      "|119125|    471|   3.0| 2.8265023|\n",
      "| 72158|    471|   3.0|  3.200285|\n",
      "|120916|    471|   3.0| 3.1444201|\n",
      "| 10303|    471|   2.0| 3.4124026|\n",
      "| 15398|    471|   3.0|  3.719603|\n",
      "| 70662|    471|   4.0| 3.7484214|\n",
      "| 40847|    471|   3.5|  3.808476|\n",
      "|101968|    471|   5.0| 4.2614627|\n",
      "| 27646|    471|   4.0| 3.2347898|\n",
      "|100371|    471|   3.5| 3.4040046|\n",
      "|  6847|    471|   4.0| 3.7501943|\n",
      "| 43050|    471|   1.0|  3.428995|\n",
      "| 37897|    471|   3.0| 3.6271963|\n",
      "|134228|    471|   5.0|  4.486801|\n",
      "|  1280|    471|   3.0|  3.939526|\n",
      "|114266|    471|   3.5| 3.3682218|\n",
      "|116968|    471|   5.0| 4.5131116|\n",
      "| 82707|    471|   4.0| 3.7583063|\n",
      "+------+-------+------+----------+\n",
      "only showing top 20 rows\n",
      "\n"
     ]
    }
   ],
   "source": [
    "predictions_test_1.show()"
   ]
  },
  {
   "cell_type": "code",
   "execution_count": 63,
   "metadata": {},
   "outputs": [
    {
     "name": "stdout",
     "output_type": "stream",
     "text": [
      "For the training set:\n",
      "MAE:  0.4820356587249066 \n",
      "RMSE:  0.632078681046957\n",
      "\n",
      "For the test set:\n",
      "MAE:  0.648041330971383 \n",
      "RMSE:  0.8560600875328994 \n",
      "precision: 0.2668129492868722\n",
      "\n",
      "Running time 26.388944149017334\n"
     ]
    }
   ],
   "source": [
    "predictions_test_1_pd = predictions_test_1.toPandas()\n",
    "y_2 = predictions_test_1_pd['rating']\n",
    "y_predicted_2 = predictions_test_1_pd['prediction']\n",
    "precision_simpleALS = precision(y_2, y_predicted_2)  \n",
    "\n",
    "\n",
    "print('For the training set:')\n",
    "print('MAE: ', mae_training_1, '\\nRMSE: ', rmse_training_1)\n",
    "print()\n",
    "print('For the test set:')\n",
    "print('MAE: ', mae_test_1, '\\nRMSE: ', rmse_test_1, '\\nprecision:', precision_simpleALS)\n",
    "print()\n",
    "print('Running time', t_simpleALS)"
   ]
  },
  {
   "cell_type": "markdown",
   "metadata": {},
   "source": [
    "This model is quite simple, we did not try to fit the hyperparameters, namely the dimension of the latent vectors (rank of the matrix), the number of ALS iterations and the regularization parameter.\n",
    "<br>Despite its simplicity, it is way better than the user-based model. The running is much lower which means that we can afford to often compute new predictions for a larger dataset.\n",
    "<br><br>\n",
    "We can now generate Top 10 user recommendations:"
   ]
  },
  {
   "cell_type": "code",
   "execution_count": 48,
   "metadata": {},
   "outputs": [
    {
     "data": {
      "text/html": [
       "<div>\n",
       "<style scoped>\n",
       "    .dataframe tbody tr th:only-of-type {\n",
       "        vertical-align: middle;\n",
       "    }\n",
       "\n",
       "    .dataframe tbody tr th {\n",
       "        vertical-align: top;\n",
       "    }\n",
       "\n",
       "    .dataframe thead th {\n",
       "        text-align: right;\n",
       "    }\n",
       "</style>\n",
       "<table border=\"1\" class=\"dataframe\">\n",
       "  <thead>\n",
       "    <tr style=\"text-align: right;\">\n",
       "      <th></th>\n",
       "      <th>recommendations</th>\n",
       "    </tr>\n",
       "    <tr>\n",
       "      <th>userId</th>\n",
       "      <th></th>\n",
       "    </tr>\n",
       "  </thead>\n",
       "  <tbody>\n",
       "    <tr>\n",
       "      <td>7340</td>\n",
       "      <td>[(27611, 5.779783248901367), (31878, 5.4246301...</td>\n",
       "    </tr>\n",
       "    <tr>\n",
       "      <td>13840</td>\n",
       "      <td>[(911, 5.765842437744141), (6212, 5.5496783256...</td>\n",
       "    </tr>\n",
       "    <tr>\n",
       "      <td>41890</td>\n",
       "      <td>[(52885, 4.598975658416748), (65261, 4.5853428...</td>\n",
       "    </tr>\n",
       "    <tr>\n",
       "      <td>83250</td>\n",
       "      <td>[(97752, 6.372718811035156), (48997, 6.2622923...</td>\n",
       "    </tr>\n",
       "    <tr>\n",
       "      <td>18051</td>\n",
       "      <td>[(3181, 8.230886459350586), (2644, 7.678014278...</td>\n",
       "    </tr>\n",
       "  </tbody>\n",
       "</table>\n",
       "</div>"
      ],
      "text/plain": [
       "                                          recommendations\n",
       "userId                                                   \n",
       "7340    [(27611, 5.779783248901367), (31878, 5.4246301...\n",
       "13840   [(911, 5.765842437744141), (6212, 5.5496783256...\n",
       "41890   [(52885, 4.598975658416748), (65261, 4.5853428...\n",
       "83250   [(97752, 6.372718811035156), (48997, 6.2622923...\n",
       "18051   [(3181, 8.230886459350586), (2644, 7.678014278..."
      ]
     },
     "execution_count": 48,
     "metadata": {},
     "output_type": "execute_result"
    }
   ],
   "source": [
    "userRecs = SimpleModel.recommendForAllUsers(10).toPandas().set_index('userId')\n",
    "userRecs.head()"
   ]
  },
  {
   "cell_type": "markdown",
   "metadata": {},
   "source": [
    "### 2. Better ALS method: fitting the hyperparameters"
   ]
  },
  {
   "cell_type": "markdown",
   "metadata": {},
   "source": [
    "One way to improve our previous model is to fit the hyperparameters to the model. For this, we are using the *pyspark.ml.tuning* library and its ParamGridBuilder function.\n",
    "\n",
    "Here we are offering differents possibilites for the hyperparameters and the model will try them all to find the best one."
   ]
  },
  {
   "cell_type": "code",
   "execution_count": 49,
   "metadata": {},
   "outputs": [],
   "source": [
    "# Create ALS Model\n",
    "FitALS = ALS(userCol=\"userId\", itemCol=\"movieId\", ratingCol=\"rating\",\n",
    "          coldStartStrategy=\"drop\", nonnegative=True)"
   ]
  },
  {
   "cell_type": "code",
   "execution_count": 50,
   "metadata": {},
   "outputs": [],
   "source": [
    "# Tune model using ParamGridBuilder\n",
    "param_grid = ParamGridBuilder().addGrid(FitALS.rank, [15,17,20]).addGrid(FitALS.maxIter, [15,20,25]).addGrid(FitALS.regParam, [.01,.05,.1]).build()"
   ]
  },
  {
   "cell_type": "markdown",
   "metadata": {},
   "source": [
    "Let us use a cross-validation set up to train and tune our model. We will split the training set into a train set and a tune set, with ratio 0.8, 0.2 respectively:"
   ]
  },
  {
   "cell_type": "code",
   "execution_count": 51,
   "metadata": {},
   "outputs": [],
   "source": [
    "# Build cross validation using TrainValidationSplit\n",
    "tvs = TrainValidationSplit(estimator=FitALS, estimatorParamMaps=param_grid, evaluator=evaluator_rmse, trainRatio=0.8)"
   ]
  },
  {
   "cell_type": "code",
   "execution_count": 52,
   "metadata": {
    "scrolled": true
   },
   "outputs": [
    {
     "name": "stdout",
     "output_type": "stream",
     "text": [
      "Time of the training: 716.8327322006226\n"
     ]
    }
   ],
   "source": [
    "# Fit ALS model to train data\n",
    "import time\n",
    "\n",
    "t0 = time.time()\n",
    "FitModel = tvs.fit(training)\n",
    "t_fitALS = time.time() - t0\n",
    "print (\"Time of the training:\", t_fitALS)"
   ]
  },
  {
   "cell_type": "markdown",
   "metadata": {},
   "source": [
    "Let's save the model:"
   ]
  },
  {
   "cell_type": "code",
   "execution_count": 53,
   "metadata": {},
   "outputs": [],
   "source": [
    "FitModel.save(\"FitModelALS\")"
   ]
  },
  {
   "cell_type": "code",
   "execution_count": 54,
   "metadata": {},
   "outputs": [],
   "source": [
    "# Extract the best model from the tuning of Hyperparameters\n",
    "best_model = FitModel.bestModel"
   ]
  },
  {
   "cell_type": "code",
   "execution_count": 55,
   "metadata": {},
   "outputs": [],
   "source": [
    "# Generate predictions and evaluate RMSE\n",
    "predictions_training_2 = best_model.transform(training)\n",
    "predictions_test_2 = best_model.transform(test)\n",
    "\n",
    "rmse_training_2 = evaluator_rmse.evaluate(predictions_training_2)\n",
    "rmse_test_2 = evaluator_rmse.evaluate(predictions_test_2)\n",
    "\n",
    "mae_training_2 = evaluator_mae.evaluate(predictions_training_2)\n",
    "mae_test_2 = evaluator_mae.evaluate(predictions_test_2)"
   ]
  },
  {
   "cell_type": "markdown",
   "metadata": {},
   "source": [
    "We can print the metrics for this new model:"
   ]
  },
  {
   "cell_type": "code",
   "execution_count": 65,
   "metadata": {
    "scrolled": true
   },
   "outputs": [
    {
     "name": "stdout",
     "output_type": "stream",
     "text": [
      "Best hyperparameters found: \n",
      "Rank: 20\n",
      "MaxIter: 25\n",
      "RegParam: 0.1\n",
      "\n",
      "Metrics: \n",
      "For the training set:\n",
      "MAE:  0.5801479044112825 \n",
      "RMSE:  0.7424535202449515\n",
      "\n",
      "For the test set:\n",
      "MAE:  0.6275257356245868 \n",
      "RMSE:  0.807510173585446 \n",
      "precision:  0.2606191357317133\n",
      "\n",
      "Running time 716.8327322006226\n"
     ]
    }
   ],
   "source": [
    "predictions_test_2_pd = predictions_test_2.toPandas()\n",
    "y_3 = predictions_test_2_pd['rating']\n",
    "y_predicted_3 = predictions_test_2_pd['prediction']\n",
    "precision_fitALS = precision(y_3, y_predicted_3)  \n",
    "\n",
    "print('Best hyperparameters found: ')\n",
    "print('Rank:', best_model.rank)\n",
    "print('MaxIter:', best_model._java_obj.parent().getMaxIter())\n",
    "print('RegParam:', best_model._java_obj.parent().getRegParam())\n",
    "print()\n",
    "print('Metrics: ')\n",
    "print('For the training set:')\n",
    "print('MAE: ', mae_training_2, '\\nRMSE: ', rmse_training_2)\n",
    "print()\n",
    "print('For the test set:')\n",
    "print('MAE: ', mae_test_2, '\\nRMSE: ', rmse_test_2, '\\nprecision: ', precision_fitALS)\n",
    "print()\n",
    "print('Running time', t_fitALS)"
   ]
  },
  {
   "cell_type": "markdown",
   "metadata": {},
   "source": [
    "We see that the **error** is much lower than the previous one. Fitting the hyperparameters is effective, even for this bigger dataset."
   ]
  },
  {
   "cell_type": "markdown",
   "metadata": {},
   "source": [
    "Let's see how our model predict the actual ratings of the test set:"
   ]
  },
  {
   "cell_type": "code",
   "execution_count": 57,
   "metadata": {
    "scrolled": true
   },
   "outputs": [
    {
     "name": "stdout",
     "output_type": "stream",
     "text": [
      "+------+-------+------+----------+\n",
      "|userId|movieId|rating|prediction|\n",
      "+------+-------+------+----------+\n",
      "| 20924|    471|   4.0|   3.46848|\n",
      "|  2711|    471|   5.0| 3.8796592|\n",
      "|119125|    471|   3.0| 3.0580378|\n",
      "| 72158|    471|   3.0| 3.0668187|\n",
      "|120916|    471|   3.0| 2.9773138|\n",
      "| 10303|    471|   2.0|  3.564262|\n",
      "| 15398|    471|   3.0| 3.0609906|\n",
      "| 70662|    471|   4.0| 3.4812706|\n",
      "| 40847|    471|   3.5| 3.4691374|\n",
      "|101968|    471|   5.0| 3.6565495|\n",
      "| 27646|    471|   4.0| 3.2507815|\n",
      "|100371|    471|   3.5|  3.279684|\n",
      "|  6847|    471|   4.0| 3.8813818|\n",
      "| 43050|    471|   1.0| 3.3827605|\n",
      "| 37897|    471|   3.0| 3.6732767|\n",
      "|134228|    471|   5.0| 3.4033718|\n",
      "|  1280|    471|   3.0|  3.441093|\n",
      "|114266|    471|   3.5| 3.2925751|\n",
      "|116968|    471|   5.0| 4.1213493|\n",
      "| 82707|    471|   4.0| 3.5725317|\n",
      "+------+-------+------+----------+\n",
      "only showing top 20 rows\n",
      "\n"
     ]
    }
   ],
   "source": [
    "predictions_test_2.show()"
   ]
  },
  {
   "cell_type": "markdown",
   "metadata": {},
   "source": [
    "We can now generate the top 10 recommendations for all users:"
   ]
  },
  {
   "cell_type": "code",
   "execution_count": 58,
   "metadata": {
    "scrolled": true
   },
   "outputs": [
    {
     "data": {
      "text/html": [
       "<div>\n",
       "<style scoped>\n",
       "    .dataframe tbody tr th:only-of-type {\n",
       "        vertical-align: middle;\n",
       "    }\n",
       "\n",
       "    .dataframe tbody tr th {\n",
       "        vertical-align: top;\n",
       "    }\n",
       "\n",
       "    .dataframe thead th {\n",
       "        text-align: right;\n",
       "    }\n",
       "</style>\n",
       "<table border=\"1\" class=\"dataframe\">\n",
       "  <thead>\n",
       "    <tr style=\"text-align: right;\">\n",
       "      <th></th>\n",
       "      <th>recommendations</th>\n",
       "    </tr>\n",
       "    <tr>\n",
       "      <th>userId</th>\n",
       "      <th></th>\n",
       "    </tr>\n",
       "  </thead>\n",
       "  <tbody>\n",
       "    <tr>\n",
       "      <td>7340</td>\n",
       "      <td>[(858, 3.6967995166778564), (7099, 3.654708862...</td>\n",
       "    </tr>\n",
       "    <tr>\n",
       "      <td>13840</td>\n",
       "      <td>[(527, 4.7222514152526855), (318, 4.5269794464...</td>\n",
       "    </tr>\n",
       "    <tr>\n",
       "      <td>41890</td>\n",
       "      <td>[(318, 4.131470203399658), (2959, 4.1022515296...</td>\n",
       "    </tr>\n",
       "    <tr>\n",
       "      <td>83250</td>\n",
       "      <td>[(5618, 5.188601970672607), (541, 5.1384773254...</td>\n",
       "    </tr>\n",
       "    <tr>\n",
       "      <td>18051</td>\n",
       "      <td>[(326, 4.7857747077941895), (2357, 4.752420902...</td>\n",
       "    </tr>\n",
       "  </tbody>\n",
       "</table>\n",
       "</div>"
      ],
      "text/plain": [
       "                                          recommendations\n",
       "userId                                                   \n",
       "7340    [(858, 3.6967995166778564), (7099, 3.654708862...\n",
       "13840   [(527, 4.7222514152526855), (318, 4.5269794464...\n",
       "41890   [(318, 4.131470203399658), (2959, 4.1022515296...\n",
       "83250   [(5618, 5.188601970672607), (541, 5.1384773254...\n",
       "18051   [(326, 4.7857747077941895), (2357, 4.752420902..."
      ]
     },
     "execution_count": 58,
     "metadata": {},
     "output_type": "execute_result"
    }
   ],
   "source": [
    "user_recs_fit = best_model.recommendForAllUsers(10).toPandas().set_index('userId')\n",
    "user_recs_fit.head()"
   ]
  }
 ],
 "metadata": {
  "kernelspec": {
   "display_name": "Python 3",
   "language": "python",
   "name": "python3"
  },
  "language_info": {
   "codemirror_mode": {
    "name": "ipython",
    "version": 3
   },
   "file_extension": ".py",
   "mimetype": "text/x-python",
   "name": "python",
   "nbconvert_exporter": "python",
   "pygments_lexer": "ipython3",
   "version": "3.7.4"
  }
 },
 "nbformat": 4,
 "nbformat_minor": 2
}
