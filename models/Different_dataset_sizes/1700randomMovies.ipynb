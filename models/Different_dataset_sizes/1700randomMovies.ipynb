{
 "cells": [
  {
   "cell_type": "markdown",
   "metadata": {},
   "source": [
    "# Project 1 - Recommender system for 1700 random movies "
   ]
  },
  {
   "cell_type": "markdown",
   "metadata": {},
   "source": [
    "## Data and methods"
   ]
  },
  {
   "cell_type": "markdown",
   "metadata": {},
   "source": [
    "Let us start by reading the data:"
   ]
  },
  {
   "cell_type": "code",
   "execution_count": 38,
   "metadata": {},
   "outputs": [],
   "source": [
    "from pyspark.sql.session import SparkSession"
   ]
  },
  {
   "cell_type": "code",
   "execution_count": 39,
   "metadata": {},
   "outputs": [],
   "source": [
    "spark = SparkSession.builder.getOrCreate()"
   ]
  },
  {
   "cell_type": "code",
   "execution_count": 40,
   "metadata": {},
   "outputs": [
    {
     "name": "stdout",
     "output_type": "stream",
     "text": [
      "+------+-------+------+\n",
      "|userId|movieId|rating|\n",
      "+------+-------+------+\n",
      "|     1|      2|   3.5|\n",
      "|     1|     29|   3.5|\n",
      "|     1|     32|   3.5|\n",
      "|     1|     47|   3.5|\n",
      "|     1|     50|   3.5|\n",
      "|     1|    112|   3.5|\n",
      "|     1|    151|   4.0|\n",
      "|     1|    223|   4.0|\n",
      "|     1|    253|   4.0|\n",
      "|     1|    260|   4.0|\n",
      "|     1|    293|   4.0|\n",
      "|     1|    296|   4.0|\n",
      "|     1|    318|   4.0|\n",
      "|     1|    337|   3.5|\n",
      "|     1|    367|   3.5|\n",
      "|     1|    541|   4.0|\n",
      "|     1|    589|   3.5|\n",
      "|     1|    593|   3.5|\n",
      "|     1|    653|   3.0|\n",
      "|     1|    919|   3.5|\n",
      "+------+-------+------+\n",
      "only showing top 20 rows\n",
      "\n"
     ]
    }
   ],
   "source": [
    "data = spark.read.csv(\"ratings.csv\", header='true').drop('timestamp')\n",
    "data.show()"
   ]
  },
  {
   "cell_type": "markdown",
   "metadata": {},
   "source": [
    "How many entries are there in the data?"
   ]
  },
  {
   "cell_type": "code",
   "execution_count": 41,
   "metadata": {
    "scrolled": true
   },
   "outputs": [
    {
     "data": {
      "text/plain": [
       "20000263"
      ]
     },
     "execution_count": 41,
     "metadata": {},
     "output_type": "execute_result"
    }
   ],
   "source": [
    "data.count()"
   ]
  },
  {
   "cell_type": "code",
   "execution_count": 42,
   "metadata": {},
   "outputs": [
    {
     "name": "stdout",
     "output_type": "stream",
     "text": [
      "+-------+------------------+\n",
      "|summary|            rating|\n",
      "+-------+------------------+\n",
      "|  count|          20000263|\n",
      "|   mean|3.5255285642993797|\n",
      "| stddev| 1.051988919294227|\n",
      "|    min|               0.5|\n",
      "|    max|               5.0|\n",
      "+-------+------------------+\n",
      "\n"
     ]
    }
   ],
   "source": [
    "data.describe(\"rating\").show()"
   ]
  },
  {
   "cell_type": "markdown",
   "metadata": {},
   "source": [
    "Converting the data into numeric values:"
   ]
  },
  {
   "cell_type": "code",
   "execution_count": 43,
   "metadata": {},
   "outputs": [
    {
     "name": "stdout",
     "output_type": "stream",
     "text": [
      "root\n",
      " |-- userId: integer (nullable = true)\n",
      " |-- movieId: integer (nullable = true)\n",
      " |-- rating: double (nullable = true)\n",
      "\n"
     ]
    }
   ],
   "source": [
    "from pyspark.sql.types import DoubleType, IntegerType\n",
    "\n",
    "data = data.withColumn(\"movieId\", data[\"movieId\"].cast(IntegerType()))\n",
    "data = data.withColumn(\"userId\", data[\"userId\"].cast(IntegerType()))\n",
    "data = data.withColumn(\"rating\", data[\"rating\"].cast(DoubleType()))\n",
    "data.printSchema()"
   ]
  },
  {
   "cell_type": "markdown",
   "metadata": {},
   "source": [
    "## Sampling the data"
   ]
  },
  {
   "cell_type": "code",
   "execution_count": 44,
   "metadata": {},
   "outputs": [],
   "source": [
    "import pandas as pd\n",
    "data = pd.read_csv('ratings.csv').drop('timestamp', axis=1)"
   ]
  },
  {
   "cell_type": "code",
   "execution_count": 45,
   "metadata": {
    "scrolled": true
   },
   "outputs": [
    {
     "data": {
      "text/html": [
       "<div>\n",
       "<style scoped>\n",
       "    .dataframe tbody tr th:only-of-type {\n",
       "        vertical-align: middle;\n",
       "    }\n",
       "\n",
       "    .dataframe tbody tr th {\n",
       "        vertical-align: top;\n",
       "    }\n",
       "\n",
       "    .dataframe thead th {\n",
       "        text-align: right;\n",
       "    }\n",
       "</style>\n",
       "<table border=\"1\" class=\"dataframe\">\n",
       "  <thead>\n",
       "    <tr style=\"text-align: right;\">\n",
       "      <th></th>\n",
       "      <th>userId</th>\n",
       "      <th>movieId</th>\n",
       "      <th>rating</th>\n",
       "    </tr>\n",
       "  </thead>\n",
       "  <tbody>\n",
       "    <tr>\n",
       "      <td>0</td>\n",
       "      <td>1</td>\n",
       "      <td>2</td>\n",
       "      <td>3.5</td>\n",
       "    </tr>\n",
       "    <tr>\n",
       "      <td>1</td>\n",
       "      <td>1</td>\n",
       "      <td>29</td>\n",
       "      <td>3.5</td>\n",
       "    </tr>\n",
       "    <tr>\n",
       "      <td>2</td>\n",
       "      <td>1</td>\n",
       "      <td>32</td>\n",
       "      <td>3.5</td>\n",
       "    </tr>\n",
       "    <tr>\n",
       "      <td>3</td>\n",
       "      <td>1</td>\n",
       "      <td>47</td>\n",
       "      <td>3.5</td>\n",
       "    </tr>\n",
       "    <tr>\n",
       "      <td>4</td>\n",
       "      <td>1</td>\n",
       "      <td>50</td>\n",
       "      <td>3.5</td>\n",
       "    </tr>\n",
       "  </tbody>\n",
       "</table>\n",
       "</div>"
      ],
      "text/plain": [
       "   userId  movieId  rating\n",
       "0       1        2     3.5\n",
       "1       1       29     3.5\n",
       "2       1       32     3.5\n",
       "3       1       47     3.5\n",
       "4       1       50     3.5"
      ]
     },
     "execution_count": 45,
     "metadata": {},
     "output_type": "execute_result"
    }
   ],
   "source": [
    "data.head()"
   ]
  },
  {
   "cell_type": "markdown",
   "metadata": {},
   "source": [
    "In order to train our models, we need to sample our data into a smaller dataset. \n",
    "<br> Let us start by selecting 3000 random movies:"
   ]
  },
  {
   "cell_type": "code",
   "execution_count": 46,
   "metadata": {},
   "outputs": [],
   "source": [
    "import numpy as np\n",
    "np.random.seed(1)\n",
    "sample = data['movieId'].unique()\n",
    "sample_movies = np.random.choice(sample, 3000)\n",
    "data = data.loc[data['movieId'].isin(sample_movies)]"
   ]
  },
  {
   "cell_type": "code",
   "execution_count": 47,
   "metadata": {},
   "outputs": [
    {
     "data": {
      "text/plain": [
       "userId     137453\n",
       "movieId    137453\n",
       "rating     137453\n",
       "dtype: int64"
      ]
     },
     "execution_count": 47,
     "metadata": {},
     "output_type": "execute_result"
    }
   ],
   "source": [
    "data.groupby('userId').nunique().count()"
   ]
  },
  {
   "cell_type": "markdown",
   "metadata": {},
   "source": [
    "We end up with 3000 distinct movies and 137453 distinct users. \n",
    "<br>Let us randomly select 10,000 users to build our dataset."
   ]
  },
  {
   "cell_type": "code",
   "execution_count": 48,
   "metadata": {},
   "outputs": [
    {
     "data": {
      "text/html": [
       "<div>\n",
       "<style scoped>\n",
       "    .dataframe tbody tr th:only-of-type {\n",
       "        vertical-align: middle;\n",
       "    }\n",
       "\n",
       "    .dataframe tbody tr th {\n",
       "        vertical-align: top;\n",
       "    }\n",
       "\n",
       "    .dataframe thead th {\n",
       "        text-align: right;\n",
       "    }\n",
       "</style>\n",
       "<table border=\"1\" class=\"dataframe\">\n",
       "  <thead>\n",
       "    <tr style=\"text-align: right;\">\n",
       "      <th></th>\n",
       "      <th>userId</th>\n",
       "      <th>movieId</th>\n",
       "      <th>rating</th>\n",
       "    </tr>\n",
       "  </thead>\n",
       "  <tbody>\n",
       "    <tr>\n",
       "      <td>964</td>\n",
       "      <td>11</td>\n",
       "      <td>39</td>\n",
       "      <td>4.5</td>\n",
       "    </tr>\n",
       "    <tr>\n",
       "      <td>966</td>\n",
       "      <td>11</td>\n",
       "      <td>110</td>\n",
       "      <td>4.0</td>\n",
       "    </tr>\n",
       "    <tr>\n",
       "      <td>969</td>\n",
       "      <td>11</td>\n",
       "      <td>153</td>\n",
       "      <td>3.5</td>\n",
       "    </tr>\n",
       "    <tr>\n",
       "      <td>970</td>\n",
       "      <td>11</td>\n",
       "      <td>158</td>\n",
       "      <td>4.0</td>\n",
       "    </tr>\n",
       "    <tr>\n",
       "      <td>978</td>\n",
       "      <td>11</td>\n",
       "      <td>231</td>\n",
       "      <td>4.0</td>\n",
       "    </tr>\n",
       "    <tr>\n",
       "      <td>...</td>\n",
       "      <td>...</td>\n",
       "      <td>...</td>\n",
       "      <td>...</td>\n",
       "    </tr>\n",
       "    <tr>\n",
       "      <td>19991441</td>\n",
       "      <td>138424</td>\n",
       "      <td>480</td>\n",
       "      <td>5.0</td>\n",
       "    </tr>\n",
       "    <tr>\n",
       "      <td>19991460</td>\n",
       "      <td>138424</td>\n",
       "      <td>653</td>\n",
       "      <td>4.0</td>\n",
       "    </tr>\n",
       "    <tr>\n",
       "      <td>19991473</td>\n",
       "      <td>138424</td>\n",
       "      <td>1097</td>\n",
       "      <td>4.0</td>\n",
       "    </tr>\n",
       "    <tr>\n",
       "      <td>19991475</td>\n",
       "      <td>138424</td>\n",
       "      <td>1233</td>\n",
       "      <td>3.0</td>\n",
       "    </tr>\n",
       "    <tr>\n",
       "      <td>19994241</td>\n",
       "      <td>138448</td>\n",
       "      <td>380</td>\n",
       "      <td>4.0</td>\n",
       "    </tr>\n",
       "  </tbody>\n",
       "</table>\n",
       "<p>178474 rows × 3 columns</p>\n",
       "</div>"
      ],
      "text/plain": [
       "          userId  movieId  rating\n",
       "964           11       39     4.5\n",
       "966           11      110     4.0\n",
       "969           11      153     3.5\n",
       "970           11      158     4.0\n",
       "978           11      231     4.0\n",
       "...          ...      ...     ...\n",
       "19991441  138424      480     5.0\n",
       "19991460  138424      653     4.0\n",
       "19991473  138424     1097     4.0\n",
       "19991475  138424     1233     3.0\n",
       "19994241  138448      380     4.0\n",
       "\n",
       "[178474 rows x 3 columns]"
      ]
     },
     "execution_count": 48,
     "metadata": {},
     "output_type": "execute_result"
    }
   ],
   "source": [
    "sample = data['userId'].unique()\n",
    "sample_users = np.random.choice(sample, 10000)\n",
    "dataset = data.loc[data['userId'].isin(sample_users)]\n",
    "dataset"
   ]
  },
  {
   "cell_type": "code",
   "execution_count": 49,
   "metadata": {},
   "outputs": [
    {
     "data": {
      "text/plain": [
       "userId     1724\n",
       "movieId    1724\n",
       "rating     1724\n",
       "dtype: int64"
      ]
     },
     "execution_count": 49,
     "metadata": {},
     "output_type": "execute_result"
    }
   ],
   "source": [
    "dataset.groupby('movieId').nunique().count()"
   ]
  },
  {
   "cell_type": "code",
   "execution_count": 50,
   "metadata": {
    "scrolled": true
   },
   "outputs": [
    {
     "data": {
      "text/plain": [
       "userId     9667\n",
       "movieId    9667\n",
       "rating     9667\n",
       "dtype: int64"
      ]
     },
     "execution_count": 50,
     "metadata": {},
     "output_type": "execute_result"
    }
   ],
   "source": [
    "dataset.groupby('userId').nunique().count()"
   ]
  },
  {
   "cell_type": "markdown",
   "metadata": {},
   "source": [
    "Interesting, we only have 9,667 users instead of 10,000... But well, it will be enough for our study!\n",
    "The number of movies has reduced to 1,724."
   ]
  },
  {
   "cell_type": "markdown",
   "metadata": {},
   "source": [
    "Let us now split our datset in a train set and a test set. We will use both of them for the rest of our study in this homework:"
   ]
  },
  {
   "cell_type": "code",
   "execution_count": 51,
   "metadata": {},
   "outputs": [
    {
     "name": "stdout",
     "output_type": "stream",
     "text": [
      "142795 35679\n"
     ]
    }
   ],
   "source": [
    "dataset = spark.createDataFrame(dataset)\n",
    "(training, test) = dataset.randomSplit([0.8,0.2], seed=0)\n",
    "print(training.count(), test.count())"
   ]
  },
  {
   "cell_type": "markdown",
   "metadata": {},
   "source": [
    "## Statistics\n",
    "\n",
    "We can make some statistics about our new set of movies to better understand it. Here is the number of ratings each movie has:"
   ]
  },
  {
   "cell_type": "code",
   "execution_count": 52,
   "metadata": {},
   "outputs": [
    {
     "name": "stdout",
     "output_type": "stream",
     "text": [
      "+-------+------------------+\n",
      "|summary|             count|\n",
      "+-------+------------------+\n",
      "|  count|              1724|\n",
      "|   mean|103.52320185614849|\n",
      "| stddev|318.52276197573184|\n",
      "|    min|                 1|\n",
      "|    max|              4172|\n",
      "+-------+------------------+\n",
      "\n"
     ]
    }
   ],
   "source": [
    "stat = dataset.groupBy(\"movieId\").count().sort('count', ascending=False)\n",
    "stat.describe('count').show()"
   ]
  },
  {
   "cell_type": "markdown",
   "metadata": {},
   "source": [
    "Even though we kept a small part of the users, we still have at least 326 ratings per movie which is enough for our study."
   ]
  },
  {
   "cell_type": "markdown",
   "metadata": {},
   "source": [
    "Here we can see the number of ratings with respect to the number of movies:"
   ]
  },
  {
   "cell_type": "code",
   "execution_count": 53,
   "metadata": {},
   "outputs": [
    {
     "data": {
      "text/plain": [
       "array([[<matplotlib.axes._subplots.AxesSubplot object at 0x1117c9090>]],\n",
       "      dtype=object)"
      ]
     },
     "execution_count": 53,
     "metadata": {},
     "output_type": "execute_result"
    },
    {
     "data": {
      "image/png": "[encoded data removed]",
      "text/plain": [
       "<Figure size 432x288 with 1 Axes>"
      ]
     },
     "metadata": {
      "needs_background": "light"
     },
     "output_type": "display_data"
    }
   ],
   "source": [
    "%matplotlib inline\n",
    "import pandas as pd\n",
    "\n",
    "panda_stat = stat.toPandas()\n",
    "bin_ = [i*500 for i in range(10)]\n",
    "panda_stat.hist(column='count', bins=bin_)"
   ]
  },
  {
   "cell_type": "markdown",
   "metadata": {},
   "source": [
    "We can observe that the vast majority of the movies have less than 1,000 ratings and just a few of them have more ratings. This is the long tail effect: the popular movies (that represent a small proportion of the overall dataset) are far more rated than the other ones. "
   ]
  },
  {
   "cell_type": "markdown",
   "metadata": {},
   "source": [
    "# Metrics\n",
    "\n",
    "In this section, we will define the metrics functions which we will use later to assess the performances of our models:\n",
    "- MAE\n",
    "- RMSE\n",
    "- precision"
   ]
  },
  {
   "cell_type": "markdown",
   "metadata": {},
   "source": [
    "MAE and RMSE:"
   ]
  },
  {
   "cell_type": "code",
   "execution_count": 54,
   "metadata": {},
   "outputs": [],
   "source": [
    "from sklearn.metrics import mean_absolute_error, mean_squared_error\n",
    "import numpy as np\n",
    "\n",
    "def RMSE(y, y_predicted):\n",
    "    return np.sqrt(mean_squared_error(y, y_predicted))"
   ]
  },
  {
   "cell_type": "markdown",
   "metadata": {},
   "source": [
    "Precision:"
   ]
  },
  {
   "cell_type": "code",
   "execution_count": 55,
   "metadata": {},
   "outputs": [],
   "source": [
    "# Let us first create a function to transform our raw predictions into appropriate ones.\n",
    "def round_rating(x): \n",
    "    dec = x - int(x)\n",
    "    if (dec >= 0.25) and (dec < 0.75):\n",
    "        return int(x) + 0.5\n",
    "    else:\n",
    "        return int(x) + (dec > 0.5)\n",
    "\n",
    "# Precision function metric:\n",
    "def precision(y, y_predicted):\n",
    "    y_predicted = [round_rating(k) for k in y_predicted]       \n",
    "    TP = 0\n",
    "    for i in range(len(y)):\n",
    "        if y[i] == y_predicted[i]:\n",
    "            TP += 1\n",
    "    return TP/len(y)"
   ]
  },
  {
   "cell_type": "markdown",
   "metadata": {},
   "source": [
    "## Baseline Model"
   ]
  },
  {
   "cell_type": "markdown",
   "metadata": {},
   "source": [
    "We first need a baseline model to later compare the performances of our personalized models. We will use this one: \n",
    "<br><br>\n",
    "$$r_{ui}=\\mu$$\n",
    "<br>\n",
    "with $\\mu$: global average rating"
   ]
  },
  {
   "cell_type": "code",
   "execution_count": 56,
   "metadata": {},
   "outputs": [
    {
     "name": "stdout",
     "output_type": "stream",
     "text": [
      "+-------+-----------------+\n",
      "|summary|           rating|\n",
      "+-------+-----------------+\n",
      "|  count|           142795|\n",
      "|   mean|3.566161280156868|\n",
      "| stddev|1.051374063014604|\n",
      "|    min|              0.5|\n",
      "|    max|              5.0|\n",
      "+-------+-----------------+\n",
      "\n"
     ]
    }
   ],
   "source": [
    "training.describe(\"rating\").show()"
   ]
  },
  {
   "cell_type": "code",
   "execution_count": 57,
   "metadata": {},
   "outputs": [],
   "source": [
    "mu = 3.639545494108101"
   ]
  },
  {
   "cell_type": "code",
   "execution_count": 58,
   "metadata": {},
   "outputs": [],
   "source": [
    "def baseline_rating(userId, movieId):\n",
    "    return mu"
   ]
  },
  {
   "cell_type": "code",
   "execution_count": 59,
   "metadata": {},
   "outputs": [],
   "source": [
    "test_baseline = test.toPandas()"
   ]
  },
  {
   "cell_type": "code",
   "execution_count": 60,
   "metadata": {},
   "outputs": [
    {
     "name": "stdout",
     "output_type": "stream",
     "text": [
      "Time of the training: 1.1117608547210693\n"
     ]
    }
   ],
   "source": [
    "import time\n",
    "\n",
    "t0 = time.time()\n",
    "y_predicted = []\n",
    "for i in range(len(test_baseline.index)):\n",
    "    movieId = test_baseline.iloc[i, 1]\n",
    "    userId = test_baseline.iloc[i, 0]\n",
    "    y_predicted.append(baseline_rating(userId, movieId))\n",
    "t_baseline = time.time() - t0\n",
    "print (\"Time of the training:\", t_baseline)"
   ]
  },
  {
   "cell_type": "code",
   "execution_count": 61,
   "metadata": {},
   "outputs": [],
   "source": [
    "y = test_baseline['rating'].values"
   ]
  },
  {
   "cell_type": "code",
   "execution_count": 62,
   "metadata": {},
   "outputs": [
    {
     "data": {
      "text/html": [
       "<div>\n",
       "<style scoped>\n",
       "    .dataframe tbody tr th:only-of-type {\n",
       "        vertical-align: middle;\n",
       "    }\n",
       "\n",
       "    .dataframe tbody tr th {\n",
       "        vertical-align: top;\n",
       "    }\n",
       "\n",
       "    .dataframe thead th {\n",
       "        text-align: right;\n",
       "    }\n",
       "</style>\n",
       "<table border=\"1\" class=\"dataframe\">\n",
       "  <thead>\n",
       "    <tr style=\"text-align: right;\">\n",
       "      <th></th>\n",
       "      <th>userId</th>\n",
       "      <th>movieId</th>\n",
       "      <th>rating</th>\n",
       "      <th>baseline_rating</th>\n",
       "    </tr>\n",
       "  </thead>\n",
       "  <tbody>\n",
       "    <tr>\n",
       "      <td>0</td>\n",
       "      <td>11</td>\n",
       "      <td>39</td>\n",
       "      <td>4.5</td>\n",
       "      <td>3.639545</td>\n",
       "    </tr>\n",
       "    <tr>\n",
       "      <td>1</td>\n",
       "      <td>11</td>\n",
       "      <td>158</td>\n",
       "      <td>4.0</td>\n",
       "      <td>3.639545</td>\n",
       "    </tr>\n",
       "    <tr>\n",
       "      <td>2</td>\n",
       "      <td>11</td>\n",
       "      <td>380</td>\n",
       "      <td>5.0</td>\n",
       "      <td>3.639545</td>\n",
       "    </tr>\n",
       "    <tr>\n",
       "      <td>3</td>\n",
       "      <td>11</td>\n",
       "      <td>1862</td>\n",
       "      <td>1.0</td>\n",
       "      <td>3.639545</td>\n",
       "    </tr>\n",
       "    <tr>\n",
       "      <td>4</td>\n",
       "      <td>11</td>\n",
       "      <td>2124</td>\n",
       "      <td>3.5</td>\n",
       "      <td>3.639545</td>\n",
       "    </tr>\n",
       "  </tbody>\n",
       "</table>\n",
       "</div>"
      ],
      "text/plain": [
       "   userId  movieId  rating  baseline_rating\n",
       "0      11       39     4.5         3.639545\n",
       "1      11      158     4.0         3.639545\n",
       "2      11      380     5.0         3.639545\n",
       "3      11     1862     1.0         3.639545\n",
       "4      11     2124     3.5         3.639545"
      ]
     },
     "execution_count": 62,
     "metadata": {},
     "output_type": "execute_result"
    }
   ],
   "source": [
    "test_baseline['baseline_rating'] = y_predicted\n",
    "test_baseline.head()"
   ]
  },
  {
   "cell_type": "code",
   "execution_count": 63,
   "metadata": {},
   "outputs": [
    {
     "name": "stdout",
     "output_type": "stream",
     "text": [
      "MAE:  0.8394352025099436 \n",
      "RMSE:  1.04948481627348 \n",
      "precision:  0.10759830712744191 \n",
      "Running time:  1.1117608547210693\n"
     ]
    }
   ],
   "source": [
    "mae_baseline = mean_absolute_error(y, y_predicted)\n",
    "rmse_baseline = RMSE(y, y_predicted)\n",
    "precision_baseline = precision(y, y_predicted)\n",
    "\n",
    "print('MAE: ', mae_baseline, '\\nRMSE: ', rmse_baseline, '\\nprecision: ', precision_baseline, '\\nRunning time: ', t_baseline)"
   ]
  },
  {
   "cell_type": "markdown",
   "metadata": {},
   "source": [
    "We will compare the performances of our models with these values. "
   ]
  },
  {
   "cell_type": "markdown",
   "metadata": {},
   "source": [
    "## Memory Based: user-based model"
   ]
  },
  {
   "cell_type": "markdown",
   "metadata": {},
   "source": [
    "### Computing Similarity matrix\n",
    "\n",
    "Now we will focus on the training set to build an user similarity matrix, using the adjusted cosine similarity.\n",
    "\n",
    "Let's first adjust each row to remove the user bias.\n",
    "For that, we first compute the average rating per user, and we substract this average to each rating to obtain a non biased rating column:"
   ]
  },
  {
   "cell_type": "code",
   "execution_count": 64,
   "metadata": {},
   "outputs": [
    {
     "data": {
      "text/html": [
       "<div>\n",
       "<style scoped>\n",
       "    .dataframe tbody tr th:only-of-type {\n",
       "        vertical-align: middle;\n",
       "    }\n",
       "\n",
       "    .dataframe tbody tr th {\n",
       "        vertical-align: top;\n",
       "    }\n",
       "\n",
       "    .dataframe thead th {\n",
       "        text-align: right;\n",
       "    }\n",
       "</style>\n",
       "<table border=\"1\" class=\"dataframe\">\n",
       "  <thead>\n",
       "    <tr style=\"text-align: right;\">\n",
       "      <th></th>\n",
       "      <th>userId</th>\n",
       "      <th>rating_mean</th>\n",
       "    </tr>\n",
       "  </thead>\n",
       "  <tbody>\n",
       "    <tr>\n",
       "      <td>0</td>\n",
       "      <td>11</td>\n",
       "      <td>4.086957</td>\n",
       "    </tr>\n",
       "    <tr>\n",
       "      <td>1</td>\n",
       "      <td>50</td>\n",
       "      <td>4.000000</td>\n",
       "    </tr>\n",
       "    <tr>\n",
       "      <td>2</td>\n",
       "      <td>62</td>\n",
       "      <td>4.625000</td>\n",
       "    </tr>\n",
       "    <tr>\n",
       "      <td>3</td>\n",
       "      <td>82</td>\n",
       "      <td>4.148148</td>\n",
       "    </tr>\n",
       "    <tr>\n",
       "      <td>4</td>\n",
       "      <td>92</td>\n",
       "      <td>3.500000</td>\n",
       "    </tr>\n",
       "  </tbody>\n",
       "</table>\n",
       "</div>"
      ],
      "text/plain": [
       "   userId  rating_mean\n",
       "0      11     4.086957\n",
       "1      50     4.000000\n",
       "2      62     4.625000\n",
       "3      82     4.148148\n",
       "4      92     3.500000"
      ]
     },
     "execution_count": 64,
     "metadata": {},
     "output_type": "execute_result"
    }
   ],
   "source": [
    "Training = training.toPandas()\n",
    "Testing = test.toPandas()\n",
    "training_ratings_mean = Training.groupby('userId', as_index=False).mean().rename(columns = {'rating': 'rating_mean'})[['userId','rating_mean']]\n",
    "training_ratings_mean.head()"
   ]
  },
  {
   "cell_type": "code",
   "execution_count": 65,
   "metadata": {
    "scrolled": true
   },
   "outputs": [
    {
     "data": {
      "text/html": [
       "<div>\n",
       "<style scoped>\n",
       "    .dataframe tbody tr th:only-of-type {\n",
       "        vertical-align: middle;\n",
       "    }\n",
       "\n",
       "    .dataframe tbody tr th {\n",
       "        vertical-align: top;\n",
       "    }\n",
       "\n",
       "    .dataframe thead th {\n",
       "        text-align: right;\n",
       "    }\n",
       "</style>\n",
       "<table border=\"1\" class=\"dataframe\">\n",
       "  <thead>\n",
       "    <tr style=\"text-align: right;\">\n",
       "      <th></th>\n",
       "      <th>userId</th>\n",
       "      <th>movieId</th>\n",
       "      <th>rating</th>\n",
       "      <th>rating_mean</th>\n",
       "      <th>rating_adjusted</th>\n",
       "    </tr>\n",
       "  </thead>\n",
       "  <tbody>\n",
       "    <tr>\n",
       "      <td>0</td>\n",
       "      <td>11</td>\n",
       "      <td>110</td>\n",
       "      <td>4.0</td>\n",
       "      <td>4.086957</td>\n",
       "      <td>-0.086957</td>\n",
       "    </tr>\n",
       "    <tr>\n",
       "      <td>1</td>\n",
       "      <td>11</td>\n",
       "      <td>153</td>\n",
       "      <td>3.5</td>\n",
       "      <td>4.086957</td>\n",
       "      <td>-0.586957</td>\n",
       "    </tr>\n",
       "    <tr>\n",
       "      <td>2</td>\n",
       "      <td>11</td>\n",
       "      <td>231</td>\n",
       "      <td>4.0</td>\n",
       "      <td>4.086957</td>\n",
       "      <td>-0.086957</td>\n",
       "    </tr>\n",
       "    <tr>\n",
       "      <td>3</td>\n",
       "      <td>11</td>\n",
       "      <td>410</td>\n",
       "      <td>4.0</td>\n",
       "      <td>4.086957</td>\n",
       "      <td>-0.086957</td>\n",
       "    </tr>\n",
       "    <tr>\n",
       "      <td>4</td>\n",
       "      <td>11</td>\n",
       "      <td>480</td>\n",
       "      <td>5.0</td>\n",
       "      <td>4.086957</td>\n",
       "      <td>0.913043</td>\n",
       "    </tr>\n",
       "  </tbody>\n",
       "</table>\n",
       "</div>"
      ],
      "text/plain": [
       "   userId  movieId  rating  rating_mean  rating_adjusted\n",
       "0      11      110     4.0     4.086957        -0.086957\n",
       "1      11      153     3.5     4.086957        -0.586957\n",
       "2      11      231     4.0     4.086957        -0.086957\n",
       "3      11      410     4.0     4.086957        -0.086957\n",
       "4      11      480     5.0     4.086957         0.913043"
      ]
     },
     "execution_count": 65,
     "metadata": {},
     "output_type": "execute_result"
    }
   ],
   "source": [
    "training_adjusted_ratings = pd.merge(Training, training_ratings_mean, on='userId', how='left', sort=False)\n",
    "training_adjusted_ratings['rating_adjusted'] = training_adjusted_ratings['rating'] - training_adjusted_ratings['rating_mean']\n",
    "training_adjusted_ratings.head()"
   ]
  },
  {
   "cell_type": "code",
   "execution_count": 66,
   "metadata": {},
   "outputs": [
    {
     "data": {
      "text/html": [
       "<div>\n",
       "<style scoped>\n",
       "    .dataframe tbody tr th:only-of-type {\n",
       "        vertical-align: middle;\n",
       "    }\n",
       "\n",
       "    .dataframe tbody tr th {\n",
       "        vertical-align: top;\n",
       "    }\n",
       "\n",
       "    .dataframe thead th {\n",
       "        text-align: right;\n",
       "    }\n",
       "</style>\n",
       "<table border=\"1\" class=\"dataframe\">\n",
       "  <thead>\n",
       "    <tr style=\"text-align: right;\">\n",
       "      <th></th>\n",
       "      <th>movieId</th>\n",
       "      <th>userId</th>\n",
       "      <th>rating_adjusted</th>\n",
       "    </tr>\n",
       "  </thead>\n",
       "  <tbody>\n",
       "    <tr>\n",
       "      <td>0</td>\n",
       "      <td>110</td>\n",
       "      <td>11</td>\n",
       "      <td>-0.086957</td>\n",
       "    </tr>\n",
       "    <tr>\n",
       "      <td>1</td>\n",
       "      <td>153</td>\n",
       "      <td>11</td>\n",
       "      <td>-0.586957</td>\n",
       "    </tr>\n",
       "    <tr>\n",
       "      <td>2</td>\n",
       "      <td>231</td>\n",
       "      <td>11</td>\n",
       "      <td>-0.086957</td>\n",
       "    </tr>\n",
       "    <tr>\n",
       "      <td>3</td>\n",
       "      <td>410</td>\n",
       "      <td>11</td>\n",
       "      <td>-0.086957</td>\n",
       "    </tr>\n",
       "    <tr>\n",
       "      <td>4</td>\n",
       "      <td>480</td>\n",
       "      <td>11</td>\n",
       "      <td>0.913043</td>\n",
       "    </tr>\n",
       "  </tbody>\n",
       "</table>\n",
       "</div>"
      ],
      "text/plain": [
       "   movieId  userId  rating_adjusted\n",
       "0      110      11        -0.086957\n",
       "1      153      11        -0.586957\n",
       "2      231      11        -0.086957\n",
       "3      410      11        -0.086957\n",
       "4      480      11         0.913043"
      ]
     },
     "execution_count": 66,
     "metadata": {},
     "output_type": "execute_result"
    }
   ],
   "source": [
    "training_adjusted_ratings = training_adjusted_ratings[['movieId', 'userId', 'rating_adjusted']]\n",
    "training_adjusted_ratings.head()"
   ]
  },
  {
   "cell_type": "markdown",
   "metadata": {},
   "source": [
    "Here, the last column of the dataframe contains the adjusted rating on each user. We will then use this column to compute the similarity between each users using cosine similarity:\n",
    "- firstly, select two distinct users\n",
    "- secondly, isolate items that have been rated by both users\n",
    "- thirdly, apply similarity computation, which is defined as the following:\n",
    "\n",
    "$$sim(u,v) = \\frac{\\sum_{i \\in I}R_{u,i} R_{v,i}}{\\sqrt{\\sum_{i \\in I}R_{u,i}^2 R_{v,i}^2}}$$\n",
    "Where:\n",
    "- $R_{u,i}$ is the mean centered rating of item i given by user U\n",
    "- $I$ is the set of items that are rated by u and v\n",
    "\n",
    "In order to compute the similarity matrix, we will use the cosine_similarity method from the Sklearn library."
   ]
  },
  {
   "cell_type": "markdown",
   "metadata": {},
   "source": [
    "Let's first create our rating matrix. We put the userId in rows because we want to create an **user based** model. We can see that it is a very sparse matrix:"
   ]
  },
  {
   "cell_type": "code",
   "execution_count": 67,
   "metadata": {
    "scrolled": true
   },
   "outputs": [
    {
     "data": {
      "text/html": [
       "<div>\n",
       "<style scoped>\n",
       "    .dataframe tbody tr th:only-of-type {\n",
       "        vertical-align: middle;\n",
       "    }\n",
       "\n",
       "    .dataframe tbody tr th {\n",
       "        vertical-align: top;\n",
       "    }\n",
       "\n",
       "    .dataframe thead th {\n",
       "        text-align: right;\n",
       "    }\n",
       "</style>\n",
       "<table border=\"1\" class=\"dataframe\">\n",
       "  <thead>\n",
       "    <tr style=\"text-align: right;\">\n",
       "      <th>movieId</th>\n",
       "      <th>8</th>\n",
       "      <th>12</th>\n",
       "      <th>15</th>\n",
       "      <th>18</th>\n",
       "      <th>23</th>\n",
       "      <th>26</th>\n",
       "      <th>36</th>\n",
       "      <th>39</th>\n",
       "      <th>49</th>\n",
       "      <th>59</th>\n",
       "      <th>...</th>\n",
       "      <th>120450</th>\n",
       "      <th>120813</th>\n",
       "      <th>120934</th>\n",
       "      <th>128960</th>\n",
       "      <th>129340</th>\n",
       "      <th>129909</th>\n",
       "      <th>129923</th>\n",
       "      <th>129925</th>\n",
       "      <th>130292</th>\n",
       "      <th>130342</th>\n",
       "    </tr>\n",
       "    <tr>\n",
       "      <th>userId</th>\n",
       "      <th></th>\n",
       "      <th></th>\n",
       "      <th></th>\n",
       "      <th></th>\n",
       "      <th></th>\n",
       "      <th></th>\n",
       "      <th></th>\n",
       "      <th></th>\n",
       "      <th></th>\n",
       "      <th></th>\n",
       "      <th></th>\n",
       "      <th></th>\n",
       "      <th></th>\n",
       "      <th></th>\n",
       "      <th></th>\n",
       "      <th></th>\n",
       "      <th></th>\n",
       "      <th></th>\n",
       "      <th></th>\n",
       "      <th></th>\n",
       "      <th></th>\n",
       "    </tr>\n",
       "  </thead>\n",
       "  <tbody>\n",
       "    <tr>\n",
       "      <td>11</td>\n",
       "      <td>NaN</td>\n",
       "      <td>NaN</td>\n",
       "      <td>NaN</td>\n",
       "      <td>NaN</td>\n",
       "      <td>NaN</td>\n",
       "      <td>NaN</td>\n",
       "      <td>NaN</td>\n",
       "      <td>NaN</td>\n",
       "      <td>NaN</td>\n",
       "      <td>NaN</td>\n",
       "      <td>...</td>\n",
       "      <td>NaN</td>\n",
       "      <td>NaN</td>\n",
       "      <td>NaN</td>\n",
       "      <td>NaN</td>\n",
       "      <td>NaN</td>\n",
       "      <td>NaN</td>\n",
       "      <td>NaN</td>\n",
       "      <td>NaN</td>\n",
       "      <td>NaN</td>\n",
       "      <td>NaN</td>\n",
       "    </tr>\n",
       "    <tr>\n",
       "      <td>50</td>\n",
       "      <td>NaN</td>\n",
       "      <td>NaN</td>\n",
       "      <td>NaN</td>\n",
       "      <td>NaN</td>\n",
       "      <td>NaN</td>\n",
       "      <td>NaN</td>\n",
       "      <td>NaN</td>\n",
       "      <td>NaN</td>\n",
       "      <td>NaN</td>\n",
       "      <td>NaN</td>\n",
       "      <td>...</td>\n",
       "      <td>NaN</td>\n",
       "      <td>NaN</td>\n",
       "      <td>NaN</td>\n",
       "      <td>NaN</td>\n",
       "      <td>NaN</td>\n",
       "      <td>NaN</td>\n",
       "      <td>NaN</td>\n",
       "      <td>NaN</td>\n",
       "      <td>NaN</td>\n",
       "      <td>NaN</td>\n",
       "    </tr>\n",
       "    <tr>\n",
       "      <td>62</td>\n",
       "      <td>NaN</td>\n",
       "      <td>NaN</td>\n",
       "      <td>NaN</td>\n",
       "      <td>NaN</td>\n",
       "      <td>NaN</td>\n",
       "      <td>NaN</td>\n",
       "      <td>NaN</td>\n",
       "      <td>NaN</td>\n",
       "      <td>NaN</td>\n",
       "      <td>NaN</td>\n",
       "      <td>...</td>\n",
       "      <td>NaN</td>\n",
       "      <td>NaN</td>\n",
       "      <td>NaN</td>\n",
       "      <td>NaN</td>\n",
       "      <td>NaN</td>\n",
       "      <td>NaN</td>\n",
       "      <td>NaN</td>\n",
       "      <td>NaN</td>\n",
       "      <td>NaN</td>\n",
       "      <td>NaN</td>\n",
       "    </tr>\n",
       "    <tr>\n",
       "      <td>82</td>\n",
       "      <td>NaN</td>\n",
       "      <td>NaN</td>\n",
       "      <td>NaN</td>\n",
       "      <td>NaN</td>\n",
       "      <td>NaN</td>\n",
       "      <td>NaN</td>\n",
       "      <td>NaN</td>\n",
       "      <td>NaN</td>\n",
       "      <td>NaN</td>\n",
       "      <td>NaN</td>\n",
       "      <td>...</td>\n",
       "      <td>NaN</td>\n",
       "      <td>NaN</td>\n",
       "      <td>NaN</td>\n",
       "      <td>NaN</td>\n",
       "      <td>NaN</td>\n",
       "      <td>NaN</td>\n",
       "      <td>NaN</td>\n",
       "      <td>NaN</td>\n",
       "      <td>NaN</td>\n",
       "      <td>NaN</td>\n",
       "    </tr>\n",
       "    <tr>\n",
       "      <td>92</td>\n",
       "      <td>NaN</td>\n",
       "      <td>NaN</td>\n",
       "      <td>NaN</td>\n",
       "      <td>NaN</td>\n",
       "      <td>NaN</td>\n",
       "      <td>NaN</td>\n",
       "      <td>NaN</td>\n",
       "      <td>NaN</td>\n",
       "      <td>NaN</td>\n",
       "      <td>NaN</td>\n",
       "      <td>...</td>\n",
       "      <td>NaN</td>\n",
       "      <td>NaN</td>\n",
       "      <td>NaN</td>\n",
       "      <td>NaN</td>\n",
       "      <td>NaN</td>\n",
       "      <td>NaN</td>\n",
       "      <td>NaN</td>\n",
       "      <td>NaN</td>\n",
       "      <td>NaN</td>\n",
       "      <td>NaN</td>\n",
       "    </tr>\n",
       "  </tbody>\n",
       "</table>\n",
       "<p>5 rows × 1641 columns</p>\n",
       "</div>"
      ],
      "text/plain": [
       "movieId  8       12      15      18      23      26      36      39      \\\n",
       "userId                                                                    \n",
       "11          NaN     NaN     NaN     NaN     NaN     NaN     NaN     NaN   \n",
       "50          NaN     NaN     NaN     NaN     NaN     NaN     NaN     NaN   \n",
       "62          NaN     NaN     NaN     NaN     NaN     NaN     NaN     NaN   \n",
       "82          NaN     NaN     NaN     NaN     NaN     NaN     NaN     NaN   \n",
       "92          NaN     NaN     NaN     NaN     NaN     NaN     NaN     NaN   \n",
       "\n",
       "movieId  49      59      ...  120450  120813  120934  128960  129340  129909  \\\n",
       "userId                   ...                                                   \n",
       "11          NaN     NaN  ...     NaN     NaN     NaN     NaN     NaN     NaN   \n",
       "50          NaN     NaN  ...     NaN     NaN     NaN     NaN     NaN     NaN   \n",
       "62          NaN     NaN  ...     NaN     NaN     NaN     NaN     NaN     NaN   \n",
       "82          NaN     NaN  ...     NaN     NaN     NaN     NaN     NaN     NaN   \n",
       "92          NaN     NaN  ...     NaN     NaN     NaN     NaN     NaN     NaN   \n",
       "\n",
       "movieId  129923  129925  130292  130342  \n",
       "userId                                   \n",
       "11          NaN     NaN     NaN     NaN  \n",
       "50          NaN     NaN     NaN     NaN  \n",
       "62          NaN     NaN     NaN     NaN  \n",
       "82          NaN     NaN     NaN     NaN  \n",
       "92          NaN     NaN     NaN     NaN  \n",
       "\n",
       "[5 rows x 1641 columns]"
      ]
     },
     "execution_count": 67,
     "metadata": {},
     "output_type": "execute_result"
    }
   ],
   "source": [
    "# First the original ratings matrix, used to compute the predicted ratings\n",
    "training_rating_matrix = Training.pivot_table(values='rating', \n",
    "                                              index='userId', \n",
    "                                              columns='movieId')\n",
    "training_rating_matrix.head()"
   ]
  },
  {
   "cell_type": "code",
   "execution_count": 68,
   "metadata": {},
   "outputs": [
    {
     "data": {
      "text/html": [
       "<div>\n",
       "<style scoped>\n",
       "    .dataframe tbody tr th:only-of-type {\n",
       "        vertical-align: middle;\n",
       "    }\n",
       "\n",
       "    .dataframe tbody tr th {\n",
       "        vertical-align: top;\n",
       "    }\n",
       "\n",
       "    .dataframe thead th {\n",
       "        text-align: right;\n",
       "    }\n",
       "</style>\n",
       "<table border=\"1\" class=\"dataframe\">\n",
       "  <thead>\n",
       "    <tr style=\"text-align: right;\">\n",
       "      <th>movieId</th>\n",
       "      <th>8</th>\n",
       "      <th>12</th>\n",
       "      <th>15</th>\n",
       "      <th>18</th>\n",
       "      <th>23</th>\n",
       "      <th>26</th>\n",
       "      <th>36</th>\n",
       "      <th>39</th>\n",
       "      <th>49</th>\n",
       "      <th>59</th>\n",
       "      <th>...</th>\n",
       "      <th>120450</th>\n",
       "      <th>120813</th>\n",
       "      <th>120934</th>\n",
       "      <th>128960</th>\n",
       "      <th>129340</th>\n",
       "      <th>129909</th>\n",
       "      <th>129923</th>\n",
       "      <th>129925</th>\n",
       "      <th>130292</th>\n",
       "      <th>130342</th>\n",
       "    </tr>\n",
       "    <tr>\n",
       "      <th>userId</th>\n",
       "      <th></th>\n",
       "      <th></th>\n",
       "      <th></th>\n",
       "      <th></th>\n",
       "      <th></th>\n",
       "      <th></th>\n",
       "      <th></th>\n",
       "      <th></th>\n",
       "      <th></th>\n",
       "      <th></th>\n",
       "      <th></th>\n",
       "      <th></th>\n",
       "      <th></th>\n",
       "      <th></th>\n",
       "      <th></th>\n",
       "      <th></th>\n",
       "      <th></th>\n",
       "      <th></th>\n",
       "      <th></th>\n",
       "      <th></th>\n",
       "      <th></th>\n",
       "    </tr>\n",
       "  </thead>\n",
       "  <tbody>\n",
       "    <tr>\n",
       "      <td>11</td>\n",
       "      <td>NaN</td>\n",
       "      <td>NaN</td>\n",
       "      <td>NaN</td>\n",
       "      <td>NaN</td>\n",
       "      <td>NaN</td>\n",
       "      <td>NaN</td>\n",
       "      <td>NaN</td>\n",
       "      <td>NaN</td>\n",
       "      <td>NaN</td>\n",
       "      <td>NaN</td>\n",
       "      <td>...</td>\n",
       "      <td>NaN</td>\n",
       "      <td>NaN</td>\n",
       "      <td>NaN</td>\n",
       "      <td>NaN</td>\n",
       "      <td>NaN</td>\n",
       "      <td>NaN</td>\n",
       "      <td>NaN</td>\n",
       "      <td>NaN</td>\n",
       "      <td>NaN</td>\n",
       "      <td>NaN</td>\n",
       "    </tr>\n",
       "    <tr>\n",
       "      <td>50</td>\n",
       "      <td>NaN</td>\n",
       "      <td>NaN</td>\n",
       "      <td>NaN</td>\n",
       "      <td>NaN</td>\n",
       "      <td>NaN</td>\n",
       "      <td>NaN</td>\n",
       "      <td>NaN</td>\n",
       "      <td>NaN</td>\n",
       "      <td>NaN</td>\n",
       "      <td>NaN</td>\n",
       "      <td>...</td>\n",
       "      <td>NaN</td>\n",
       "      <td>NaN</td>\n",
       "      <td>NaN</td>\n",
       "      <td>NaN</td>\n",
       "      <td>NaN</td>\n",
       "      <td>NaN</td>\n",
       "      <td>NaN</td>\n",
       "      <td>NaN</td>\n",
       "      <td>NaN</td>\n",
       "      <td>NaN</td>\n",
       "    </tr>\n",
       "    <tr>\n",
       "      <td>62</td>\n",
       "      <td>NaN</td>\n",
       "      <td>NaN</td>\n",
       "      <td>NaN</td>\n",
       "      <td>NaN</td>\n",
       "      <td>NaN</td>\n",
       "      <td>NaN</td>\n",
       "      <td>NaN</td>\n",
       "      <td>NaN</td>\n",
       "      <td>NaN</td>\n",
       "      <td>NaN</td>\n",
       "      <td>...</td>\n",
       "      <td>NaN</td>\n",
       "      <td>NaN</td>\n",
       "      <td>NaN</td>\n",
       "      <td>NaN</td>\n",
       "      <td>NaN</td>\n",
       "      <td>NaN</td>\n",
       "      <td>NaN</td>\n",
       "      <td>NaN</td>\n",
       "      <td>NaN</td>\n",
       "      <td>NaN</td>\n",
       "    </tr>\n",
       "    <tr>\n",
       "      <td>82</td>\n",
       "      <td>NaN</td>\n",
       "      <td>NaN</td>\n",
       "      <td>NaN</td>\n",
       "      <td>NaN</td>\n",
       "      <td>NaN</td>\n",
       "      <td>NaN</td>\n",
       "      <td>NaN</td>\n",
       "      <td>NaN</td>\n",
       "      <td>NaN</td>\n",
       "      <td>NaN</td>\n",
       "      <td>...</td>\n",
       "      <td>NaN</td>\n",
       "      <td>NaN</td>\n",
       "      <td>NaN</td>\n",
       "      <td>NaN</td>\n",
       "      <td>NaN</td>\n",
       "      <td>NaN</td>\n",
       "      <td>NaN</td>\n",
       "      <td>NaN</td>\n",
       "      <td>NaN</td>\n",
       "      <td>NaN</td>\n",
       "    </tr>\n",
       "    <tr>\n",
       "      <td>92</td>\n",
       "      <td>NaN</td>\n",
       "      <td>NaN</td>\n",
       "      <td>NaN</td>\n",
       "      <td>NaN</td>\n",
       "      <td>NaN</td>\n",
       "      <td>NaN</td>\n",
       "      <td>NaN</td>\n",
       "      <td>NaN</td>\n",
       "      <td>NaN</td>\n",
       "      <td>NaN</td>\n",
       "      <td>...</td>\n",
       "      <td>NaN</td>\n",
       "      <td>NaN</td>\n",
       "      <td>NaN</td>\n",
       "      <td>NaN</td>\n",
       "      <td>NaN</td>\n",
       "      <td>NaN</td>\n",
       "      <td>NaN</td>\n",
       "      <td>NaN</td>\n",
       "      <td>NaN</td>\n",
       "      <td>NaN</td>\n",
       "    </tr>\n",
       "  </tbody>\n",
       "</table>\n",
       "<p>5 rows × 1641 columns</p>\n",
       "</div>"
      ],
      "text/plain": [
       "movieId  8       12      15      18      23      26      36      39      \\\n",
       "userId                                                                    \n",
       "11          NaN     NaN     NaN     NaN     NaN     NaN     NaN     NaN   \n",
       "50          NaN     NaN     NaN     NaN     NaN     NaN     NaN     NaN   \n",
       "62          NaN     NaN     NaN     NaN     NaN     NaN     NaN     NaN   \n",
       "82          NaN     NaN     NaN     NaN     NaN     NaN     NaN     NaN   \n",
       "92          NaN     NaN     NaN     NaN     NaN     NaN     NaN     NaN   \n",
       "\n",
       "movieId  49      59      ...  120450  120813  120934  128960  129340  129909  \\\n",
       "userId                   ...                                                   \n",
       "11          NaN     NaN  ...     NaN     NaN     NaN     NaN     NaN     NaN   \n",
       "50          NaN     NaN  ...     NaN     NaN     NaN     NaN     NaN     NaN   \n",
       "62          NaN     NaN  ...     NaN     NaN     NaN     NaN     NaN     NaN   \n",
       "82          NaN     NaN  ...     NaN     NaN     NaN     NaN     NaN     NaN   \n",
       "92          NaN     NaN  ...     NaN     NaN     NaN     NaN     NaN     NaN   \n",
       "\n",
       "movieId  129923  129925  130292  130342  \n",
       "userId                                   \n",
       "11          NaN     NaN     NaN     NaN  \n",
       "50          NaN     NaN     NaN     NaN  \n",
       "62          NaN     NaN     NaN     NaN  \n",
       "82          NaN     NaN     NaN     NaN  \n",
       "92          NaN     NaN     NaN     NaN  \n",
       "\n",
       "[5 rows x 1641 columns]"
      ]
     },
     "execution_count": 68,
     "metadata": {},
     "output_type": "execute_result"
    }
   ],
   "source": [
    "# Second the adusted rating matrix, used to compute the similarities between movies\n",
    "training_adjusted_rating_matrix = training_adjusted_ratings.pivot_table(values='rating_adjusted', \n",
    "                                                                        index='userId', \n",
    "                                                                        columns='movieId')\n",
    "training_adjusted_rating_matrix.head()"
   ]
  },
  {
   "cell_type": "code",
   "execution_count": 69,
   "metadata": {},
   "outputs": [
    {
     "data": {
      "text/html": [
       "<div>\n",
       "<style scoped>\n",
       "    .dataframe tbody tr th:only-of-type {\n",
       "        vertical-align: middle;\n",
       "    }\n",
       "\n",
       "    .dataframe tbody tr th {\n",
       "        vertical-align: top;\n",
       "    }\n",
       "\n",
       "    .dataframe thead th {\n",
       "        text-align: right;\n",
       "    }\n",
       "</style>\n",
       "<table border=\"1\" class=\"dataframe\">\n",
       "  <thead>\n",
       "    <tr style=\"text-align: right;\">\n",
       "      <th>movieId</th>\n",
       "      <th>8</th>\n",
       "      <th>12</th>\n",
       "      <th>15</th>\n",
       "      <th>18</th>\n",
       "      <th>23</th>\n",
       "      <th>26</th>\n",
       "      <th>36</th>\n",
       "      <th>39</th>\n",
       "      <th>49</th>\n",
       "      <th>59</th>\n",
       "      <th>...</th>\n",
       "      <th>120450</th>\n",
       "      <th>120813</th>\n",
       "      <th>120934</th>\n",
       "      <th>128960</th>\n",
       "      <th>129340</th>\n",
       "      <th>129909</th>\n",
       "      <th>129923</th>\n",
       "      <th>129925</th>\n",
       "      <th>130292</th>\n",
       "      <th>130342</th>\n",
       "    </tr>\n",
       "    <tr>\n",
       "      <th>userId</th>\n",
       "      <th></th>\n",
       "      <th></th>\n",
       "      <th></th>\n",
       "      <th></th>\n",
       "      <th></th>\n",
       "      <th></th>\n",
       "      <th></th>\n",
       "      <th></th>\n",
       "      <th></th>\n",
       "      <th></th>\n",
       "      <th></th>\n",
       "      <th></th>\n",
       "      <th></th>\n",
       "      <th></th>\n",
       "      <th></th>\n",
       "      <th></th>\n",
       "      <th></th>\n",
       "      <th></th>\n",
       "      <th></th>\n",
       "      <th></th>\n",
       "      <th></th>\n",
       "    </tr>\n",
       "  </thead>\n",
       "  <tbody>\n",
       "    <tr>\n",
       "      <td>11</td>\n",
       "      <td>0.0</td>\n",
       "      <td>0.0</td>\n",
       "      <td>0.0</td>\n",
       "      <td>0.0</td>\n",
       "      <td>0.0</td>\n",
       "      <td>0.0</td>\n",
       "      <td>0.0</td>\n",
       "      <td>0.0</td>\n",
       "      <td>0.0</td>\n",
       "      <td>0.0</td>\n",
       "      <td>...</td>\n",
       "      <td>0.0</td>\n",
       "      <td>0.0</td>\n",
       "      <td>0.0</td>\n",
       "      <td>0.0</td>\n",
       "      <td>0.0</td>\n",
       "      <td>0.0</td>\n",
       "      <td>0.0</td>\n",
       "      <td>0.0</td>\n",
       "      <td>0.0</td>\n",
       "      <td>0.0</td>\n",
       "    </tr>\n",
       "    <tr>\n",
       "      <td>50</td>\n",
       "      <td>0.0</td>\n",
       "      <td>0.0</td>\n",
       "      <td>0.0</td>\n",
       "      <td>0.0</td>\n",
       "      <td>0.0</td>\n",
       "      <td>0.0</td>\n",
       "      <td>0.0</td>\n",
       "      <td>0.0</td>\n",
       "      <td>0.0</td>\n",
       "      <td>0.0</td>\n",
       "      <td>...</td>\n",
       "      <td>0.0</td>\n",
       "      <td>0.0</td>\n",
       "      <td>0.0</td>\n",
       "      <td>0.0</td>\n",
       "      <td>0.0</td>\n",
       "      <td>0.0</td>\n",
       "      <td>0.0</td>\n",
       "      <td>0.0</td>\n",
       "      <td>0.0</td>\n",
       "      <td>0.0</td>\n",
       "    </tr>\n",
       "    <tr>\n",
       "      <td>62</td>\n",
       "      <td>0.0</td>\n",
       "      <td>0.0</td>\n",
       "      <td>0.0</td>\n",
       "      <td>0.0</td>\n",
       "      <td>0.0</td>\n",
       "      <td>0.0</td>\n",
       "      <td>0.0</td>\n",
       "      <td>0.0</td>\n",
       "      <td>0.0</td>\n",
       "      <td>0.0</td>\n",
       "      <td>...</td>\n",
       "      <td>0.0</td>\n",
       "      <td>0.0</td>\n",
       "      <td>0.0</td>\n",
       "      <td>0.0</td>\n",
       "      <td>0.0</td>\n",
       "      <td>0.0</td>\n",
       "      <td>0.0</td>\n",
       "      <td>0.0</td>\n",
       "      <td>0.0</td>\n",
       "      <td>0.0</td>\n",
       "    </tr>\n",
       "    <tr>\n",
       "      <td>82</td>\n",
       "      <td>0.0</td>\n",
       "      <td>0.0</td>\n",
       "      <td>0.0</td>\n",
       "      <td>0.0</td>\n",
       "      <td>0.0</td>\n",
       "      <td>0.0</td>\n",
       "      <td>0.0</td>\n",
       "      <td>0.0</td>\n",
       "      <td>0.0</td>\n",
       "      <td>0.0</td>\n",
       "      <td>...</td>\n",
       "      <td>0.0</td>\n",
       "      <td>0.0</td>\n",
       "      <td>0.0</td>\n",
       "      <td>0.0</td>\n",
       "      <td>0.0</td>\n",
       "      <td>0.0</td>\n",
       "      <td>0.0</td>\n",
       "      <td>0.0</td>\n",
       "      <td>0.0</td>\n",
       "      <td>0.0</td>\n",
       "    </tr>\n",
       "    <tr>\n",
       "      <td>92</td>\n",
       "      <td>0.0</td>\n",
       "      <td>0.0</td>\n",
       "      <td>0.0</td>\n",
       "      <td>0.0</td>\n",
       "      <td>0.0</td>\n",
       "      <td>0.0</td>\n",
       "      <td>0.0</td>\n",
       "      <td>0.0</td>\n",
       "      <td>0.0</td>\n",
       "      <td>0.0</td>\n",
       "      <td>...</td>\n",
       "      <td>0.0</td>\n",
       "      <td>0.0</td>\n",
       "      <td>0.0</td>\n",
       "      <td>0.0</td>\n",
       "      <td>0.0</td>\n",
       "      <td>0.0</td>\n",
       "      <td>0.0</td>\n",
       "      <td>0.0</td>\n",
       "      <td>0.0</td>\n",
       "      <td>0.0</td>\n",
       "    </tr>\n",
       "  </tbody>\n",
       "</table>\n",
       "<p>5 rows × 1641 columns</p>\n",
       "</div>"
      ],
      "text/plain": [
       "movieId  8       12      15      18      23      26      36      39      \\\n",
       "userId                                                                    \n",
       "11          0.0     0.0     0.0     0.0     0.0     0.0     0.0     0.0   \n",
       "50          0.0     0.0     0.0     0.0     0.0     0.0     0.0     0.0   \n",
       "62          0.0     0.0     0.0     0.0     0.0     0.0     0.0     0.0   \n",
       "82          0.0     0.0     0.0     0.0     0.0     0.0     0.0     0.0   \n",
       "92          0.0     0.0     0.0     0.0     0.0     0.0     0.0     0.0   \n",
       "\n",
       "movieId  49      59      ...  120450  120813  120934  128960  129340  129909  \\\n",
       "userId                   ...                                                   \n",
       "11          0.0     0.0  ...     0.0     0.0     0.0     0.0     0.0     0.0   \n",
       "50          0.0     0.0  ...     0.0     0.0     0.0     0.0     0.0     0.0   \n",
       "62          0.0     0.0  ...     0.0     0.0     0.0     0.0     0.0     0.0   \n",
       "82          0.0     0.0  ...     0.0     0.0     0.0     0.0     0.0     0.0   \n",
       "92          0.0     0.0  ...     0.0     0.0     0.0     0.0     0.0     0.0   \n",
       "\n",
       "movieId  129923  129925  130292  130342  \n",
       "userId                                   \n",
       "11          0.0     0.0     0.0     0.0  \n",
       "50          0.0     0.0     0.0     0.0  \n",
       "62          0.0     0.0     0.0     0.0  \n",
       "82          0.0     0.0     0.0     0.0  \n",
       "92          0.0     0.0     0.0     0.0  \n",
       "\n",
       "[5 rows x 1641 columns]"
      ]
     },
     "execution_count": 69,
     "metadata": {},
     "output_type": "execute_result"
    }
   ],
   "source": [
    "# Creating a dummy matrix with 0 instead of Nan\n",
    "\n",
    "dummy_training_adjusted_rating_matrix = training_adjusted_rating_matrix.copy().fillna(0)\n",
    "dummy_training_adjusted_rating_matrix.head()"
   ]
  },
  {
   "cell_type": "code",
   "execution_count": 70,
   "metadata": {},
   "outputs": [],
   "source": [
    "# Importing the cosine similarity method from the Sklearn library\n",
    "from sklearn.metrics.pairwise import cosine_similarity\n",
    "\n",
    "# Computing the similarities\n",
    "cosine_similarity = cosine_similarity(dummy_training_adjusted_rating_matrix, dummy_training_adjusted_rating_matrix)"
   ]
  },
  {
   "cell_type": "code",
   "execution_count": 71,
   "metadata": {},
   "outputs": [
    {
     "data": {
      "text/html": [
       "<div>\n",
       "<style scoped>\n",
       "    .dataframe tbody tr th:only-of-type {\n",
       "        vertical-align: middle;\n",
       "    }\n",
       "\n",
       "    .dataframe tbody tr th {\n",
       "        vertical-align: top;\n",
       "    }\n",
       "\n",
       "    .dataframe thead th {\n",
       "        text-align: right;\n",
       "    }\n",
       "</style>\n",
       "<table border=\"1\" class=\"dataframe\">\n",
       "  <thead>\n",
       "    <tr style=\"text-align: right;\">\n",
       "      <th>userId</th>\n",
       "      <th>11</th>\n",
       "      <th>50</th>\n",
       "      <th>62</th>\n",
       "      <th>82</th>\n",
       "      <th>92</th>\n",
       "      <th>114</th>\n",
       "      <th>125</th>\n",
       "      <th>128</th>\n",
       "      <th>159</th>\n",
       "      <th>164</th>\n",
       "      <th>...</th>\n",
       "      <th>138316</th>\n",
       "      <th>138331</th>\n",
       "      <th>138345</th>\n",
       "      <th>138367</th>\n",
       "      <th>138370</th>\n",
       "      <th>138379</th>\n",
       "      <th>138414</th>\n",
       "      <th>138423</th>\n",
       "      <th>138424</th>\n",
       "      <th>138448</th>\n",
       "    </tr>\n",
       "    <tr>\n",
       "      <th>userId</th>\n",
       "      <th></th>\n",
       "      <th></th>\n",
       "      <th></th>\n",
       "      <th></th>\n",
       "      <th></th>\n",
       "      <th></th>\n",
       "      <th></th>\n",
       "      <th></th>\n",
       "      <th></th>\n",
       "      <th></th>\n",
       "      <th></th>\n",
       "      <th></th>\n",
       "      <th></th>\n",
       "      <th></th>\n",
       "      <th></th>\n",
       "      <th></th>\n",
       "      <th></th>\n",
       "      <th></th>\n",
       "      <th></th>\n",
       "      <th></th>\n",
       "      <th></th>\n",
       "    </tr>\n",
       "  </thead>\n",
       "  <tbody>\n",
       "    <tr>\n",
       "      <td>11</td>\n",
       "      <td>1.000000</td>\n",
       "      <td>0.020519</td>\n",
       "      <td>0.0</td>\n",
       "      <td>-0.024813</td>\n",
       "      <td>0.00</td>\n",
       "      <td>0.0</td>\n",
       "      <td>0.0</td>\n",
       "      <td>0.087555</td>\n",
       "      <td>-2.724801e-18</td>\n",
       "      <td>0.012245</td>\n",
       "      <td>...</td>\n",
       "      <td>0.0000</td>\n",
       "      <td>0.099354</td>\n",
       "      <td>0.0</td>\n",
       "      <td>0.038657</td>\n",
       "      <td>0.081055</td>\n",
       "      <td>0.0</td>\n",
       "      <td>-0.037505</td>\n",
       "      <td>0.000000</td>\n",
       "      <td>0.099595</td>\n",
       "      <td>0.0</td>\n",
       "    </tr>\n",
       "    <tr>\n",
       "      <td>50</td>\n",
       "      <td>0.020519</td>\n",
       "      <td>1.000000</td>\n",
       "      <td>0.0</td>\n",
       "      <td>-0.111401</td>\n",
       "      <td>0.25</td>\n",
       "      <td>0.0</td>\n",
       "      <td>0.0</td>\n",
       "      <td>0.000000</td>\n",
       "      <td>0.000000e+00</td>\n",
       "      <td>0.000000</td>\n",
       "      <td>...</td>\n",
       "      <td>0.0000</td>\n",
       "      <td>0.000000</td>\n",
       "      <td>0.0</td>\n",
       "      <td>0.000000</td>\n",
       "      <td>0.000000</td>\n",
       "      <td>0.0</td>\n",
       "      <td>0.000000</td>\n",
       "      <td>0.000000</td>\n",
       "      <td>0.000000</td>\n",
       "      <td>0.0</td>\n",
       "    </tr>\n",
       "    <tr>\n",
       "      <td>62</td>\n",
       "      <td>0.000000</td>\n",
       "      <td>0.000000</td>\n",
       "      <td>1.0</td>\n",
       "      <td>0.000000</td>\n",
       "      <td>0.00</td>\n",
       "      <td>0.0</td>\n",
       "      <td>0.0</td>\n",
       "      <td>0.000000</td>\n",
       "      <td>0.000000e+00</td>\n",
       "      <td>0.000000</td>\n",
       "      <td>...</td>\n",
       "      <td>-0.1066</td>\n",
       "      <td>0.000000</td>\n",
       "      <td>0.0</td>\n",
       "      <td>0.000000</td>\n",
       "      <td>0.000000</td>\n",
       "      <td>0.0</td>\n",
       "      <td>0.000000</td>\n",
       "      <td>0.307729</td>\n",
       "      <td>0.000000</td>\n",
       "      <td>0.0</td>\n",
       "    </tr>\n",
       "    <tr>\n",
       "      <td>82</td>\n",
       "      <td>-0.024813</td>\n",
       "      <td>-0.111401</td>\n",
       "      <td>0.0</td>\n",
       "      <td>1.000000</td>\n",
       "      <td>0.00</td>\n",
       "      <td>0.0</td>\n",
       "      <td>0.0</td>\n",
       "      <td>0.072500</td>\n",
       "      <td>0.000000e+00</td>\n",
       "      <td>0.132661</td>\n",
       "      <td>...</td>\n",
       "      <td>0.0000</td>\n",
       "      <td>0.000000</td>\n",
       "      <td>0.0</td>\n",
       "      <td>0.000000</td>\n",
       "      <td>0.081057</td>\n",
       "      <td>0.0</td>\n",
       "      <td>-0.016942</td>\n",
       "      <td>0.000000</td>\n",
       "      <td>0.000000</td>\n",
       "      <td>0.0</td>\n",
       "    </tr>\n",
       "    <tr>\n",
       "      <td>92</td>\n",
       "      <td>0.000000</td>\n",
       "      <td>0.250000</td>\n",
       "      <td>0.0</td>\n",
       "      <td>0.000000</td>\n",
       "      <td>1.00</td>\n",
       "      <td>0.0</td>\n",
       "      <td>0.0</td>\n",
       "      <td>0.000000</td>\n",
       "      <td>0.000000e+00</td>\n",
       "      <td>0.000000</td>\n",
       "      <td>...</td>\n",
       "      <td>0.0000</td>\n",
       "      <td>0.000000</td>\n",
       "      <td>0.0</td>\n",
       "      <td>0.000000</td>\n",
       "      <td>0.000000</td>\n",
       "      <td>0.0</td>\n",
       "      <td>0.000000</td>\n",
       "      <td>0.000000</td>\n",
       "      <td>0.000000</td>\n",
       "      <td>0.0</td>\n",
       "    </tr>\n",
       "  </tbody>\n",
       "</table>\n",
       "<p>5 rows × 9577 columns</p>\n",
       "</div>"
      ],
      "text/plain": [
       "userId    11        50      62        82      92      114     125     \\\n",
       "userId                                                                 \n",
       "11      1.000000  0.020519     0.0 -0.024813    0.00     0.0     0.0   \n",
       "50      0.020519  1.000000     0.0 -0.111401    0.25     0.0     0.0   \n",
       "62      0.000000  0.000000     1.0  0.000000    0.00     0.0     0.0   \n",
       "82     -0.024813 -0.111401     0.0  1.000000    0.00     0.0     0.0   \n",
       "92      0.000000  0.250000     0.0  0.000000    1.00     0.0     0.0   \n",
       "\n",
       "userId    128           159       164     ...  138316    138331  138345  \\\n",
       "userId                                    ...                             \n",
       "11      0.087555 -2.724801e-18  0.012245  ...  0.0000  0.099354     0.0   \n",
       "50      0.000000  0.000000e+00  0.000000  ...  0.0000  0.000000     0.0   \n",
       "62      0.000000  0.000000e+00  0.000000  ... -0.1066  0.000000     0.0   \n",
       "82      0.072500  0.000000e+00  0.132661  ...  0.0000  0.000000     0.0   \n",
       "92      0.000000  0.000000e+00  0.000000  ...  0.0000  0.000000     0.0   \n",
       "\n",
       "userId    138367    138370  138379    138414    138423    138424  138448  \n",
       "userId                                                                    \n",
       "11      0.038657  0.081055     0.0 -0.037505  0.000000  0.099595     0.0  \n",
       "50      0.000000  0.000000     0.0  0.000000  0.000000  0.000000     0.0  \n",
       "62      0.000000  0.000000     0.0  0.000000  0.307729  0.000000     0.0  \n",
       "82      0.000000  0.081057     0.0 -0.016942  0.000000  0.000000     0.0  \n",
       "92      0.000000  0.000000     0.0  0.000000  0.000000  0.000000     0.0  \n",
       "\n",
       "[5 rows x 9577 columns]"
      ]
     },
     "execution_count": 71,
     "metadata": {},
     "output_type": "execute_result"
    }
   ],
   "source": [
    "# converting the cosine similarity into a similarity matrix\n",
    "cosine_similarity = pd.DataFrame(cosine_similarity, \n",
    "                                 index=dummy_training_adjusted_rating_matrix.index, \n",
    "                                 columns=dummy_training_adjusted_rating_matrix.index)\n",
    "cosine_similarity.head()"
   ]
  },
  {
   "cell_type": "markdown",
   "metadata": {},
   "source": [
    "### Computing predicted ratings\n",
    "\n",
    "Now we can complete the rating matrix by computing each missing rating using weighted mean ratings. \n",
    "More precisely, each missing entry is given by : \n",
    "\n",
    "$$ r_{u,i} = \\frac{\\sum_{i \\in N}Similarity_{u,v} * r_{v,i}}{\\sum_{j \\in N}\\mid\\mid Similarity_{u,v} \\mid\\mid } $$\n",
    "\n",
    "where $N$ is the set of users that have rated $i$."
   ]
  },
  {
   "cell_type": "code",
   "execution_count": 74,
   "metadata": {},
   "outputs": [],
   "source": [
    "import heapq\n",
    "def user_based_collab(userId, movieId, k=10):\n",
    "    \n",
    "    # First check if the user is in the training set. Otherwise we do not have computed similarities for her.\n",
    "    if userId in training_rating_matrix.index and movieId in training_rating_matrix:\n",
    "        \n",
    "        # get the similarities between the movie and the other movies\n",
    "        user_similarities = cosine_similarity[userId]\n",
    "        #print('User Similarities: ', user_similarities)\n",
    "        \n",
    "        # Get all the other users' ratings for this movie\n",
    "        other_users_ratings = training_rating_matrix[movieId]\n",
    "        #print('other users ratings: ', other_users_ratings)\n",
    "        \n",
    "        # Remove the NaN from the users' ratings and from the similarity vector\n",
    "        nan_index = other_users_ratings[other_users_ratings.isnull()].index\n",
    "        other_users_ratings = other_users_ratings.dropna()\n",
    "        user_similarities = user_similarities.drop(nan_index)\n",
    "        #print('DROPING NAN')\n",
    "        #print('User Similarities: ', user_similarities)\n",
    "        #print('other users ratings: ', other_users_ratings)\n",
    "        \n",
    "        # take k nearest neighbors\n",
    "        k_index = user_similarities[user_similarities.isin(heapq.nlargest(k, user_similarities))].index\n",
    "        other_users_ratings = other_users_ratings[k_index]\n",
    "        user_similarities = user_similarities[k_index]\n",
    "        #print('TAKING K NEAREST')\n",
    "        #print('User Similarities: ', user_similarities)\n",
    "        #print('other users ratings: ', other_users_ratings)\n",
    "           \n",
    "        \n",
    "        # Compute the predicted rating\n",
    "        s = 0\n",
    "        for sim in user_similarities:\n",
    "            s += abs(sim)\n",
    "        if s > 0:\n",
    "            return np.dot(user_similarities, other_users_ratings) / s\n",
    "        else:\n",
    "            return mu\n",
    "    \n",
    "        \n",
    "    # If the user or the movie were not in the training set, return the average rating\n",
    "    else:\n",
    "        return mu"
   ]
  },
  {
   "cell_type": "code",
   "execution_count": 75,
   "metadata": {},
   "outputs": [
    {
     "name": "stdout",
     "output_type": "stream",
     "text": [
      "0.0\n",
      "0.011228700558627853\n",
      "0.022457401117255707\n",
      "0.03368610167588356\n",
      "0.044914802234511414\n",
      "0.05614350279313926\n",
      "0.06737220335176712\n",
      "0.07860090391039497\n",
      "0.08982960446902283\n",
      "0.10105830502765067\n",
      "0.11228700558627852\n",
      "0.12351570614490638\n",
      "0.13474440670353424\n",
      "0.1459731072621621\n",
      "0.15720180782078993\n",
      "0.16843050837941778\n",
      "0.17965920893804566\n",
      "0.1908879094966735\n",
      "Time of the training: 246.2354609966278\n"
     ]
    }
   ],
   "source": [
    "t0 = time.time()\n",
    "predictions_user_based =[]\n",
    "timecheck = 0\n",
    "for row in Testing.index:\n",
    "    if timecheck % 2000 ==0: ####################### A ENLEVER ##################\n",
    "        print(timecheck / 178115)\n",
    "        \n",
    "    userId = Testing.loc[row, 'userId']\n",
    "    movieId = Testing.loc[row, 'movieId']\n",
    "    rating = user_based_collab(userId, movieId)\n",
    "    #print(rating)\n",
    "    predictions_user_based.append(rating)\n",
    "    timecheck += 1\n",
    "t_user_based = time.time() - t0\n",
    "print (\"Time of the training:\", t_user_based)"
   ]
  },
  {
   "cell_type": "code",
   "execution_count": 76,
   "metadata": {},
   "outputs": [
    {
     "data": {
      "text/html": [
       "<div>\n",
       "<style scoped>\n",
       "    .dataframe tbody tr th:only-of-type {\n",
       "        vertical-align: middle;\n",
       "    }\n",
       "\n",
       "    .dataframe tbody tr th {\n",
       "        vertical-align: top;\n",
       "    }\n",
       "\n",
       "    .dataframe thead th {\n",
       "        text-align: right;\n",
       "    }\n",
       "</style>\n",
       "<table border=\"1\" class=\"dataframe\">\n",
       "  <thead>\n",
       "    <tr style=\"text-align: right;\">\n",
       "      <th></th>\n",
       "      <th>userId</th>\n",
       "      <th>movieId</th>\n",
       "      <th>rating</th>\n",
       "      <th>User_based_predictions</th>\n",
       "    </tr>\n",
       "  </thead>\n",
       "  <tbody>\n",
       "    <tr>\n",
       "      <td>0</td>\n",
       "      <td>11</td>\n",
       "      <td>39</td>\n",
       "      <td>4.5</td>\n",
       "      <td>3.837469</td>\n",
       "    </tr>\n",
       "    <tr>\n",
       "      <td>1</td>\n",
       "      <td>11</td>\n",
       "      <td>158</td>\n",
       "      <td>4.0</td>\n",
       "      <td>2.658506</td>\n",
       "    </tr>\n",
       "    <tr>\n",
       "      <td>2</td>\n",
       "      <td>11</td>\n",
       "      <td>380</td>\n",
       "      <td>5.0</td>\n",
       "      <td>3.311402</td>\n",
       "    </tr>\n",
       "    <tr>\n",
       "      <td>3</td>\n",
       "      <td>11</td>\n",
       "      <td>1862</td>\n",
       "      <td>1.0</td>\n",
       "      <td>2.245200</td>\n",
       "    </tr>\n",
       "    <tr>\n",
       "      <td>4</td>\n",
       "      <td>11</td>\n",
       "      <td>2124</td>\n",
       "      <td>3.5</td>\n",
       "      <td>3.443820</td>\n",
       "    </tr>\n",
       "    <tr>\n",
       "      <td>...</td>\n",
       "      <td>...</td>\n",
       "      <td>...</td>\n",
       "      <td>...</td>\n",
       "      <td>...</td>\n",
       "    </tr>\n",
       "    <tr>\n",
       "      <td>35674</td>\n",
       "      <td>138414</td>\n",
       "      <td>6093</td>\n",
       "      <td>3.5</td>\n",
       "      <td>3.230565</td>\n",
       "    </tr>\n",
       "    <tr>\n",
       "      <td>35675</td>\n",
       "      <td>138414</td>\n",
       "      <td>85510</td>\n",
       "      <td>2.0</td>\n",
       "      <td>3.035770</td>\n",
       "    </tr>\n",
       "    <tr>\n",
       "      <td>35676</td>\n",
       "      <td>138414</td>\n",
       "      <td>91658</td>\n",
       "      <td>4.5</td>\n",
       "      <td>3.730125</td>\n",
       "    </tr>\n",
       "    <tr>\n",
       "      <td>35677</td>\n",
       "      <td>138414</td>\n",
       "      <td>103228</td>\n",
       "      <td>4.0</td>\n",
       "      <td>3.298367</td>\n",
       "    </tr>\n",
       "    <tr>\n",
       "      <td>35678</td>\n",
       "      <td>138424</td>\n",
       "      <td>380</td>\n",
       "      <td>4.0</td>\n",
       "      <td>3.308974</td>\n",
       "    </tr>\n",
       "  </tbody>\n",
       "</table>\n",
       "<p>35679 rows × 4 columns</p>\n",
       "</div>"
      ],
      "text/plain": [
       "       userId  movieId  rating  User_based_predictions\n",
       "0          11       39     4.5                3.837469\n",
       "1          11      158     4.0                2.658506\n",
       "2          11      380     5.0                3.311402\n",
       "3          11     1862     1.0                2.245200\n",
       "4          11     2124     3.5                3.443820\n",
       "...       ...      ...     ...                     ...\n",
       "35674  138414     6093     3.5                3.230565\n",
       "35675  138414    85510     2.0                3.035770\n",
       "35676  138414    91658     4.5                3.730125\n",
       "35677  138414   103228     4.0                3.298367\n",
       "35678  138424      380     4.0                3.308974\n",
       "\n",
       "[35679 rows x 4 columns]"
      ]
     },
     "execution_count": 76,
     "metadata": {},
     "output_type": "execute_result"
    }
   ],
   "source": [
    "Testing['User_based_predictions'] = predictions_user_based\n",
    "Testing"
   ]
  },
  {
   "cell_type": "code",
   "execution_count": 77,
   "metadata": {},
   "outputs": [
    {
     "name": "stdout",
     "output_type": "stream",
     "text": [
      "MAE:  0.7530148505994723 \n",
      "RMSE:  0.9874395250459447 \n",
      "precision:  0.21819557723030353 \n",
      "Running time:  246.2354609966278\n"
     ]
    }
   ],
   "source": [
    "y_1 = Testing['rating']\n",
    "y_predicted_1 = Testing['User_based_predictions']\n",
    "\n",
    "mae_user_based = mean_absolute_error(y_1, y_predicted_1)\n",
    "rmse_user_based = RMSE(y_1, y_predicted_1)\n",
    "precision_user_based = precision(y_1, y_predicted_1)                                     \n",
    "\n",
    "print('MAE: ', mae_user_based, '\\nRMSE: ', rmse_user_based, '\\nprecision: ', precision_user_based, '\\nRunning time: ', t_user_based)"
   ]
  },
  {
   "cell_type": "markdown",
   "metadata": {},
   "source": [
    "Fortunately, we can observe an improvement in our metrics by ...\n",
    "This model is more effective than the baseline model because it is more personalized. Indeed, it takes into account the users behaviors and their similarities. However, due to an important sparsity, this is not the best that can be done: the performances would be poorer if we had taken less popular movies with fewer ratings in our sample dataset."
   ]
  },
  {
   "cell_type": "code",
   "execution_count": 78,
   "metadata": {},
   "outputs": [],
   "source": [
    "################### A ENLEVER ####################\n",
    "\n",
    "Testing.to_csv('Predition_userBased')"
   ]
  },
  {
   "cell_type": "markdown",
   "metadata": {},
   "source": [
    "## Model Based: Matrix Factorization"
   ]
  },
  {
   "cell_type": "markdown",
   "metadata": {},
   "source": [
    "### 1. Simple ALS method\n",
    "We will first create a simple ALS method to fit the training set, without fitting the hyper parameters.\n",
    "We start with a rank of 20, 20 iterations, $\\lambda=0.01$ and we set the constraint of non-negativity to True. "
   ]
  },
  {
   "cell_type": "markdown",
   "metadata": {},
   "source": [
    "Let's first import the required packages:"
   ]
  },
  {
   "cell_type": "code",
   "execution_count": 79,
   "metadata": {},
   "outputs": [],
   "source": [
    "from pyspark.ml.recommendation import ALS, ALSModel\n",
    "from pyspark.ml.tuning import TrainValidationSplit, ParamGridBuilder\n",
    "from pyspark.ml.evaluation import RegressionEvaluator"
   ]
  },
  {
   "cell_type": "code",
   "execution_count": 80,
   "metadata": {},
   "outputs": [],
   "source": [
    "# Create ALS Model\n",
    "SimpleAls = ALS(rank=20, maxIter=20, regParam=0.01, userCol=\"userId\", itemCol=\"movieId\", ratingCol=\"rating\",\n",
    "          coldStartStrategy=\"drop\", nonnegative=True)"
   ]
  },
  {
   "cell_type": "code",
   "execution_count": 81,
   "metadata": {},
   "outputs": [
    {
     "name": "stdout",
     "output_type": "stream",
     "text": [
      "Time of the training: 13.493462085723877\n"
     ]
    }
   ],
   "source": [
    "import time\n",
    "\n",
    "t0 = time.time()\n",
    "SimpleModel = SimpleAls.fit(training)\n",
    "t_simpleALS = time.time() - t0\n",
    "print (\"Time of the training:\", t_simpleALS)"
   ]
  },
  {
   "cell_type": "markdown",
   "metadata": {},
   "source": [
    "We can therefore use the simple model to compute the predictions:"
   ]
  },
  {
   "cell_type": "code",
   "execution_count": 82,
   "metadata": {},
   "outputs": [],
   "source": [
    "# Define evaluator as RMSE\n",
    "evaluator_rmse = RegressionEvaluator(metricName='rmse', labelCol='rating', predictionCol='prediction')\n",
    "evaluator_mae = RegressionEvaluator(metricName='mae', labelCol='rating', predictionCol='prediction')"
   ]
  },
  {
   "cell_type": "code",
   "execution_count": 83,
   "metadata": {},
   "outputs": [],
   "source": [
    "# Generate predictions and evaluate RMSE\n",
    "predictions_training_1 = SimpleModel.transform(training)\n",
    "predictions_test_1 = SimpleModel.transform(test)\n",
    "\n",
    "rmse_training_1 = evaluator_rmse.evaluate(predictions_training_1)\n",
    "rmse_test_1 = evaluator_rmse.evaluate(predictions_test_1)\n",
    "\n",
    "mae_training_1 = evaluator_mae.evaluate(predictions_training_1)\n",
    "mae_test_1 = evaluator_mae.evaluate(predictions_test_1)"
   ]
  },
  {
   "cell_type": "code",
   "execution_count": 84,
   "metadata": {},
   "outputs": [
    {
     "name": "stdout",
     "output_type": "stream",
     "text": [
      "+------+-------+------+----------+\n",
      "|userId|movieId|rating|prediction|\n",
      "+------+-------+------+----------+\n",
      "|116259|   2366|   4.0|  2.553282|\n",
      "| 23523|   2366|   2.0| 3.2879179|\n",
      "|110203|   2366|   2.0| 4.0087166|\n",
      "| 64989|   2366|   4.0|  4.045273|\n",
      "|   970|   2366|   4.0| 3.0192065|\n",
      "|105838|   2366|   3.0| 3.4491544|\n",
      "|130389|   2366|   3.0|  2.779157|\n",
      "|102687|   2366|   3.0| 4.9246736|\n",
      "|137869|   2366|   4.0|  3.165233|\n",
      "| 31653|   2366|   5.0| 2.7353745|\n",
      "| 65459|   2366|   5.0| 3.0042324|\n",
      "| 88488|   2366|   5.0| 3.5921257|\n",
      "| 66819|   2366|   2.5|  3.690729|\n",
      "| 55659|   2366|   5.0| 3.6960428|\n",
      "| 18191|   2366|   3.5| 3.0290635|\n",
      "|114509|   2366|   5.0|   4.21483|\n",
      "| 23078|   2366|   5.0| 2.6479535|\n",
      "| 64306|   2366|   4.0| 5.0989137|\n",
      "|106273|   2366|   3.0|  3.652625|\n",
      "|  9291|   2366|   5.0| 3.3707447|\n",
      "+------+-------+------+----------+\n",
      "only showing top 20 rows\n",
      "\n"
     ]
    }
   ],
   "source": [
    "predictions_test_1.show()"
   ]
  },
  {
   "cell_type": "code",
   "execution_count": 85,
   "metadata": {},
   "outputs": [
    {
     "name": "stdout",
     "output_type": "stream",
     "text": [
      "For the training set:\n",
      "MAE:  0.2546970871345407 \n",
      "RMSE:  0.3885603529758982\n",
      "\n",
      "For the test set:\n",
      "MAE:  0.8552488790254889 \n",
      "RMSE:  1.113330080336962 \n",
      "precision: 0.19937413661864622\n",
      "\n",
      "Running time 13.493462085723877\n"
     ]
    }
   ],
   "source": [
    "predictions_test_1_pd = predictions_test_1.toPandas()\n",
    "y_2 = predictions_test_1_pd['rating']\n",
    "y_predicted_2 = predictions_test_1_pd['prediction']\n",
    "precision_simpleALS = precision(y_2, y_predicted_2)  \n",
    "\n",
    "\n",
    "print('For the training set:')\n",
    "print('MAE: ', mae_training_1, '\\nRMSE: ', rmse_training_1)\n",
    "print()\n",
    "print('For the test set:')\n",
    "print('MAE: ', mae_test_1, '\\nRMSE: ', rmse_test_1, '\\nprecision:', precision_simpleALS)\n",
    "print()\n",
    "print('Running time', t_simpleALS)"
   ]
  },
  {
   "cell_type": "markdown",
   "metadata": {},
   "source": [
    "This model is quite simple, we did not try to fit the hyperparameters, namely the dimension of the latent vectors (rank of the matrix), the number of ALS iterations and the regularization parameter.\n",
    "<br>Despite its simplicity, it is way better than the user-based model. The running is much lower which means that we can afford to often compute new predictions for a larger dataset.\n",
    "<br><br>\n",
    "We can now generate Top 10 user recommendations:"
   ]
  },
  {
   "cell_type": "code",
   "execution_count": 86,
   "metadata": {},
   "outputs": [
    {
     "data": {
      "text/html": [
       "<div>\n",
       "<style scoped>\n",
       "    .dataframe tbody tr th:only-of-type {\n",
       "        vertical-align: middle;\n",
       "    }\n",
       "\n",
       "    .dataframe tbody tr th {\n",
       "        vertical-align: top;\n",
       "    }\n",
       "\n",
       "    .dataframe thead th {\n",
       "        text-align: right;\n",
       "    }\n",
       "</style>\n",
       "<table border=\"1\" class=\"dataframe\">\n",
       "  <thead>\n",
       "    <tr style=\"text-align: right;\">\n",
       "      <th></th>\n",
       "      <th>recommendations</th>\n",
       "    </tr>\n",
       "    <tr>\n",
       "      <th>userId</th>\n",
       "      <th></th>\n",
       "    </tr>\n",
       "  </thead>\n",
       "  <tbody>\n",
       "    <tr>\n",
       "      <td>4900</td>\n",
       "      <td>[(1533, 7.49697208404541), (211, 7.39726638793...</td>\n",
       "    </tr>\n",
       "    <tr>\n",
       "      <td>62680</td>\n",
       "      <td>[(5272, 6.3474531173706055), (26222, 6.3337469...</td>\n",
       "    </tr>\n",
       "    <tr>\n",
       "      <td>133590</td>\n",
       "      <td>[(101360, 4.555708408355713), (6887, 4.3460507...</td>\n",
       "    </tr>\n",
       "    <tr>\n",
       "      <td>471</td>\n",
       "      <td>[(49, 6.474031448364258), (5883, 6.29868698120...</td>\n",
       "    </tr>\n",
       "    <tr>\n",
       "      <td>35351</td>\n",
       "      <td>[(27366, 7.5453410148620605), (6394, 6.3913321...</td>\n",
       "    </tr>\n",
       "  </tbody>\n",
       "</table>\n",
       "</div>"
      ],
      "text/plain": [
       "                                          recommendations\n",
       "userId                                                   \n",
       "4900    [(1533, 7.49697208404541), (211, 7.39726638793...\n",
       "62680   [(5272, 6.3474531173706055), (26222, 6.3337469...\n",
       "133590  [(101360, 4.555708408355713), (6887, 4.3460507...\n",
       "471     [(49, 6.474031448364258), (5883, 6.29868698120...\n",
       "35351   [(27366, 7.5453410148620605), (6394, 6.3913321..."
      ]
     },
     "execution_count": 86,
     "metadata": {},
     "output_type": "execute_result"
    }
   ],
   "source": [
    "userRecs = SimpleModel.recommendForAllUsers(10).toPandas().set_index('userId')\n",
    "userRecs.head()"
   ]
  },
  {
   "cell_type": "markdown",
   "metadata": {},
   "source": [
    "### 2. Better ALS method: fitting the hyperparameters"
   ]
  },
  {
   "cell_type": "markdown",
   "metadata": {},
   "source": [
    "One way to improve our previous model is to fit the hyperparameters to the model. For this, we are using the *pyspark.ml.tuning* library and its ParamGridBuilder function.\n",
    "\n",
    "Here we are offering differents possibilites for the hyperparameters and the model will try them all to find the best one."
   ]
  },
  {
   "cell_type": "code",
   "execution_count": 87,
   "metadata": {},
   "outputs": [],
   "source": [
    "# Create ALS Model\n",
    "FitALS = ALS(userCol=\"userId\", itemCol=\"movieId\", ratingCol=\"rating\",\n",
    "          coldStartStrategy=\"drop\", nonnegative=True)"
   ]
  },
  {
   "cell_type": "code",
   "execution_count": 88,
   "metadata": {},
   "outputs": [],
   "source": [
    "# Tune model using ParamGridBuilder\n",
    "param_grid = ParamGridBuilder().addGrid(FitALS.rank, [15,17,20]).addGrid(FitALS.maxIter, [15,20,25]).addGrid(FitALS.regParam, [.01,.05,.1]).build()"
   ]
  },
  {
   "cell_type": "markdown",
   "metadata": {},
   "source": [
    "Let us use a cross-validation set up to train and tune our model. We will split the training set into a train set and a tune set, with ratio 0.8, 0.2 respectively:"
   ]
  },
  {
   "cell_type": "code",
   "execution_count": 89,
   "metadata": {},
   "outputs": [],
   "source": [
    "# Build cross validation using TrainValidationSplit\n",
    "tvs = TrainValidationSplit(estimator=FitALS, estimatorParamMaps=param_grid, evaluator=evaluator_rmse, trainRatio=0.8)"
   ]
  },
  {
   "cell_type": "code",
   "execution_count": 90,
   "metadata": {
    "scrolled": true
   },
   "outputs": [
    {
     "name": "stdout",
     "output_type": "stream",
     "text": [
      "Time of the training: 628.3622989654541\n"
     ]
    }
   ],
   "source": [
    "# Fit ALS model to train data\n",
    "import time\n",
    "\n",
    "t0 = time.time()\n",
    "FitModel = tvs.fit(training)\n",
    "t_fitALS = time.time() - t0\n",
    "print (\"Time of the training:\", t_fitALS)"
   ]
  },
  {
   "cell_type": "markdown",
   "metadata": {},
   "source": [
    "Let's save the model:"
   ]
  },
  {
   "cell_type": "code",
   "execution_count": 92,
   "metadata": {},
   "outputs": [],
   "source": [
    "#FitModel.save(\"FitModelALS\")"
   ]
  },
  {
   "cell_type": "code",
   "execution_count": 93,
   "metadata": {},
   "outputs": [],
   "source": [
    "# Extract the best model from the tuning of Hyperparameters\n",
    "best_model = FitModel.bestModel"
   ]
  },
  {
   "cell_type": "code",
   "execution_count": 94,
   "metadata": {},
   "outputs": [],
   "source": [
    "# Generate predictions and evaluate RMSE\n",
    "predictions_training_2 = best_model.transform(training)\n",
    "predictions_test_2 = best_model.transform(test)\n",
    "\n",
    "rmse_training_2 = evaluator_rmse.evaluate(predictions_training_2)\n",
    "rmse_test_2 = evaluator_rmse.evaluate(predictions_test_2)\n",
    "\n",
    "mae_training_2 = evaluator_mae.evaluate(predictions_training_2)\n",
    "mae_test_2 = evaluator_mae.evaluate(predictions_test_2)"
   ]
  },
  {
   "cell_type": "markdown",
   "metadata": {},
   "source": [
    "We can print the metrics for this new model:"
   ]
  },
  {
   "cell_type": "code",
   "execution_count": 95,
   "metadata": {
    "scrolled": true
   },
   "outputs": [
    {
     "name": "stdout",
     "output_type": "stream",
     "text": [
      "Best hyperparameters found: \n",
      "Rank: 20\n",
      "MaxIter: 25\n",
      "RegParam: 0.1\n",
      "\n",
      "Metrics: \n",
      "For the training set:\n",
      "MAE:  0.4188332312069686 \n",
      "RMSE:  0.548628358986449\n",
      "\n",
      "For the test set:\n",
      "MAE:  0.6943894470241447 \n",
      "RMSE:  0.89518269400078 \n",
      "precision:  0.24073186546756506\n",
      "\n",
      "Running time 628.3622989654541\n"
     ]
    }
   ],
   "source": [
    "predictions_test_2_pd = predictions_test_2.toPandas()\n",
    "y_3 = predictions_test_2_pd['rating']\n",
    "y_predicted_3 = predictions_test_2_pd['prediction']\n",
    "precision_fitALS = precision(y_3, y_predicted_3)  \n",
    "\n",
    "print('Best hyperparameters found: ')\n",
    "print('Rank:', best_model.rank)\n",
    "print('MaxIter:', best_model._java_obj.parent().getMaxIter())\n",
    "print('RegParam:', best_model._java_obj.parent().getRegParam())\n",
    "print()\n",
    "print('Metrics: ')\n",
    "print('For the training set:')\n",
    "print('MAE: ', mae_training_2, '\\nRMSE: ', rmse_training_2)\n",
    "print()\n",
    "print('For the test set:')\n",
    "print('MAE: ', mae_test_2, '\\nRMSE: ', rmse_test_2, '\\nprecision: ', precision_fitALS)\n",
    "print()\n",
    "print('Running time', t_fitALS)"
   ]
  },
  {
   "cell_type": "markdown",
   "metadata": {},
   "source": [
    "We see that the **error** is much lower than the previous one. Fitting the hyperparameters is effective, even for this bigger dataset."
   ]
  },
  {
   "cell_type": "markdown",
   "metadata": {},
   "source": [
    "Let's see how our model predict the actual ratings of the test set:"
   ]
  },
  {
   "cell_type": "code",
   "execution_count": 96,
   "metadata": {
    "scrolled": true
   },
   "outputs": [
    {
     "name": "stdout",
     "output_type": "stream",
     "text": [
      "+------+-------+------+----------+\n",
      "|userId|movieId|rating|prediction|\n",
      "+------+-------+------+----------+\n",
      "|116259|   2366|   4.0| 3.2593045|\n",
      "| 23523|   2366|   2.0|  3.629482|\n",
      "|110203|   2366|   2.0|  2.945938|\n",
      "| 64989|   2366|   4.0| 3.3142715|\n",
      "|   970|   2366|   4.0| 3.3248937|\n",
      "|105838|   2366|   3.0| 3.5206316|\n",
      "|130389|   2366|   3.0| 2.6987567|\n",
      "|102687|   2366|   3.0|  2.613385|\n",
      "|137869|   2366|   4.0| 3.5618176|\n",
      "| 31653|   2366|   5.0| 3.2259493|\n",
      "| 65459|   2366|   5.0|  3.160637|\n",
      "| 88488|   2366|   5.0|  4.171378|\n",
      "| 66819|   2366|   2.5| 3.1161258|\n",
      "| 55659|   2366|   5.0| 3.8936477|\n",
      "| 18191|   2366|   3.5| 3.1161618|\n",
      "|114509|   2366|   5.0| 3.7652512|\n",
      "| 23078|   2366|   5.0|  3.166909|\n",
      "| 64306|   2366|   4.0| 4.1027346|\n",
      "|106273|   2366|   3.0| 3.5051644|\n",
      "|  9291|   2366|   5.0| 3.7690983|\n",
      "+------+-------+------+----------+\n",
      "only showing top 20 rows\n",
      "\n"
     ]
    }
   ],
   "source": [
    "predictions_test_2.show()"
   ]
  },
  {
   "cell_type": "markdown",
   "metadata": {},
   "source": [
    "We can now generate the top 10 recommendations for all users:"
   ]
  },
  {
   "cell_type": "code",
   "execution_count": 97,
   "metadata": {
    "scrolled": true
   },
   "outputs": [
    {
     "data": {
      "text/html": [
       "<div>\n",
       "<style scoped>\n",
       "    .dataframe tbody tr th:only-of-type {\n",
       "        vertical-align: middle;\n",
       "    }\n",
       "\n",
       "    .dataframe tbody tr th {\n",
       "        vertical-align: top;\n",
       "    }\n",
       "\n",
       "    .dataframe thead th {\n",
       "        text-align: right;\n",
       "    }\n",
       "</style>\n",
       "<table border=\"1\" class=\"dataframe\">\n",
       "  <thead>\n",
       "    <tr style=\"text-align: right;\">\n",
       "      <th></th>\n",
       "      <th>recommendations</th>\n",
       "    </tr>\n",
       "    <tr>\n",
       "      <th>userId</th>\n",
       "      <th></th>\n",
       "    </tr>\n",
       "  </thead>\n",
       "  <tbody>\n",
       "    <tr>\n",
       "      <td>4900</td>\n",
       "      <td>[(26225, 4.631032466888428), (5953, 4.58132839...</td>\n",
       "    </tr>\n",
       "    <tr>\n",
       "      <td>62680</td>\n",
       "      <td>[(104069, 5.350577354431152), (6511, 5.3115510...</td>\n",
       "    </tr>\n",
       "    <tr>\n",
       "      <td>133590</td>\n",
       "      <td>[(87308, 4.327284812927246), (6511, 4.27133893...</td>\n",
       "    </tr>\n",
       "    <tr>\n",
       "      <td>471</td>\n",
       "      <td>[(6511, 4.365274429321289), (2930, 4.327875614...</td>\n",
       "    </tr>\n",
       "    <tr>\n",
       "      <td>35351</td>\n",
       "      <td>[(25975, 4.728670120239258), (908, 4.616785049...</td>\n",
       "    </tr>\n",
       "  </tbody>\n",
       "</table>\n",
       "</div>"
      ],
      "text/plain": [
       "                                          recommendations\n",
       "userId                                                   \n",
       "4900    [(26225, 4.631032466888428), (5953, 4.58132839...\n",
       "62680   [(104069, 5.350577354431152), (6511, 5.3115510...\n",
       "133590  [(87308, 4.327284812927246), (6511, 4.27133893...\n",
       "471     [(6511, 4.365274429321289), (2930, 4.327875614...\n",
       "35351   [(25975, 4.728670120239258), (908, 4.616785049..."
      ]
     },
     "execution_count": 97,
     "metadata": {},
     "output_type": "execute_result"
    }
   ],
   "source": [
    "user_recs_fit = best_model.recommendForAllUsers(10).toPandas().set_index('userId')\n",
    "user_recs_fit.head()"
   ]
  }
 ],
 "metadata": {
  "kernelspec": {
   "display_name": "Python 3",
   "language": "python",
   "name": "python3"
  },
  "language_info": {
   "codemirror_mode": {
    "name": "ipython",
    "version": 3
   },
   "file_extension": ".py",
   "mimetype": "text/x-python",
   "name": "python",
   "nbconvert_exporter": "python",
   "pygments_lexer": "ipython3",
   "version": "3.7.4"
  }
 },
 "nbformat": 4,
 "nbformat_minor": 2
}
