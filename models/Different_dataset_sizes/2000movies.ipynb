{
 "cells": [
  {
   "cell_type": "markdown",
   "metadata": {},
   "source": [
    "# Project 1 - Recommender system for movies"
   ]
  },
  {
   "cell_type": "markdown",
   "metadata": {},
   "source": [
    "## Data and methods"
   ]
  },
  {
   "cell_type": "markdown",
   "metadata": {},
   "source": [
    "Let us start by reading the data:"
   ]
  },
  {
   "cell_type": "code",
   "execution_count": 1,
   "metadata": {},
   "outputs": [],
   "source": [
    "from pyspark.sql.session import SparkSession"
   ]
  },
  {
   "cell_type": "code",
   "execution_count": 2,
   "metadata": {},
   "outputs": [],
   "source": [
    "spark = SparkSession.builder.getOrCreate()"
   ]
  },
  {
   "cell_type": "code",
   "execution_count": 3,
   "metadata": {
    "scrolled": true
   },
   "outputs": [
    {
     "name": "stdout",
     "output_type": "stream",
     "text": [
      "+------+-------+------+\n",
      "|userId|movieId|rating|\n",
      "+------+-------+------+\n",
      "|     1|      2|   3.5|\n",
      "|     1|     29|   3.5|\n",
      "|     1|     32|   3.5|\n",
      "|     1|     47|   3.5|\n",
      "|     1|     50|   3.5|\n",
      "|     1|    112|   3.5|\n",
      "|     1|    151|   4.0|\n",
      "|     1|    223|   4.0|\n",
      "|     1|    253|   4.0|\n",
      "|     1|    260|   4.0|\n",
      "|     1|    293|   4.0|\n",
      "|     1|    296|   4.0|\n",
      "|     1|    318|   4.0|\n",
      "|     1|    337|   3.5|\n",
      "|     1|    367|   3.5|\n",
      "|     1|    541|   4.0|\n",
      "|     1|    589|   3.5|\n",
      "|     1|    593|   3.5|\n",
      "|     1|    653|   3.0|\n",
      "|     1|    919|   3.5|\n",
      "+------+-------+------+\n",
      "only showing top 20 rows\n",
      "\n"
     ]
    }
   ],
   "source": [
    "data = spark.read.csv(\"ratings.csv\", header='true').drop('timestamp')\n",
    "data.show()"
   ]
  },
  {
   "cell_type": "markdown",
   "metadata": {},
   "source": [
    "How many entries are there in the data?"
   ]
  },
  {
   "cell_type": "code",
   "execution_count": 4,
   "metadata": {
    "scrolled": true
   },
   "outputs": [
    {
     "data": {
      "text/plain": [
       "20000263"
      ]
     },
     "execution_count": 4,
     "metadata": {},
     "output_type": "execute_result"
    }
   ],
   "source": [
    "data.count()"
   ]
  },
  {
   "cell_type": "code",
   "execution_count": 5,
   "metadata": {},
   "outputs": [
    {
     "name": "stdout",
     "output_type": "stream",
     "text": [
      "+-------+------------------+\n",
      "|summary|            rating|\n",
      "+-------+------------------+\n",
      "|  count|          20000263|\n",
      "|   mean|3.5255285642993797|\n",
      "| stddev| 1.051988919294227|\n",
      "|    min|               0.5|\n",
      "|    max|               5.0|\n",
      "+-------+------------------+\n",
      "\n"
     ]
    }
   ],
   "source": [
    "data.describe(\"rating\").show()"
   ]
  },
  {
   "cell_type": "markdown",
   "metadata": {},
   "source": [
    "Converting the data into numeric values:"
   ]
  },
  {
   "cell_type": "code",
   "execution_count": 6,
   "metadata": {},
   "outputs": [
    {
     "name": "stdout",
     "output_type": "stream",
     "text": [
      "root\n",
      " |-- userId: integer (nullable = true)\n",
      " |-- movieId: integer (nullable = true)\n",
      " |-- rating: double (nullable = true)\n",
      "\n"
     ]
    }
   ],
   "source": [
    "from pyspark.sql.types import DoubleType, IntegerType\n",
    "\n",
    "data = data.withColumn(\"movieId\", data[\"movieId\"].cast(IntegerType()))\n",
    "data = data.withColumn(\"userId\", data[\"userId\"].cast(IntegerType()))\n",
    "data = data.withColumn(\"rating\", data[\"rating\"].cast(DoubleType()))\n",
    "data.printSchema()"
   ]
  },
  {
   "cell_type": "markdown",
   "metadata": {},
   "source": [
    "## Sampling the data"
   ]
  },
  {
   "cell_type": "code",
   "execution_count": 7,
   "metadata": {},
   "outputs": [],
   "source": [
    "import pandas as pd\n",
    "data = pd.read_csv('ratings.csv').drop('timestamp', axis=1)"
   ]
  },
  {
   "cell_type": "code",
   "execution_count": 8,
   "metadata": {
    "scrolled": true
   },
   "outputs": [
    {
     "data": {
      "text/html": [
       "<div>\n",
       "<style scoped>\n",
       "    .dataframe tbody tr th:only-of-type {\n",
       "        vertical-align: middle;\n",
       "    }\n",
       "\n",
       "    .dataframe tbody tr th {\n",
       "        vertical-align: top;\n",
       "    }\n",
       "\n",
       "    .dataframe thead th {\n",
       "        text-align: right;\n",
       "    }\n",
       "</style>\n",
       "<table border=\"1\" class=\"dataframe\">\n",
       "  <thead>\n",
       "    <tr style=\"text-align: right;\">\n",
       "      <th></th>\n",
       "      <th>userId</th>\n",
       "      <th>movieId</th>\n",
       "      <th>rating</th>\n",
       "    </tr>\n",
       "  </thead>\n",
       "  <tbody>\n",
       "    <tr>\n",
       "      <th>0</th>\n",
       "      <td>1</td>\n",
       "      <td>2</td>\n",
       "      <td>3.5</td>\n",
       "    </tr>\n",
       "    <tr>\n",
       "      <th>1</th>\n",
       "      <td>1</td>\n",
       "      <td>29</td>\n",
       "      <td>3.5</td>\n",
       "    </tr>\n",
       "    <tr>\n",
       "      <th>2</th>\n",
       "      <td>1</td>\n",
       "      <td>32</td>\n",
       "      <td>3.5</td>\n",
       "    </tr>\n",
       "    <tr>\n",
       "      <th>3</th>\n",
       "      <td>1</td>\n",
       "      <td>47</td>\n",
       "      <td>3.5</td>\n",
       "    </tr>\n",
       "    <tr>\n",
       "      <th>4</th>\n",
       "      <td>1</td>\n",
       "      <td>50</td>\n",
       "      <td>3.5</td>\n",
       "    </tr>\n",
       "  </tbody>\n",
       "</table>\n",
       "</div>"
      ],
      "text/plain": [
       "   userId  movieId  rating\n",
       "0       1        2     3.5\n",
       "1       1       29     3.5\n",
       "2       1       32     3.5\n",
       "3       1       47     3.5\n",
       "4       1       50     3.5"
      ]
     },
     "execution_count": 8,
     "metadata": {},
     "output_type": "execute_result"
    }
   ],
   "source": [
    "data.head()"
   ]
  },
  {
   "cell_type": "markdown",
   "metadata": {},
   "source": [
    "In order to train our models, we need to sample our data into a smaller dataset. We plan to create a user-based collaborative filtering, so we will need to compute the similarities between the users. We believe it is appropriate to select the most popular movies as it would be easier to evaluate the similarities in behavior between users.\n",
    "<br> Let us start by selecting the movies that have more than 2,000 ratings:"
   ]
  },
  {
   "cell_type": "code",
   "execution_count": 9,
   "metadata": {},
   "outputs": [
    {
     "data": {
      "text/plain": [
       "userId     2034\n",
       "movieId    2034\n",
       "rating     2034\n",
       "dtype: int64"
      ]
     },
     "execution_count": 9,
     "metadata": {},
     "output_type": "execute_result"
    }
   ],
   "source": [
    "counts = data['movieId'].value_counts()\n",
    "data = data[data['movieId'].isin(counts.index[counts > 2000])]\n",
    "data.groupby('movieId').nunique().count()"
   ]
  },
  {
   "cell_type": "code",
   "execution_count": 10,
   "metadata": {},
   "outputs": [
    {
     "data": {
      "text/plain": [
       "userId     138493\n",
       "movieId    138493\n",
       "rating     138493\n",
       "dtype: int64"
      ]
     },
     "execution_count": 10,
     "metadata": {},
     "output_type": "execute_result"
    }
   ],
   "source": [
    "data.groupby('userId').nunique().count()"
   ]
  },
  {
   "cell_type": "markdown",
   "metadata": {},
   "source": [
    "We end up with 1,005 distinct movies and 138,476 distinct users. \n",
    "<br>Let us randomly select 10,000 users to build our dataset."
   ]
  },
  {
   "cell_type": "code",
   "execution_count": 11,
   "metadata": {},
   "outputs": [
    {
     "data": {
      "text/html": [
       "<div>\n",
       "<style scoped>\n",
       "    .dataframe tbody tr th:only-of-type {\n",
       "        vertical-align: middle;\n",
       "    }\n",
       "\n",
       "    .dataframe tbody tr th {\n",
       "        vertical-align: top;\n",
       "    }\n",
       "\n",
       "    .dataframe thead th {\n",
       "        text-align: right;\n",
       "    }\n",
       "</style>\n",
       "<table border=\"1\" class=\"dataframe\">\n",
       "  <thead>\n",
       "    <tr style=\"text-align: right;\">\n",
       "      <th></th>\n",
       "      <th>userId</th>\n",
       "      <th>movieId</th>\n",
       "      <th>rating</th>\n",
       "    </tr>\n",
       "  </thead>\n",
       "  <tbody>\n",
       "    <tr>\n",
       "      <th>922</th>\n",
       "      <td>10</td>\n",
       "      <td>1</td>\n",
       "      <td>4.0</td>\n",
       "    </tr>\n",
       "    <tr>\n",
       "      <th>923</th>\n",
       "      <td>10</td>\n",
       "      <td>11</td>\n",
       "      <td>4.0</td>\n",
       "    </tr>\n",
       "    <tr>\n",
       "      <th>924</th>\n",
       "      <td>10</td>\n",
       "      <td>25</td>\n",
       "      <td>4.0</td>\n",
       "    </tr>\n",
       "    <tr>\n",
       "      <th>925</th>\n",
       "      <td>10</td>\n",
       "      <td>260</td>\n",
       "      <td>4.0</td>\n",
       "    </tr>\n",
       "    <tr>\n",
       "      <th>926</th>\n",
       "      <td>10</td>\n",
       "      <td>356</td>\n",
       "      <td>3.0</td>\n",
       "    </tr>\n",
       "    <tr>\n",
       "      <th>...</th>\n",
       "      <td>...</td>\n",
       "      <td>...</td>\n",
       "      <td>...</td>\n",
       "    </tr>\n",
       "    <tr>\n",
       "      <th>19996960</th>\n",
       "      <td>138467</td>\n",
       "      <td>3261</td>\n",
       "      <td>5.0</td>\n",
       "    </tr>\n",
       "    <tr>\n",
       "      <th>19996961</th>\n",
       "      <td>138467</td>\n",
       "      <td>3262</td>\n",
       "      <td>4.0</td>\n",
       "    </tr>\n",
       "    <tr>\n",
       "      <th>19996962</th>\n",
       "      <td>138467</td>\n",
       "      <td>3264</td>\n",
       "      <td>4.0</td>\n",
       "    </tr>\n",
       "    <tr>\n",
       "      <th>19996966</th>\n",
       "      <td>138467</td>\n",
       "      <td>3358</td>\n",
       "      <td>4.0</td>\n",
       "    </tr>\n",
       "    <tr>\n",
       "      <th>19996967</th>\n",
       "      <td>138467</td>\n",
       "      <td>3396</td>\n",
       "      <td>4.0</td>\n",
       "    </tr>\n",
       "  </tbody>\n",
       "</table>\n",
       "<p>1115361 rows × 3 columns</p>\n",
       "</div>"
      ],
      "text/plain": [
       "          userId  movieId  rating\n",
       "922           10        1     4.0\n",
       "923           10       11     4.0\n",
       "924           10       25     4.0\n",
       "925           10      260     4.0\n",
       "926           10      356     3.0\n",
       "...          ...      ...     ...\n",
       "19996960  138467     3261     5.0\n",
       "19996961  138467     3262     4.0\n",
       "19996962  138467     3264     4.0\n",
       "19996966  138467     3358     4.0\n",
       "19996967  138467     3396     4.0\n",
       "\n",
       "[1115361 rows x 3 columns]"
      ]
     },
     "execution_count": 11,
     "metadata": {},
     "output_type": "execute_result"
    }
   ],
   "source": [
    "import numpy as np\n",
    "np.random.seed(1)\n",
    "sample = data['userId'].unique()\n",
    "sample_users = np.random.choice(sample, 10000)\n",
    "dataset = data.loc[data['userId'].isin(sample_users)]\n",
    "dataset"
   ]
  },
  {
   "cell_type": "code",
   "execution_count": 12,
   "metadata": {},
   "outputs": [
    {
     "data": {
      "text/plain": [
       "userId     2034\n",
       "movieId    2034\n",
       "rating     2034\n",
       "dtype: int64"
      ]
     },
     "execution_count": 12,
     "metadata": {},
     "output_type": "execute_result"
    }
   ],
   "source": [
    "dataset.groupby('movieId').nunique().count()"
   ]
  },
  {
   "cell_type": "code",
   "execution_count": 13,
   "metadata": {
    "scrolled": true
   },
   "outputs": [
    {
     "data": {
      "text/plain": [
       "userId     9672\n",
       "movieId    9672\n",
       "rating     9672\n",
       "dtype: int64"
      ]
     },
     "execution_count": 13,
     "metadata": {},
     "output_type": "execute_result"
    }
   ],
   "source": [
    "dataset.groupby('userId').nunique().count()"
   ]
  },
  {
   "cell_type": "markdown",
   "metadata": {},
   "source": [
    "Interesting, we only have 9,672 users instead of 10,000... But well, it will be enough for our study!"
   ]
  },
  {
   "cell_type": "markdown",
   "metadata": {},
   "source": [
    "Let us now split our datset in a train set and a test set. We will use both of them for the rest of our study in this homework:"
   ]
  },
  {
   "cell_type": "code",
   "execution_count": 14,
   "metadata": {},
   "outputs": [
    {
     "name": "stdout",
     "output_type": "stream",
     "text": [
      "891927 223434\n"
     ]
    }
   ],
   "source": [
    "dataset = spark.createDataFrame(dataset)\n",
    "(training, test) = dataset.randomSplit([0.8,0.2], seed=0)\n",
    "print(training.count(), test.count())"
   ]
  },
  {
   "cell_type": "markdown",
   "metadata": {},
   "source": [
    "## Statistics\n",
    "\n",
    "We can make some statistics about our new set of movies to better understand it. Here is the number of ratings each movie has:"
   ]
  },
  {
   "cell_type": "code",
   "execution_count": 15,
   "metadata": {},
   "outputs": [
    {
     "name": "stdout",
     "output_type": "stream",
     "text": [
      "+-------+-----------------+\n",
      "|summary|            count|\n",
      "+-------+-----------------+\n",
      "|  count|             2034|\n",
      "|   mean| 548.358407079646|\n",
      "| stddev|570.6818988465005|\n",
      "|    min|              112|\n",
      "|    max|             4592|\n",
      "+-------+-----------------+\n",
      "\n"
     ]
    }
   ],
   "source": [
    "stat = dataset.groupBy(\"movieId\").count().sort('count', ascending=False)\n",
    "stat.describe('count').show()"
   ]
  },
  {
   "cell_type": "markdown",
   "metadata": {},
   "source": [
    "Even though we kept a small part of the users, we still have at least 326 ratings per movie which is enough for our study."
   ]
  },
  {
   "cell_type": "markdown",
   "metadata": {},
   "source": [
    "Here we can see the number of ratings with respect to the number of movies:"
   ]
  },
  {
   "cell_type": "code",
   "execution_count": 16,
   "metadata": {},
   "outputs": [
    {
     "data": {
      "text/plain": [
       "array([[<matplotlib.axes._subplots.AxesSubplot object at 0x120a53bd0>]],\n",
       "      dtype=object)"
      ]
     },
     "execution_count": 16,
     "metadata": {},
     "output_type": "execute_result"
    },
    {
     "data": {
      "image/png": "[encoded data removed]",
      "text/plain": [
       "<Figure size 432x288 with 1 Axes>"
      ]
     },
     "metadata": {
      "needs_background": "light"
     },
     "output_type": "display_data"
    }
   ],
   "source": [
    "%matplotlib inline\n",
    "import pandas as pd\n",
    "\n",
    "panda_stat = stat.toPandas()\n",
    "bin_ = [i*500 for i in range(10)]\n",
    "panda_stat.hist(column='count', bins=bin_)"
   ]
  },
  {
   "cell_type": "markdown",
   "metadata": {},
   "source": [
    "We can observe that the vast majority of the movies have less than 1,000 ratings and just a few of them have more ratings. This is the long tail effect: the popular movies (that represent a small proportion of the overall dataset) are far more rated than the other ones. "
   ]
  },
  {
   "cell_type": "markdown",
   "metadata": {},
   "source": [
    "# Metrics\n",
    "\n",
    "In this section, we will define the metrics functions which we will use later to assess the performances of our models:\n",
    "- MAE\n",
    "- RMSE\n",
    "- precision"
   ]
  },
  {
   "cell_type": "markdown",
   "metadata": {},
   "source": [
    "MAE and RMSE:"
   ]
  },
  {
   "cell_type": "code",
   "execution_count": 17,
   "metadata": {},
   "outputs": [],
   "source": [
    "from sklearn.metrics import mean_absolute_error, mean_squared_error\n",
    "import numpy as np\n",
    "\n",
    "def RMSE(y, y_predicted):\n",
    "    return np.sqrt(mean_squared_error(y, y_predicted))"
   ]
  },
  {
   "cell_type": "markdown",
   "metadata": {},
   "source": [
    "Precision:"
   ]
  },
  {
   "cell_type": "code",
   "execution_count": 18,
   "metadata": {},
   "outputs": [],
   "source": [
    "# Let us first create a function to transform our raw predictions into appropriate ones.\n",
    "def round_rating(x): \n",
    "    dec = x - int(x)\n",
    "    if (dec >= 0.25) and (dec < 0.75):\n",
    "        return int(x) + 0.5\n",
    "    else:\n",
    "        return int(x) + (dec > 0.5)\n",
    "\n",
    "# Precision function metric:\n",
    "def precision(y, y_predicted):\n",
    "    y_predicted = [round_rating(k) for k in y_predicted]       \n",
    "    TP = 0\n",
    "    for i in range(len(y)):\n",
    "        if y[i] == y_predicted[i]:\n",
    "            TP += 1\n",
    "    return TP/len(y)"
   ]
  },
  {
   "cell_type": "markdown",
   "metadata": {},
   "source": [
    "## Baseline Model"
   ]
  },
  {
   "cell_type": "markdown",
   "metadata": {},
   "source": [
    "We first need a baseline model to later compare the performances of our personalized models. We will use this one: \n",
    "<br><br>\n",
    "$$r_{ui}=\\mu$$\n",
    "<br>\n",
    "with $\\mu$: global average rating"
   ]
  },
  {
   "cell_type": "code",
   "execution_count": 19,
   "metadata": {},
   "outputs": [
    {
     "name": "stdout",
     "output_type": "stream",
     "text": [
      "+-------+------------------+\n",
      "|summary|            rating|\n",
      "+-------+------------------+\n",
      "|  count|            891927|\n",
      "|   mean|  3.59490687018108|\n",
      "| stddev|1.0280125462518201|\n",
      "|    min|               0.5|\n",
      "|    max|               5.0|\n",
      "+-------+------------------+\n",
      "\n"
     ]
    }
   ],
   "source": [
    "training.describe(\"rating\").show()"
   ]
  },
  {
   "cell_type": "code",
   "execution_count": 20,
   "metadata": {},
   "outputs": [],
   "source": [
    "mu = 3.639545494108101"
   ]
  },
  {
   "cell_type": "code",
   "execution_count": 21,
   "metadata": {},
   "outputs": [],
   "source": [
    "def baseline_rating(userId, movieId):\n",
    "    return mu"
   ]
  },
  {
   "cell_type": "code",
   "execution_count": 22,
   "metadata": {},
   "outputs": [],
   "source": [
    "test_baseline = test.toPandas()"
   ]
  },
  {
   "cell_type": "code",
   "execution_count": 23,
   "metadata": {},
   "outputs": [
    {
     "name": "stdout",
     "output_type": "stream",
     "text": [
      "Time of the training: 2.9342148303985596\n"
     ]
    }
   ],
   "source": [
    "import time\n",
    "\n",
    "t0 = time.time()\n",
    "y_predicted = []\n",
    "for i in range(len(test_baseline.index)):\n",
    "    movieId = test_baseline.iloc[i, 1]\n",
    "    userId = test_baseline.iloc[i, 0]\n",
    "    y_predicted.append(baseline_rating(userId, movieId))\n",
    "t_baseline = time.time() - t0\n",
    "print (\"Time of the training:\", t_baseline)"
   ]
  },
  {
   "cell_type": "code",
   "execution_count": 24,
   "metadata": {},
   "outputs": [],
   "source": [
    "y = test_baseline['rating'].values"
   ]
  },
  {
   "cell_type": "code",
   "execution_count": 25,
   "metadata": {},
   "outputs": [
    {
     "data": {
      "text/html": [
       "<div>\n",
       "<style scoped>\n",
       "    .dataframe tbody tr th:only-of-type {\n",
       "        vertical-align: middle;\n",
       "    }\n",
       "\n",
       "    .dataframe tbody tr th {\n",
       "        vertical-align: top;\n",
       "    }\n",
       "\n",
       "    .dataframe thead th {\n",
       "        text-align: right;\n",
       "    }\n",
       "</style>\n",
       "<table border=\"1\" class=\"dataframe\">\n",
       "  <thead>\n",
       "    <tr style=\"text-align: right;\">\n",
       "      <th></th>\n",
       "      <th>userId</th>\n",
       "      <th>movieId</th>\n",
       "      <th>rating</th>\n",
       "      <th>baseline_rating</th>\n",
       "    </tr>\n",
       "  </thead>\n",
       "  <tbody>\n",
       "    <tr>\n",
       "      <th>0</th>\n",
       "      <td>10</td>\n",
       "      <td>1</td>\n",
       "      <td>4.0</td>\n",
       "      <td>3.639545</td>\n",
       "    </tr>\n",
       "    <tr>\n",
       "      <th>1</th>\n",
       "      <td>10</td>\n",
       "      <td>260</td>\n",
       "      <td>4.0</td>\n",
       "      <td>3.639545</td>\n",
       "    </tr>\n",
       "    <tr>\n",
       "      <th>2</th>\n",
       "      <td>10</td>\n",
       "      <td>527</td>\n",
       "      <td>5.0</td>\n",
       "      <td>3.639545</td>\n",
       "    </tr>\n",
       "    <tr>\n",
       "      <th>3</th>\n",
       "      <td>10</td>\n",
       "      <td>1250</td>\n",
       "      <td>4.0</td>\n",
       "      <td>3.639545</td>\n",
       "    </tr>\n",
       "    <tr>\n",
       "      <th>4</th>\n",
       "      <td>10</td>\n",
       "      <td>1304</td>\n",
       "      <td>3.0</td>\n",
       "      <td>3.639545</td>\n",
       "    </tr>\n",
       "  </tbody>\n",
       "</table>\n",
       "</div>"
      ],
      "text/plain": [
       "   userId  movieId  rating  baseline_rating\n",
       "0      10        1     4.0         3.639545\n",
       "1      10      260     4.0         3.639545\n",
       "2      10      527     5.0         3.639545\n",
       "3      10     1250     4.0         3.639545\n",
       "4      10     1304     3.0         3.639545"
      ]
     },
     "execution_count": 25,
     "metadata": {},
     "output_type": "execute_result"
    }
   ],
   "source": [
    "test_baseline['baseline_rating'] = y_predicted\n",
    "test_baseline.head()"
   ]
  },
  {
   "cell_type": "code",
   "execution_count": 26,
   "metadata": {},
   "outputs": [
    {
     "name": "stdout",
     "output_type": "stream",
     "text": [
      "MAE:  0.824087863416248 \n",
      "RMSE:  1.0281187152910591 \n",
      "precision:  0.1030505652675958 \n",
      "Running time:  2.9342148303985596\n"
     ]
    }
   ],
   "source": [
    "mae_baseline = mean_absolute_error(y, y_predicted)\n",
    "rmse_baseline = RMSE(y, y_predicted)\n",
    "precision_baseline = precision(y, y_predicted)\n",
    "\n",
    "print('MAE: ', mae_baseline, '\\nRMSE: ', rmse_baseline, '\\nprecision: ', precision_baseline, '\\nRunning time: ', t_baseline)"
   ]
  },
  {
   "cell_type": "markdown",
   "metadata": {},
   "source": [
    "We will compare the performances of our models with these values. "
   ]
  },
  {
   "cell_type": "markdown",
   "metadata": {},
   "source": [
    "## Memory Based: user-based model"
   ]
  },
  {
   "cell_type": "markdown",
   "metadata": {},
   "source": [
    "### Computing Similarity matrix\n",
    "\n",
    "Now we will focus on the training set to build an user similarity matrix, using the adjusted cosine similarity.\n",
    "\n",
    "Let's first adjust each row to remove the user bias.\n",
    "For that, we first compute the average rating per user, and we substract this average to each rating to obtain a non biased rating column:"
   ]
  },
  {
   "cell_type": "code",
   "execution_count": 27,
   "metadata": {},
   "outputs": [
    {
     "data": {
      "text/html": [
       "<div>\n",
       "<style scoped>\n",
       "    .dataframe tbody tr th:only-of-type {\n",
       "        vertical-align: middle;\n",
       "    }\n",
       "\n",
       "    .dataframe tbody tr th {\n",
       "        vertical-align: top;\n",
       "    }\n",
       "\n",
       "    .dataframe thead th {\n",
       "        text-align: right;\n",
       "    }\n",
       "</style>\n",
       "<table border=\"1\" class=\"dataframe\">\n",
       "  <thead>\n",
       "    <tr style=\"text-align: right;\">\n",
       "      <th></th>\n",
       "      <th>userId</th>\n",
       "      <th>rating_mean</th>\n",
       "    </tr>\n",
       "  </thead>\n",
       "  <tbody>\n",
       "    <tr>\n",
       "      <th>0</th>\n",
       "      <td>10</td>\n",
       "      <td>3.933333</td>\n",
       "    </tr>\n",
       "    <tr>\n",
       "      <th>1</th>\n",
       "      <td>28</td>\n",
       "      <td>2.818182</td>\n",
       "    </tr>\n",
       "    <tr>\n",
       "      <th>2</th>\n",
       "      <td>49</td>\n",
       "      <td>3.857143</td>\n",
       "    </tr>\n",
       "    <tr>\n",
       "      <th>3</th>\n",
       "      <td>53</td>\n",
       "      <td>4.008333</td>\n",
       "    </tr>\n",
       "    <tr>\n",
       "      <th>4</th>\n",
       "      <td>81</td>\n",
       "      <td>4.833333</td>\n",
       "    </tr>\n",
       "  </tbody>\n",
       "</table>\n",
       "</div>"
      ],
      "text/plain": [
       "   userId  rating_mean\n",
       "0      10     3.933333\n",
       "1      28     2.818182\n",
       "2      49     3.857143\n",
       "3      53     4.008333\n",
       "4      81     4.833333"
      ]
     },
     "execution_count": 27,
     "metadata": {},
     "output_type": "execute_result"
    }
   ],
   "source": [
    "Training = training.toPandas()\n",
    "Testing = test.toPandas()\n",
    "training_ratings_mean = Training.groupby('userId', as_index=False).mean().rename(columns = {'rating': 'rating_mean'})[['userId','rating_mean']]\n",
    "training_ratings_mean.head()"
   ]
  },
  {
   "cell_type": "code",
   "execution_count": 28,
   "metadata": {
    "scrolled": true
   },
   "outputs": [
    {
     "data": {
      "text/html": [
       "<div>\n",
       "<style scoped>\n",
       "    .dataframe tbody tr th:only-of-type {\n",
       "        vertical-align: middle;\n",
       "    }\n",
       "\n",
       "    .dataframe tbody tr th {\n",
       "        vertical-align: top;\n",
       "    }\n",
       "\n",
       "    .dataframe thead th {\n",
       "        text-align: right;\n",
       "    }\n",
       "</style>\n",
       "<table border=\"1\" class=\"dataframe\">\n",
       "  <thead>\n",
       "    <tr style=\"text-align: right;\">\n",
       "      <th></th>\n",
       "      <th>userId</th>\n",
       "      <th>movieId</th>\n",
       "      <th>rating</th>\n",
       "      <th>rating_mean</th>\n",
       "      <th>rating_adjusted</th>\n",
       "    </tr>\n",
       "  </thead>\n",
       "  <tbody>\n",
       "    <tr>\n",
       "      <th>0</th>\n",
       "      <td>10</td>\n",
       "      <td>11</td>\n",
       "      <td>4.0</td>\n",
       "      <td>3.933333</td>\n",
       "      <td>0.066667</td>\n",
       "    </tr>\n",
       "    <tr>\n",
       "      <th>1</th>\n",
       "      <td>10</td>\n",
       "      <td>25</td>\n",
       "      <td>4.0</td>\n",
       "      <td>3.933333</td>\n",
       "      <td>0.066667</td>\n",
       "    </tr>\n",
       "    <tr>\n",
       "      <th>2</th>\n",
       "      <td>10</td>\n",
       "      <td>356</td>\n",
       "      <td>3.0</td>\n",
       "      <td>3.933333</td>\n",
       "      <td>-0.933333</td>\n",
       "    </tr>\n",
       "    <tr>\n",
       "      <th>3</th>\n",
       "      <td>10</td>\n",
       "      <td>858</td>\n",
       "      <td>5.0</td>\n",
       "      <td>3.933333</td>\n",
       "      <td>1.066667</td>\n",
       "    </tr>\n",
       "    <tr>\n",
       "      <th>4</th>\n",
       "      <td>10</td>\n",
       "      <td>912</td>\n",
       "      <td>4.0</td>\n",
       "      <td>3.933333</td>\n",
       "      <td>0.066667</td>\n",
       "    </tr>\n",
       "  </tbody>\n",
       "</table>\n",
       "</div>"
      ],
      "text/plain": [
       "   userId  movieId  rating  rating_mean  rating_adjusted\n",
       "0      10       11     4.0     3.933333         0.066667\n",
       "1      10       25     4.0     3.933333         0.066667\n",
       "2      10      356     3.0     3.933333        -0.933333\n",
       "3      10      858     5.0     3.933333         1.066667\n",
       "4      10      912     4.0     3.933333         0.066667"
      ]
     },
     "execution_count": 28,
     "metadata": {},
     "output_type": "execute_result"
    }
   ],
   "source": [
    "training_adjusted_ratings = pd.merge(Training, training_ratings_mean, on='userId', how='left', sort=False)\n",
    "training_adjusted_ratings['rating_adjusted'] = training_adjusted_ratings['rating'] - training_adjusted_ratings['rating_mean']\n",
    "training_adjusted_ratings.head()"
   ]
  },
  {
   "cell_type": "code",
   "execution_count": 29,
   "metadata": {},
   "outputs": [
    {
     "data": {
      "text/html": [
       "<div>\n",
       "<style scoped>\n",
       "    .dataframe tbody tr th:only-of-type {\n",
       "        vertical-align: middle;\n",
       "    }\n",
       "\n",
       "    .dataframe tbody tr th {\n",
       "        vertical-align: top;\n",
       "    }\n",
       "\n",
       "    .dataframe thead th {\n",
       "        text-align: right;\n",
       "    }\n",
       "</style>\n",
       "<table border=\"1\" class=\"dataframe\">\n",
       "  <thead>\n",
       "    <tr style=\"text-align: right;\">\n",
       "      <th></th>\n",
       "      <th>movieId</th>\n",
       "      <th>userId</th>\n",
       "      <th>rating_adjusted</th>\n",
       "    </tr>\n",
       "  </thead>\n",
       "  <tbody>\n",
       "    <tr>\n",
       "      <th>0</th>\n",
       "      <td>11</td>\n",
       "      <td>10</td>\n",
       "      <td>0.066667</td>\n",
       "    </tr>\n",
       "    <tr>\n",
       "      <th>1</th>\n",
       "      <td>25</td>\n",
       "      <td>10</td>\n",
       "      <td>0.066667</td>\n",
       "    </tr>\n",
       "    <tr>\n",
       "      <th>2</th>\n",
       "      <td>356</td>\n",
       "      <td>10</td>\n",
       "      <td>-0.933333</td>\n",
       "    </tr>\n",
       "    <tr>\n",
       "      <th>3</th>\n",
       "      <td>858</td>\n",
       "      <td>10</td>\n",
       "      <td>1.066667</td>\n",
       "    </tr>\n",
       "    <tr>\n",
       "      <th>4</th>\n",
       "      <td>912</td>\n",
       "      <td>10</td>\n",
       "      <td>0.066667</td>\n",
       "    </tr>\n",
       "  </tbody>\n",
       "</table>\n",
       "</div>"
      ],
      "text/plain": [
       "   movieId  userId  rating_adjusted\n",
       "0       11      10         0.066667\n",
       "1       25      10         0.066667\n",
       "2      356      10        -0.933333\n",
       "3      858      10         1.066667\n",
       "4      912      10         0.066667"
      ]
     },
     "execution_count": 29,
     "metadata": {},
     "output_type": "execute_result"
    }
   ],
   "source": [
    "training_adjusted_ratings = training_adjusted_ratings[['movieId', 'userId', 'rating_adjusted']]\n",
    "training_adjusted_ratings.head()"
   ]
  },
  {
   "cell_type": "markdown",
   "metadata": {},
   "source": [
    "Here, the last column of the dataframe contains the adjusted rating on each user. We will then use this column to compute the similarity between each users using cosine similarity:\n",
    "- firstly, select two distinct users\n",
    "- secondly, isolate items that have been rated by both users\n",
    "- thirdly, apply similarity computation, which is defined as the following:\n",
    "\n",
    "$$sim(u,v) = \\frac{\\sum_{i \\in I}R_{u,i} R_{v,i}}{\\sqrt{\\sum_{i \\in I}R_{u,i}^2 R_{v,i}^2}}$$\n",
    "Where:\n",
    "- $R_{u,i}$ is the mean centered rating of item i given by user U\n",
    "- $I$ is the set of items that are rated by u and v\n",
    "\n",
    "In order to compute the similarity matrix, we will use the cosine_similarity method from the Sklearn library."
   ]
  },
  {
   "cell_type": "markdown",
   "metadata": {},
   "source": [
    "Let's first create our rating matrix. We put the userId in rows because we want to create an **user based** model. We can see that it is a very sparse matrix:"
   ]
  },
  {
   "cell_type": "code",
   "execution_count": 30,
   "metadata": {
    "scrolled": true
   },
   "outputs": [
    {
     "data": {
      "text/html": [
       "<div>\n",
       "<style scoped>\n",
       "    .dataframe tbody tr th:only-of-type {\n",
       "        vertical-align: middle;\n",
       "    }\n",
       "\n",
       "    .dataframe tbody tr th {\n",
       "        vertical-align: top;\n",
       "    }\n",
       "\n",
       "    .dataframe thead th {\n",
       "        text-align: right;\n",
       "    }\n",
       "</style>\n",
       "<table border=\"1\" class=\"dataframe\">\n",
       "  <thead>\n",
       "    <tr style=\"text-align: right;\">\n",
       "      <th>movieId</th>\n",
       "      <th>1</th>\n",
       "      <th>2</th>\n",
       "      <th>3</th>\n",
       "      <th>4</th>\n",
       "      <th>5</th>\n",
       "      <th>6</th>\n",
       "      <th>7</th>\n",
       "      <th>9</th>\n",
       "      <th>10</th>\n",
       "      <th>11</th>\n",
       "      <th>...</th>\n",
       "      <th>96079</th>\n",
       "      <th>96610</th>\n",
       "      <th>97304</th>\n",
       "      <th>97921</th>\n",
       "      <th>98809</th>\n",
       "      <th>99114</th>\n",
       "      <th>104841</th>\n",
       "      <th>106782</th>\n",
       "      <th>109374</th>\n",
       "      <th>112852</th>\n",
       "    </tr>\n",
       "    <tr>\n",
       "      <th>userId</th>\n",
       "      <th></th>\n",
       "      <th></th>\n",
       "      <th></th>\n",
       "      <th></th>\n",
       "      <th></th>\n",
       "      <th></th>\n",
       "      <th></th>\n",
       "      <th></th>\n",
       "      <th></th>\n",
       "      <th></th>\n",
       "      <th></th>\n",
       "      <th></th>\n",
       "      <th></th>\n",
       "      <th></th>\n",
       "      <th></th>\n",
       "      <th></th>\n",
       "      <th></th>\n",
       "      <th></th>\n",
       "      <th></th>\n",
       "      <th></th>\n",
       "      <th></th>\n",
       "    </tr>\n",
       "  </thead>\n",
       "  <tbody>\n",
       "    <tr>\n",
       "      <th>10</th>\n",
       "      <td>NaN</td>\n",
       "      <td>NaN</td>\n",
       "      <td>NaN</td>\n",
       "      <td>NaN</td>\n",
       "      <td>NaN</td>\n",
       "      <td>NaN</td>\n",
       "      <td>NaN</td>\n",
       "      <td>NaN</td>\n",
       "      <td>NaN</td>\n",
       "      <td>4.0</td>\n",
       "      <td>...</td>\n",
       "      <td>NaN</td>\n",
       "      <td>NaN</td>\n",
       "      <td>NaN</td>\n",
       "      <td>NaN</td>\n",
       "      <td>NaN</td>\n",
       "      <td>NaN</td>\n",
       "      <td>NaN</td>\n",
       "      <td>NaN</td>\n",
       "      <td>NaN</td>\n",
       "      <td>NaN</td>\n",
       "    </tr>\n",
       "    <tr>\n",
       "      <th>28</th>\n",
       "      <td>NaN</td>\n",
       "      <td>NaN</td>\n",
       "      <td>NaN</td>\n",
       "      <td>NaN</td>\n",
       "      <td>NaN</td>\n",
       "      <td>NaN</td>\n",
       "      <td>NaN</td>\n",
       "      <td>NaN</td>\n",
       "      <td>NaN</td>\n",
       "      <td>NaN</td>\n",
       "      <td>...</td>\n",
       "      <td>NaN</td>\n",
       "      <td>NaN</td>\n",
       "      <td>NaN</td>\n",
       "      <td>NaN</td>\n",
       "      <td>NaN</td>\n",
       "      <td>NaN</td>\n",
       "      <td>NaN</td>\n",
       "      <td>NaN</td>\n",
       "      <td>NaN</td>\n",
       "      <td>NaN</td>\n",
       "    </tr>\n",
       "    <tr>\n",
       "      <th>49</th>\n",
       "      <td>NaN</td>\n",
       "      <td>NaN</td>\n",
       "      <td>NaN</td>\n",
       "      <td>NaN</td>\n",
       "      <td>NaN</td>\n",
       "      <td>NaN</td>\n",
       "      <td>NaN</td>\n",
       "      <td>NaN</td>\n",
       "      <td>NaN</td>\n",
       "      <td>NaN</td>\n",
       "      <td>...</td>\n",
       "      <td>NaN</td>\n",
       "      <td>NaN</td>\n",
       "      <td>NaN</td>\n",
       "      <td>NaN</td>\n",
       "      <td>NaN</td>\n",
       "      <td>NaN</td>\n",
       "      <td>NaN</td>\n",
       "      <td>NaN</td>\n",
       "      <td>NaN</td>\n",
       "      <td>NaN</td>\n",
       "    </tr>\n",
       "    <tr>\n",
       "      <th>53</th>\n",
       "      <td>4.0</td>\n",
       "      <td>NaN</td>\n",
       "      <td>NaN</td>\n",
       "      <td>NaN</td>\n",
       "      <td>NaN</td>\n",
       "      <td>NaN</td>\n",
       "      <td>NaN</td>\n",
       "      <td>NaN</td>\n",
       "      <td>NaN</td>\n",
       "      <td>NaN</td>\n",
       "      <td>...</td>\n",
       "      <td>NaN</td>\n",
       "      <td>NaN</td>\n",
       "      <td>NaN</td>\n",
       "      <td>NaN</td>\n",
       "      <td>NaN</td>\n",
       "      <td>NaN</td>\n",
       "      <td>NaN</td>\n",
       "      <td>NaN</td>\n",
       "      <td>NaN</td>\n",
       "      <td>NaN</td>\n",
       "    </tr>\n",
       "    <tr>\n",
       "      <th>81</th>\n",
       "      <td>NaN</td>\n",
       "      <td>NaN</td>\n",
       "      <td>NaN</td>\n",
       "      <td>NaN</td>\n",
       "      <td>NaN</td>\n",
       "      <td>NaN</td>\n",
       "      <td>NaN</td>\n",
       "      <td>NaN</td>\n",
       "      <td>NaN</td>\n",
       "      <td>NaN</td>\n",
       "      <td>...</td>\n",
       "      <td>NaN</td>\n",
       "      <td>NaN</td>\n",
       "      <td>NaN</td>\n",
       "      <td>NaN</td>\n",
       "      <td>NaN</td>\n",
       "      <td>NaN</td>\n",
       "      <td>NaN</td>\n",
       "      <td>NaN</td>\n",
       "      <td>NaN</td>\n",
       "      <td>NaN</td>\n",
       "    </tr>\n",
       "  </tbody>\n",
       "</table>\n",
       "<p>5 rows × 2034 columns</p>\n",
       "</div>"
      ],
      "text/plain": [
       "movieId  1       2       3       4       5       6       7       9       \\\n",
       "userId                                                                    \n",
       "10          NaN     NaN     NaN     NaN     NaN     NaN     NaN     NaN   \n",
       "28          NaN     NaN     NaN     NaN     NaN     NaN     NaN     NaN   \n",
       "49          NaN     NaN     NaN     NaN     NaN     NaN     NaN     NaN   \n",
       "53          4.0     NaN     NaN     NaN     NaN     NaN     NaN     NaN   \n",
       "81          NaN     NaN     NaN     NaN     NaN     NaN     NaN     NaN   \n",
       "\n",
       "movieId  10      11      ...  96079   96610   97304   97921   98809   99114   \\\n",
       "userId                   ...                                                   \n",
       "10          NaN     4.0  ...     NaN     NaN     NaN     NaN     NaN     NaN   \n",
       "28          NaN     NaN  ...     NaN     NaN     NaN     NaN     NaN     NaN   \n",
       "49          NaN     NaN  ...     NaN     NaN     NaN     NaN     NaN     NaN   \n",
       "53          NaN     NaN  ...     NaN     NaN     NaN     NaN     NaN     NaN   \n",
       "81          NaN     NaN  ...     NaN     NaN     NaN     NaN     NaN     NaN   \n",
       "\n",
       "movieId  104841  106782  109374  112852  \n",
       "userId                                   \n",
       "10          NaN     NaN     NaN     NaN  \n",
       "28          NaN     NaN     NaN     NaN  \n",
       "49          NaN     NaN     NaN     NaN  \n",
       "53          NaN     NaN     NaN     NaN  \n",
       "81          NaN     NaN     NaN     NaN  \n",
       "\n",
       "[5 rows x 2034 columns]"
      ]
     },
     "execution_count": 30,
     "metadata": {},
     "output_type": "execute_result"
    }
   ],
   "source": [
    "# First the original ratings matrix, used to compute the predicted ratings\n",
    "training_rating_matrix = Training.pivot_table(values='rating', \n",
    "                                              index='userId', \n",
    "                                              columns='movieId')\n",
    "training_rating_matrix.head()"
   ]
  },
  {
   "cell_type": "code",
   "execution_count": 31,
   "metadata": {},
   "outputs": [
    {
     "data": {
      "text/html": [
       "<div>\n",
       "<style scoped>\n",
       "    .dataframe tbody tr th:only-of-type {\n",
       "        vertical-align: middle;\n",
       "    }\n",
       "\n",
       "    .dataframe tbody tr th {\n",
       "        vertical-align: top;\n",
       "    }\n",
       "\n",
       "    .dataframe thead th {\n",
       "        text-align: right;\n",
       "    }\n",
       "</style>\n",
       "<table border=\"1\" class=\"dataframe\">\n",
       "  <thead>\n",
       "    <tr style=\"text-align: right;\">\n",
       "      <th>movieId</th>\n",
       "      <th>1</th>\n",
       "      <th>2</th>\n",
       "      <th>3</th>\n",
       "      <th>4</th>\n",
       "      <th>5</th>\n",
       "      <th>6</th>\n",
       "      <th>7</th>\n",
       "      <th>9</th>\n",
       "      <th>10</th>\n",
       "      <th>11</th>\n",
       "      <th>...</th>\n",
       "      <th>96079</th>\n",
       "      <th>96610</th>\n",
       "      <th>97304</th>\n",
       "      <th>97921</th>\n",
       "      <th>98809</th>\n",
       "      <th>99114</th>\n",
       "      <th>104841</th>\n",
       "      <th>106782</th>\n",
       "      <th>109374</th>\n",
       "      <th>112852</th>\n",
       "    </tr>\n",
       "    <tr>\n",
       "      <th>userId</th>\n",
       "      <th></th>\n",
       "      <th></th>\n",
       "      <th></th>\n",
       "      <th></th>\n",
       "      <th></th>\n",
       "      <th></th>\n",
       "      <th></th>\n",
       "      <th></th>\n",
       "      <th></th>\n",
       "      <th></th>\n",
       "      <th></th>\n",
       "      <th></th>\n",
       "      <th></th>\n",
       "      <th></th>\n",
       "      <th></th>\n",
       "      <th></th>\n",
       "      <th></th>\n",
       "      <th></th>\n",
       "      <th></th>\n",
       "      <th></th>\n",
       "      <th></th>\n",
       "    </tr>\n",
       "  </thead>\n",
       "  <tbody>\n",
       "    <tr>\n",
       "      <th>10</th>\n",
       "      <td>NaN</td>\n",
       "      <td>NaN</td>\n",
       "      <td>NaN</td>\n",
       "      <td>NaN</td>\n",
       "      <td>NaN</td>\n",
       "      <td>NaN</td>\n",
       "      <td>NaN</td>\n",
       "      <td>NaN</td>\n",
       "      <td>NaN</td>\n",
       "      <td>0.066667</td>\n",
       "      <td>...</td>\n",
       "      <td>NaN</td>\n",
       "      <td>NaN</td>\n",
       "      <td>NaN</td>\n",
       "      <td>NaN</td>\n",
       "      <td>NaN</td>\n",
       "      <td>NaN</td>\n",
       "      <td>NaN</td>\n",
       "      <td>NaN</td>\n",
       "      <td>NaN</td>\n",
       "      <td>NaN</td>\n",
       "    </tr>\n",
       "    <tr>\n",
       "      <th>28</th>\n",
       "      <td>NaN</td>\n",
       "      <td>NaN</td>\n",
       "      <td>NaN</td>\n",
       "      <td>NaN</td>\n",
       "      <td>NaN</td>\n",
       "      <td>NaN</td>\n",
       "      <td>NaN</td>\n",
       "      <td>NaN</td>\n",
       "      <td>NaN</td>\n",
       "      <td>NaN</td>\n",
       "      <td>...</td>\n",
       "      <td>NaN</td>\n",
       "      <td>NaN</td>\n",
       "      <td>NaN</td>\n",
       "      <td>NaN</td>\n",
       "      <td>NaN</td>\n",
       "      <td>NaN</td>\n",
       "      <td>NaN</td>\n",
       "      <td>NaN</td>\n",
       "      <td>NaN</td>\n",
       "      <td>NaN</td>\n",
       "    </tr>\n",
       "    <tr>\n",
       "      <th>49</th>\n",
       "      <td>NaN</td>\n",
       "      <td>NaN</td>\n",
       "      <td>NaN</td>\n",
       "      <td>NaN</td>\n",
       "      <td>NaN</td>\n",
       "      <td>NaN</td>\n",
       "      <td>NaN</td>\n",
       "      <td>NaN</td>\n",
       "      <td>NaN</td>\n",
       "      <td>NaN</td>\n",
       "      <td>...</td>\n",
       "      <td>NaN</td>\n",
       "      <td>NaN</td>\n",
       "      <td>NaN</td>\n",
       "      <td>NaN</td>\n",
       "      <td>NaN</td>\n",
       "      <td>NaN</td>\n",
       "      <td>NaN</td>\n",
       "      <td>NaN</td>\n",
       "      <td>NaN</td>\n",
       "      <td>NaN</td>\n",
       "    </tr>\n",
       "    <tr>\n",
       "      <th>53</th>\n",
       "      <td>-0.008333</td>\n",
       "      <td>NaN</td>\n",
       "      <td>NaN</td>\n",
       "      <td>NaN</td>\n",
       "      <td>NaN</td>\n",
       "      <td>NaN</td>\n",
       "      <td>NaN</td>\n",
       "      <td>NaN</td>\n",
       "      <td>NaN</td>\n",
       "      <td>NaN</td>\n",
       "      <td>...</td>\n",
       "      <td>NaN</td>\n",
       "      <td>NaN</td>\n",
       "      <td>NaN</td>\n",
       "      <td>NaN</td>\n",
       "      <td>NaN</td>\n",
       "      <td>NaN</td>\n",
       "      <td>NaN</td>\n",
       "      <td>NaN</td>\n",
       "      <td>NaN</td>\n",
       "      <td>NaN</td>\n",
       "    </tr>\n",
       "    <tr>\n",
       "      <th>81</th>\n",
       "      <td>NaN</td>\n",
       "      <td>NaN</td>\n",
       "      <td>NaN</td>\n",
       "      <td>NaN</td>\n",
       "      <td>NaN</td>\n",
       "      <td>NaN</td>\n",
       "      <td>NaN</td>\n",
       "      <td>NaN</td>\n",
       "      <td>NaN</td>\n",
       "      <td>NaN</td>\n",
       "      <td>...</td>\n",
       "      <td>NaN</td>\n",
       "      <td>NaN</td>\n",
       "      <td>NaN</td>\n",
       "      <td>NaN</td>\n",
       "      <td>NaN</td>\n",
       "      <td>NaN</td>\n",
       "      <td>NaN</td>\n",
       "      <td>NaN</td>\n",
       "      <td>NaN</td>\n",
       "      <td>NaN</td>\n",
       "    </tr>\n",
       "  </tbody>\n",
       "</table>\n",
       "<p>5 rows × 2034 columns</p>\n",
       "</div>"
      ],
      "text/plain": [
       "movieId    1       2       3       4       5       6       7       9       \\\n",
       "userId                                                                      \n",
       "10            NaN     NaN     NaN     NaN     NaN     NaN     NaN     NaN   \n",
       "28            NaN     NaN     NaN     NaN     NaN     NaN     NaN     NaN   \n",
       "49            NaN     NaN     NaN     NaN     NaN     NaN     NaN     NaN   \n",
       "53      -0.008333     NaN     NaN     NaN     NaN     NaN     NaN     NaN   \n",
       "81            NaN     NaN     NaN     NaN     NaN     NaN     NaN     NaN   \n",
       "\n",
       "movieId  10        11      ...  96079   96610   97304   97921   98809   \\\n",
       "userId                     ...                                           \n",
       "10          NaN  0.066667  ...     NaN     NaN     NaN     NaN     NaN   \n",
       "28          NaN       NaN  ...     NaN     NaN     NaN     NaN     NaN   \n",
       "49          NaN       NaN  ...     NaN     NaN     NaN     NaN     NaN   \n",
       "53          NaN       NaN  ...     NaN     NaN     NaN     NaN     NaN   \n",
       "81          NaN       NaN  ...     NaN     NaN     NaN     NaN     NaN   \n",
       "\n",
       "movieId  99114   104841  106782  109374  112852  \n",
       "userId                                           \n",
       "10          NaN     NaN     NaN     NaN     NaN  \n",
       "28          NaN     NaN     NaN     NaN     NaN  \n",
       "49          NaN     NaN     NaN     NaN     NaN  \n",
       "53          NaN     NaN     NaN     NaN     NaN  \n",
       "81          NaN     NaN     NaN     NaN     NaN  \n",
       "\n",
       "[5 rows x 2034 columns]"
      ]
     },
     "execution_count": 31,
     "metadata": {},
     "output_type": "execute_result"
    }
   ],
   "source": [
    "# Second the adusted rating matrix, used to compute the similarities between movies\n",
    "training_adjusted_rating_matrix = training_adjusted_ratings.pivot_table(values='rating_adjusted', \n",
    "                                                                        index='userId', \n",
    "                                                                        columns='movieId')\n",
    "training_adjusted_rating_matrix.head()"
   ]
  },
  {
   "cell_type": "code",
   "execution_count": 32,
   "metadata": {},
   "outputs": [
    {
     "data": {
      "text/html": [
       "<div>\n",
       "<style scoped>\n",
       "    .dataframe tbody tr th:only-of-type {\n",
       "        vertical-align: middle;\n",
       "    }\n",
       "\n",
       "    .dataframe tbody tr th {\n",
       "        vertical-align: top;\n",
       "    }\n",
       "\n",
       "    .dataframe thead th {\n",
       "        text-align: right;\n",
       "    }\n",
       "</style>\n",
       "<table border=\"1\" class=\"dataframe\">\n",
       "  <thead>\n",
       "    <tr style=\"text-align: right;\">\n",
       "      <th>movieId</th>\n",
       "      <th>1</th>\n",
       "      <th>2</th>\n",
       "      <th>3</th>\n",
       "      <th>4</th>\n",
       "      <th>5</th>\n",
       "      <th>6</th>\n",
       "      <th>7</th>\n",
       "      <th>9</th>\n",
       "      <th>10</th>\n",
       "      <th>11</th>\n",
       "      <th>...</th>\n",
       "      <th>96079</th>\n",
       "      <th>96610</th>\n",
       "      <th>97304</th>\n",
       "      <th>97921</th>\n",
       "      <th>98809</th>\n",
       "      <th>99114</th>\n",
       "      <th>104841</th>\n",
       "      <th>106782</th>\n",
       "      <th>109374</th>\n",
       "      <th>112852</th>\n",
       "    </tr>\n",
       "    <tr>\n",
       "      <th>userId</th>\n",
       "      <th></th>\n",
       "      <th></th>\n",
       "      <th></th>\n",
       "      <th></th>\n",
       "      <th></th>\n",
       "      <th></th>\n",
       "      <th></th>\n",
       "      <th></th>\n",
       "      <th></th>\n",
       "      <th></th>\n",
       "      <th></th>\n",
       "      <th></th>\n",
       "      <th></th>\n",
       "      <th></th>\n",
       "      <th></th>\n",
       "      <th></th>\n",
       "      <th></th>\n",
       "      <th></th>\n",
       "      <th></th>\n",
       "      <th></th>\n",
       "      <th></th>\n",
       "    </tr>\n",
       "  </thead>\n",
       "  <tbody>\n",
       "    <tr>\n",
       "      <th>10</th>\n",
       "      <td>0.000000</td>\n",
       "      <td>0.0</td>\n",
       "      <td>0.0</td>\n",
       "      <td>0.0</td>\n",
       "      <td>0.0</td>\n",
       "      <td>0.0</td>\n",
       "      <td>0.0</td>\n",
       "      <td>0.0</td>\n",
       "      <td>0.0</td>\n",
       "      <td>0.066667</td>\n",
       "      <td>...</td>\n",
       "      <td>0.0</td>\n",
       "      <td>0.0</td>\n",
       "      <td>0.0</td>\n",
       "      <td>0.0</td>\n",
       "      <td>0.0</td>\n",
       "      <td>0.0</td>\n",
       "      <td>0.0</td>\n",
       "      <td>0.0</td>\n",
       "      <td>0.0</td>\n",
       "      <td>0.0</td>\n",
       "    </tr>\n",
       "    <tr>\n",
       "      <th>28</th>\n",
       "      <td>0.000000</td>\n",
       "      <td>0.0</td>\n",
       "      <td>0.0</td>\n",
       "      <td>0.0</td>\n",
       "      <td>0.0</td>\n",
       "      <td>0.0</td>\n",
       "      <td>0.0</td>\n",
       "      <td>0.0</td>\n",
       "      <td>0.0</td>\n",
       "      <td>0.000000</td>\n",
       "      <td>...</td>\n",
       "      <td>0.0</td>\n",
       "      <td>0.0</td>\n",
       "      <td>0.0</td>\n",
       "      <td>0.0</td>\n",
       "      <td>0.0</td>\n",
       "      <td>0.0</td>\n",
       "      <td>0.0</td>\n",
       "      <td>0.0</td>\n",
       "      <td>0.0</td>\n",
       "      <td>0.0</td>\n",
       "    </tr>\n",
       "    <tr>\n",
       "      <th>49</th>\n",
       "      <td>0.000000</td>\n",
       "      <td>0.0</td>\n",
       "      <td>0.0</td>\n",
       "      <td>0.0</td>\n",
       "      <td>0.0</td>\n",
       "      <td>0.0</td>\n",
       "      <td>0.0</td>\n",
       "      <td>0.0</td>\n",
       "      <td>0.0</td>\n",
       "      <td>0.000000</td>\n",
       "      <td>...</td>\n",
       "      <td>0.0</td>\n",
       "      <td>0.0</td>\n",
       "      <td>0.0</td>\n",
       "      <td>0.0</td>\n",
       "      <td>0.0</td>\n",
       "      <td>0.0</td>\n",
       "      <td>0.0</td>\n",
       "      <td>0.0</td>\n",
       "      <td>0.0</td>\n",
       "      <td>0.0</td>\n",
       "    </tr>\n",
       "    <tr>\n",
       "      <th>53</th>\n",
       "      <td>-0.008333</td>\n",
       "      <td>0.0</td>\n",
       "      <td>0.0</td>\n",
       "      <td>0.0</td>\n",
       "      <td>0.0</td>\n",
       "      <td>0.0</td>\n",
       "      <td>0.0</td>\n",
       "      <td>0.0</td>\n",
       "      <td>0.0</td>\n",
       "      <td>0.000000</td>\n",
       "      <td>...</td>\n",
       "      <td>0.0</td>\n",
       "      <td>0.0</td>\n",
       "      <td>0.0</td>\n",
       "      <td>0.0</td>\n",
       "      <td>0.0</td>\n",
       "      <td>0.0</td>\n",
       "      <td>0.0</td>\n",
       "      <td>0.0</td>\n",
       "      <td>0.0</td>\n",
       "      <td>0.0</td>\n",
       "    </tr>\n",
       "    <tr>\n",
       "      <th>81</th>\n",
       "      <td>0.000000</td>\n",
       "      <td>0.0</td>\n",
       "      <td>0.0</td>\n",
       "      <td>0.0</td>\n",
       "      <td>0.0</td>\n",
       "      <td>0.0</td>\n",
       "      <td>0.0</td>\n",
       "      <td>0.0</td>\n",
       "      <td>0.0</td>\n",
       "      <td>0.000000</td>\n",
       "      <td>...</td>\n",
       "      <td>0.0</td>\n",
       "      <td>0.0</td>\n",
       "      <td>0.0</td>\n",
       "      <td>0.0</td>\n",
       "      <td>0.0</td>\n",
       "      <td>0.0</td>\n",
       "      <td>0.0</td>\n",
       "      <td>0.0</td>\n",
       "      <td>0.0</td>\n",
       "      <td>0.0</td>\n",
       "    </tr>\n",
       "  </tbody>\n",
       "</table>\n",
       "<p>5 rows × 2034 columns</p>\n",
       "</div>"
      ],
      "text/plain": [
       "movieId    1       2       3       4       5       6       7       9       \\\n",
       "userId                                                                      \n",
       "10       0.000000     0.0     0.0     0.0     0.0     0.0     0.0     0.0   \n",
       "28       0.000000     0.0     0.0     0.0     0.0     0.0     0.0     0.0   \n",
       "49       0.000000     0.0     0.0     0.0     0.0     0.0     0.0     0.0   \n",
       "53      -0.008333     0.0     0.0     0.0     0.0     0.0     0.0     0.0   \n",
       "81       0.000000     0.0     0.0     0.0     0.0     0.0     0.0     0.0   \n",
       "\n",
       "movieId  10        11      ...  96079   96610   97304   97921   98809   \\\n",
       "userId                     ...                                           \n",
       "10          0.0  0.066667  ...     0.0     0.0     0.0     0.0     0.0   \n",
       "28          0.0  0.000000  ...     0.0     0.0     0.0     0.0     0.0   \n",
       "49          0.0  0.000000  ...     0.0     0.0     0.0     0.0     0.0   \n",
       "53          0.0  0.000000  ...     0.0     0.0     0.0     0.0     0.0   \n",
       "81          0.0  0.000000  ...     0.0     0.0     0.0     0.0     0.0   \n",
       "\n",
       "movieId  99114   104841  106782  109374  112852  \n",
       "userId                                           \n",
       "10          0.0     0.0     0.0     0.0     0.0  \n",
       "28          0.0     0.0     0.0     0.0     0.0  \n",
       "49          0.0     0.0     0.0     0.0     0.0  \n",
       "53          0.0     0.0     0.0     0.0     0.0  \n",
       "81          0.0     0.0     0.0     0.0     0.0  \n",
       "\n",
       "[5 rows x 2034 columns]"
      ]
     },
     "execution_count": 32,
     "metadata": {},
     "output_type": "execute_result"
    }
   ],
   "source": [
    "# Creating a dummy matrix with 0 instead of Nan\n",
    "\n",
    "dummy_training_adjusted_rating_matrix = training_adjusted_rating_matrix.copy().fillna(0)\n",
    "dummy_training_adjusted_rating_matrix.head()"
   ]
  },
  {
   "cell_type": "code",
   "execution_count": 33,
   "metadata": {},
   "outputs": [],
   "source": [
    "# Importing the cosine similarity method from the Sklearn library\n",
    "from sklearn.metrics.pairwise import cosine_similarity\n",
    "\n",
    "# Computing the similarities\n",
    "cosine_similarity = cosine_similarity(dummy_training_adjusted_rating_matrix, dummy_training_adjusted_rating_matrix)"
   ]
  },
  {
   "cell_type": "code",
   "execution_count": 34,
   "metadata": {},
   "outputs": [
    {
     "data": {
      "text/html": [
       "<div>\n",
       "<style scoped>\n",
       "    .dataframe tbody tr th:only-of-type {\n",
       "        vertical-align: middle;\n",
       "    }\n",
       "\n",
       "    .dataframe tbody tr th {\n",
       "        vertical-align: top;\n",
       "    }\n",
       "\n",
       "    .dataframe thead th {\n",
       "        text-align: right;\n",
       "    }\n",
       "</style>\n",
       "<table border=\"1\" class=\"dataframe\">\n",
       "  <thead>\n",
       "    <tr style=\"text-align: right;\">\n",
       "      <th>userId</th>\n",
       "      <th>10</th>\n",
       "      <th>28</th>\n",
       "      <th>49</th>\n",
       "      <th>53</th>\n",
       "      <th>81</th>\n",
       "      <th>124</th>\n",
       "      <th>127</th>\n",
       "      <th>163</th>\n",
       "      <th>167</th>\n",
       "      <th>180</th>\n",
       "      <th>...</th>\n",
       "      <th>138359</th>\n",
       "      <th>138365</th>\n",
       "      <th>138370</th>\n",
       "      <th>138380</th>\n",
       "      <th>138405</th>\n",
       "      <th>138408</th>\n",
       "      <th>138464</th>\n",
       "      <th>138465</th>\n",
       "      <th>138466</th>\n",
       "      <th>138467</th>\n",
       "    </tr>\n",
       "    <tr>\n",
       "      <th>userId</th>\n",
       "      <th></th>\n",
       "      <th></th>\n",
       "      <th></th>\n",
       "      <th></th>\n",
       "      <th></th>\n",
       "      <th></th>\n",
       "      <th></th>\n",
       "      <th></th>\n",
       "      <th></th>\n",
       "      <th></th>\n",
       "      <th></th>\n",
       "      <th></th>\n",
       "      <th></th>\n",
       "      <th></th>\n",
       "      <th></th>\n",
       "      <th></th>\n",
       "      <th></th>\n",
       "      <th></th>\n",
       "      <th></th>\n",
       "      <th></th>\n",
       "      <th></th>\n",
       "    </tr>\n",
       "  </thead>\n",
       "  <tbody>\n",
       "    <tr>\n",
       "      <th>10</th>\n",
       "      <td>1.000000</td>\n",
       "      <td>0.000000</td>\n",
       "      <td>0.000917</td>\n",
       "      <td>0.026053</td>\n",
       "      <td>-0.029083</td>\n",
       "      <td>0.008906</td>\n",
       "      <td>0.010196</td>\n",
       "      <td>0.053683</td>\n",
       "      <td>0.000000</td>\n",
       "      <td>0.000000</td>\n",
       "      <td>...</td>\n",
       "      <td>0.000000</td>\n",
       "      <td>-0.009054</td>\n",
       "      <td>-0.067611</td>\n",
       "      <td>0.002612</td>\n",
       "      <td>-0.063201</td>\n",
       "      <td>0.060723</td>\n",
       "      <td>0.034905</td>\n",
       "      <td>0.012706</td>\n",
       "      <td>0.000000</td>\n",
       "      <td>0.026500</td>\n",
       "    </tr>\n",
       "    <tr>\n",
       "      <th>28</th>\n",
       "      <td>0.000000</td>\n",
       "      <td>1.000000</td>\n",
       "      <td>0.150039</td>\n",
       "      <td>-0.059403</td>\n",
       "      <td>0.000000</td>\n",
       "      <td>0.056805</td>\n",
       "      <td>-0.062050</td>\n",
       "      <td>-0.002862</td>\n",
       "      <td>0.000000</td>\n",
       "      <td>0.132238</td>\n",
       "      <td>...</td>\n",
       "      <td>-0.045947</td>\n",
       "      <td>0.038491</td>\n",
       "      <td>-0.090442</td>\n",
       "      <td>0.000000</td>\n",
       "      <td>0.117946</td>\n",
       "      <td>0.000000</td>\n",
       "      <td>-0.001250</td>\n",
       "      <td>0.000000</td>\n",
       "      <td>0.000000</td>\n",
       "      <td>0.035324</td>\n",
       "    </tr>\n",
       "    <tr>\n",
       "      <th>49</th>\n",
       "      <td>0.000917</td>\n",
       "      <td>0.150039</td>\n",
       "      <td>1.000000</td>\n",
       "      <td>-0.004249</td>\n",
       "      <td>0.009110</td>\n",
       "      <td>0.042541</td>\n",
       "      <td>-0.075128</td>\n",
       "      <td>-0.009466</td>\n",
       "      <td>0.007655</td>\n",
       "      <td>0.086317</td>\n",
       "      <td>...</td>\n",
       "      <td>-0.015181</td>\n",
       "      <td>0.073422</td>\n",
       "      <td>0.034066</td>\n",
       "      <td>-0.005319</td>\n",
       "      <td>0.079190</td>\n",
       "      <td>-0.008037</td>\n",
       "      <td>0.010231</td>\n",
       "      <td>0.089315</td>\n",
       "      <td>0.046503</td>\n",
       "      <td>0.034803</td>\n",
       "    </tr>\n",
       "    <tr>\n",
       "      <th>53</th>\n",
       "      <td>0.026053</td>\n",
       "      <td>-0.059403</td>\n",
       "      <td>-0.004249</td>\n",
       "      <td>1.000000</td>\n",
       "      <td>-0.018794</td>\n",
       "      <td>0.029115</td>\n",
       "      <td>0.003231</td>\n",
       "      <td>-0.000222</td>\n",
       "      <td>-0.032193</td>\n",
       "      <td>-0.027180</td>\n",
       "      <td>...</td>\n",
       "      <td>-0.000270</td>\n",
       "      <td>-0.004438</td>\n",
       "      <td>0.066201</td>\n",
       "      <td>-0.021044</td>\n",
       "      <td>0.007466</td>\n",
       "      <td>-0.027017</td>\n",
       "      <td>0.005834</td>\n",
       "      <td>0.019843</td>\n",
       "      <td>0.041553</td>\n",
       "      <td>-0.007571</td>\n",
       "    </tr>\n",
       "    <tr>\n",
       "      <th>81</th>\n",
       "      <td>-0.029083</td>\n",
       "      <td>0.000000</td>\n",
       "      <td>0.009110</td>\n",
       "      <td>-0.018794</td>\n",
       "      <td>1.000000</td>\n",
       "      <td>-0.016746</td>\n",
       "      <td>0.012056</td>\n",
       "      <td>0.000000</td>\n",
       "      <td>0.014634</td>\n",
       "      <td>0.000000</td>\n",
       "      <td>...</td>\n",
       "      <td>-0.037031</td>\n",
       "      <td>0.013710</td>\n",
       "      <td>0.024520</td>\n",
       "      <td>-0.012975</td>\n",
       "      <td>0.000000</td>\n",
       "      <td>-0.018951</td>\n",
       "      <td>0.020575</td>\n",
       "      <td>0.000000</td>\n",
       "      <td>0.000000</td>\n",
       "      <td>0.000368</td>\n",
       "    </tr>\n",
       "  </tbody>\n",
       "</table>\n",
       "<p>5 rows × 9672 columns</p>\n",
       "</div>"
      ],
      "text/plain": [
       "userId    10        28        49        53        81        124       127     \\\n",
       "userId                                                                         \n",
       "10      1.000000  0.000000  0.000917  0.026053 -0.029083  0.008906  0.010196   \n",
       "28      0.000000  1.000000  0.150039 -0.059403  0.000000  0.056805 -0.062050   \n",
       "49      0.000917  0.150039  1.000000 -0.004249  0.009110  0.042541 -0.075128   \n",
       "53      0.026053 -0.059403 -0.004249  1.000000 -0.018794  0.029115  0.003231   \n",
       "81     -0.029083  0.000000  0.009110 -0.018794  1.000000 -0.016746  0.012056   \n",
       "\n",
       "userId    163       167       180     ...    138359    138365    138370  \\\n",
       "userId                                ...                                 \n",
       "10      0.053683  0.000000  0.000000  ...  0.000000 -0.009054 -0.067611   \n",
       "28     -0.002862  0.000000  0.132238  ... -0.045947  0.038491 -0.090442   \n",
       "49     -0.009466  0.007655  0.086317  ... -0.015181  0.073422  0.034066   \n",
       "53     -0.000222 -0.032193 -0.027180  ... -0.000270 -0.004438  0.066201   \n",
       "81      0.000000  0.014634  0.000000  ... -0.037031  0.013710  0.024520   \n",
       "\n",
       "userId    138380    138405    138408    138464    138465    138466    138467  \n",
       "userId                                                                        \n",
       "10      0.002612 -0.063201  0.060723  0.034905  0.012706  0.000000  0.026500  \n",
       "28      0.000000  0.117946  0.000000 -0.001250  0.000000  0.000000  0.035324  \n",
       "49     -0.005319  0.079190 -0.008037  0.010231  0.089315  0.046503  0.034803  \n",
       "53     -0.021044  0.007466 -0.027017  0.005834  0.019843  0.041553 -0.007571  \n",
       "81     -0.012975  0.000000 -0.018951  0.020575  0.000000  0.000000  0.000368  \n",
       "\n",
       "[5 rows x 9672 columns]"
      ]
     },
     "execution_count": 34,
     "metadata": {},
     "output_type": "execute_result"
    }
   ],
   "source": [
    "# converting the cosine similarity into a similarity matrix\n",
    "cosine_similarity = pd.DataFrame(cosine_similarity, \n",
    "                                 index=dummy_training_adjusted_rating_matrix.index, \n",
    "                                 columns=dummy_training_adjusted_rating_matrix.index)\n",
    "cosine_similarity.head()"
   ]
  },
  {
   "cell_type": "markdown",
   "metadata": {},
   "source": [
    "### Computing predicted ratings\n",
    "\n",
    "Now we can complete the rating matrix by computing each missing rating using weighted mean ratings. \n",
    "More precisely, each missing entry is given by : \n",
    "\n",
    "$$ r_{u,i} = \\frac{\\sum_{i \\in N}Similarity_{u,v} * r_{v,i}}{\\sum_{j \\in N}\\mid\\mid Similarity_{u,v} \\mid\\mid } $$\n",
    "\n",
    "where $N$ is the set of users that have rated $i$."
   ]
  },
  {
   "cell_type": "code",
   "execution_count": 35,
   "metadata": {},
   "outputs": [],
   "source": [
    "import heapq\n",
    "def user_based_collab(userId, movieId, k=10):\n",
    "    \n",
    "    # First check if the user is in the training set. Otherwise we do not have computed similarities for her.\n",
    "    if userId in training_rating_matrix.index:\n",
    "        \n",
    "        # get the similarities between the movie and the other movies\n",
    "        user_similarities = cosine_similarity[userId]\n",
    "        #print('User Similarities: ', user_similarities)\n",
    "        \n",
    "        # Get all the other users' ratings for this movie\n",
    "        other_users_ratings = training_rating_matrix[movieId]\n",
    "        #print('other users ratings: ', other_users_ratings)\n",
    "        \n",
    "        # Remove the NaN from the users' ratings and from the similarity vector\n",
    "        nan_index = other_users_ratings[other_users_ratings.isnull()].index\n",
    "        other_users_ratings = other_users_ratings.dropna()\n",
    "        user_similarities = user_similarities.drop(nan_index)\n",
    "        #print('DROPING NAN')\n",
    "        #print('User Similarities: ', user_similarities)\n",
    "        #print('other users ratings: ', other_users_ratings)\n",
    "        \n",
    "        # take k nearest neighbors\n",
    "        k_index = user_similarities[user_similarities.isin(heapq.nlargest(k, user_similarities))].index\n",
    "        other_users_ratings = other_users_ratings[k_index]\n",
    "        user_similarities = user_similarities[k_index]\n",
    "        #print('TAKING K NEAREST')\n",
    "        #print('User Similarities: ', user_similarities)\n",
    "        #print('other users ratings: ', other_users_ratings)\n",
    "           \n",
    "        \n",
    "        # Compute the predicted rating\n",
    "        s = 0\n",
    "        for sim in user_similarities:\n",
    "            s += abs(sim)\n",
    "        if s > 0:\n",
    "            return np.dot(user_similarities, other_users_ratings) / s\n",
    "        else:\n",
    "            return mu\n",
    "    \n",
    "        \n",
    "    # If the user or the movie were not in the training set, return the average rating\n",
    "    else:\n",
    "        return mu"
   ]
  },
  {
   "cell_type": "code",
   "execution_count": 36,
   "metadata": {},
   "outputs": [
    {
     "name": "stdout",
     "output_type": "stream",
     "text": [
      "Time of the training: 910.9235987663269\n"
     ]
    }
   ],
   "source": [
    "t0 = time.time()\n",
    "predictions_user_based =[]\n",
    "for row in Testing.index:        \n",
    "    userId = Testing.loc[row, 'userId']\n",
    "    movieId = Testing.loc[row, 'movieId']\n",
    "    rating = user_based_collab(userId, movieId)\n",
    "    predictions_user_based.append(rating)\n",
    "t_user_based = time.time() - t0\n",
    "print (\"Time of the training:\", t_user_based)"
   ]
  },
  {
   "cell_type": "code",
   "execution_count": 37,
   "metadata": {},
   "outputs": [
    {
     "data": {
      "text/html": [
       "<div>\n",
       "<style scoped>\n",
       "    .dataframe tbody tr th:only-of-type {\n",
       "        vertical-align: middle;\n",
       "    }\n",
       "\n",
       "    .dataframe tbody tr th {\n",
       "        vertical-align: top;\n",
       "    }\n",
       "\n",
       "    .dataframe thead th {\n",
       "        text-align: right;\n",
       "    }\n",
       "</style>\n",
       "<table border=\"1\" class=\"dataframe\">\n",
       "  <thead>\n",
       "    <tr style=\"text-align: right;\">\n",
       "      <th></th>\n",
       "      <th>userId</th>\n",
       "      <th>movieId</th>\n",
       "      <th>rating</th>\n",
       "      <th>User_based_predictions</th>\n",
       "    </tr>\n",
       "  </thead>\n",
       "  <tbody>\n",
       "    <tr>\n",
       "      <th>0</th>\n",
       "      <td>10</td>\n",
       "      <td>1</td>\n",
       "      <td>4.0</td>\n",
       "      <td>3.450373</td>\n",
       "    </tr>\n",
       "    <tr>\n",
       "      <th>1</th>\n",
       "      <td>10</td>\n",
       "      <td>260</td>\n",
       "      <td>4.0</td>\n",
       "      <td>4.493974</td>\n",
       "    </tr>\n",
       "    <tr>\n",
       "      <th>2</th>\n",
       "      <td>10</td>\n",
       "      <td>527</td>\n",
       "      <td>5.0</td>\n",
       "      <td>4.228111</td>\n",
       "    </tr>\n",
       "    <tr>\n",
       "      <th>3</th>\n",
       "      <td>10</td>\n",
       "      <td>1250</td>\n",
       "      <td>4.0</td>\n",
       "      <td>3.834499</td>\n",
       "    </tr>\n",
       "    <tr>\n",
       "      <th>4</th>\n",
       "      <td>10</td>\n",
       "      <td>1304</td>\n",
       "      <td>3.0</td>\n",
       "      <td>3.887089</td>\n",
       "    </tr>\n",
       "    <tr>\n",
       "      <th>...</th>\n",
       "      <td>...</td>\n",
       "      <td>...</td>\n",
       "      <td>...</td>\n",
       "      <td>...</td>\n",
       "    </tr>\n",
       "    <tr>\n",
       "      <th>223429</th>\n",
       "      <td>138467</td>\n",
       "      <td>2571</td>\n",
       "      <td>5.0</td>\n",
       "      <td>4.352845</td>\n",
       "    </tr>\n",
       "    <tr>\n",
       "      <th>223430</th>\n",
       "      <td>138467</td>\n",
       "      <td>2717</td>\n",
       "      <td>4.0</td>\n",
       "      <td>2.988727</td>\n",
       "    </tr>\n",
       "    <tr>\n",
       "      <th>223431</th>\n",
       "      <td>138467</td>\n",
       "      <td>2997</td>\n",
       "      <td>5.0</td>\n",
       "      <td>4.214984</td>\n",
       "    </tr>\n",
       "    <tr>\n",
       "      <th>223432</th>\n",
       "      <td>138467</td>\n",
       "      <td>3101</td>\n",
       "      <td>3.0</td>\n",
       "      <td>3.732500</td>\n",
       "    </tr>\n",
       "    <tr>\n",
       "      <th>223433</th>\n",
       "      <td>138467</td>\n",
       "      <td>3210</td>\n",
       "      <td>4.0</td>\n",
       "      <td>3.474739</td>\n",
       "    </tr>\n",
       "  </tbody>\n",
       "</table>\n",
       "<p>223434 rows × 4 columns</p>\n",
       "</div>"
      ],
      "text/plain": [
       "        userId  movieId  rating  User_based_predictions\n",
       "0           10        1     4.0                3.450373\n",
       "1           10      260     4.0                4.493974\n",
       "2           10      527     5.0                4.228111\n",
       "3           10     1250     4.0                3.834499\n",
       "4           10     1304     3.0                3.887089\n",
       "...        ...      ...     ...                     ...\n",
       "223429  138467     2571     5.0                4.352845\n",
       "223430  138467     2717     4.0                2.988727\n",
       "223431  138467     2997     5.0                4.214984\n",
       "223432  138467     3101     3.0                3.732500\n",
       "223433  138467     3210     4.0                3.474739\n",
       "\n",
       "[223434 rows x 4 columns]"
      ]
     },
     "execution_count": 37,
     "metadata": {},
     "output_type": "execute_result"
    }
   ],
   "source": [
    "Testing['User_based_predictions'] = predictions_user_based\n",
    "Testing"
   ]
  },
  {
   "cell_type": "code",
   "execution_count": 38,
   "metadata": {},
   "outputs": [
    {
     "name": "stdout",
     "output_type": "stream",
     "text": [
      "MAE:  0.7114360141571938 \n",
      "RMSE:  0.9132074088126835 \n",
      "precision:  0.22842987190848305 \n",
      "Running time:  910.9235987663269\n"
     ]
    }
   ],
   "source": [
    "y_1 = Testing['rating']\n",
    "y_predicted_1 = Testing['User_based_predictions']\n",
    "\n",
    "mae_user_based = mean_absolute_error(y_1, y_predicted_1)\n",
    "rmse_user_based = RMSE(y_1, y_predicted_1)\n",
    "precision_user_based = precision(y_1, y_predicted_1)                                     \n",
    "\n",
    "print('MAE: ', mae_user_based, '\\nRMSE: ', rmse_user_based, '\\nprecision: ', precision_user_based, '\\nRunning time: ', t_user_based)"
   ]
  },
  {
   "cell_type": "markdown",
   "metadata": {},
   "source": [
    "Fortunately, we can observe an improvement in our metrics by ...\n",
    "This model is more effective than the baseline model because it is more personalized. Indeed, it takes into account the users behaviors and their similarities. However, due to an important sparsity, this is not the best that can be done: the performances would be poorer if we had taken less popular movies with fewer ratings in our sample dataset."
   ]
  },
  {
   "cell_type": "code",
   "execution_count": 39,
   "metadata": {},
   "outputs": [],
   "source": [
    "Testing.to_csv('predictions_user_based_2000movies')"
   ]
  },
  {
   "cell_type": "markdown",
   "metadata": {},
   "source": [
    "## Model Based: Matrix Factorization"
   ]
  },
  {
   "cell_type": "markdown",
   "metadata": {},
   "source": [
    "### 1. Simple ALS method\n",
    "We will first create a simple ALS method to fit the training set, without fitting the hyper parameters.\n",
    "We start with a rank of 20, 20 iterations, $\\lambda=0.01$ and we set the constraint of non-negativity to True. "
   ]
  },
  {
   "cell_type": "markdown",
   "metadata": {},
   "source": [
    "Let's first import the required packages:"
   ]
  },
  {
   "cell_type": "code",
   "execution_count": 40,
   "metadata": {},
   "outputs": [],
   "source": [
    "from pyspark.ml.recommendation import ALS, ALSModel\n",
    "from pyspark.ml.tuning import TrainValidationSplit, ParamGridBuilder\n",
    "from pyspark.ml.evaluation import RegressionEvaluator"
   ]
  },
  {
   "cell_type": "code",
   "execution_count": 41,
   "metadata": {},
   "outputs": [],
   "source": [
    "# Create ALS Model\n",
    "SimpleAls = ALS(rank=20, maxIter=20, regParam=0.01, userCol=\"userId\", itemCol=\"movieId\", ratingCol=\"rating\",\n",
    "          coldStartStrategy=\"drop\", nonnegative=True)"
   ]
  },
  {
   "cell_type": "code",
   "execution_count": 42,
   "metadata": {},
   "outputs": [
    {
     "name": "stdout",
     "output_type": "stream",
     "text": [
      "Time of the training: 15.947612762451172\n"
     ]
    }
   ],
   "source": [
    "import time\n",
    "\n",
    "t0 = time.time()\n",
    "SimpleModel = SimpleAls.fit(training)\n",
    "t_simpleALS = time.time() - t0\n",
    "print (\"Time of the training:\", t_simpleALS)"
   ]
  },
  {
   "cell_type": "markdown",
   "metadata": {},
   "source": [
    "We can therefore use the simple model to compute the predictions:"
   ]
  },
  {
   "cell_type": "code",
   "execution_count": 43,
   "metadata": {},
   "outputs": [],
   "source": [
    "# Define evaluator as RMSE\n",
    "evaluator_rmse = RegressionEvaluator(metricName='rmse', labelCol='rating', predictionCol='prediction')\n",
    "evaluator_mae = RegressionEvaluator(metricName='mae', labelCol='rating', predictionCol='prediction')"
   ]
  },
  {
   "cell_type": "code",
   "execution_count": 44,
   "metadata": {},
   "outputs": [],
   "source": [
    "# Generate predictions and evaluate RMSE\n",
    "predictions_training_1 = SimpleModel.transform(training)\n",
    "predictions_test_1 = SimpleModel.transform(test)\n",
    "\n",
    "rmse_training_1 = evaluator_rmse.evaluate(predictions_training_1)\n",
    "rmse_test_1 = evaluator_rmse.evaluate(predictions_test_1)\n",
    "\n",
    "mae_training_1 = evaluator_mae.evaluate(predictions_training_1)\n",
    "mae_test_1 = evaluator_mae.evaluate(predictions_test_1)"
   ]
  },
  {
   "cell_type": "code",
   "execution_count": 45,
   "metadata": {},
   "outputs": [
    {
     "name": "stdout",
     "output_type": "stream",
     "text": [
      "+------+-------+------+----------+\n",
      "|userId|movieId|rating|prediction|\n",
      "+------+-------+------+----------+\n",
      "| 20924|    471|   4.0|  2.803015|\n",
      "|109342|    471|   5.0| 3.6425428|\n",
      "| 10303|    471|   2.0| 3.6026187|\n",
      "| 84272|    471|   3.5| 3.1753533|\n",
      "| 62003|    471|   4.0| 3.3642368|\n",
      "| 78157|    471|   5.0| 4.4525547|\n",
      "|  8325|    471|   5.0| 3.4691749|\n",
      "|115672|    471|   4.0| 4.2891455|\n",
      "| 51003|    471|   4.0|  4.231404|\n",
      "| 69596|    471|   4.0| 3.6425512|\n",
      "| 55995|    471|   5.0| 4.6006656|\n",
      "| 72765|    471|   4.0|    4.2605|\n",
      "|108399|    471|   4.0| 3.9364438|\n",
      "|126273|    471|   4.0| 3.1878567|\n",
      "| 27646|    471|   4.0| 3.1887436|\n",
      "| 90358|    471|   4.0| 3.7539353|\n",
      "|  6847|    471|   4.0| 3.7991736|\n",
      "| 60525|    471|   3.0| 3.8445559|\n",
      "| 37897|    471|   3.0| 3.5413694|\n",
      "| 37404|    471|   3.0| 3.4131258|\n",
      "+------+-------+------+----------+\n",
      "only showing top 20 rows\n",
      "\n"
     ]
    }
   ],
   "source": [
    "predictions_test_1.show()"
   ]
  },
  {
   "cell_type": "code",
   "execution_count": 46,
   "metadata": {},
   "outputs": [
    {
     "name": "stdout",
     "output_type": "stream",
     "text": [
      "For the training set:\n",
      "MAE:  0.4810207485487132 \n",
      "RMSE:  0.6310630919718148 \n",
      "precision:  0.3499793144506221\n",
      "\n",
      "For the test set:\n",
      "MAE:  0.6430344255569492 \n",
      "RMSE:  0.8486849943669819 \n",
      "precision:  0.2674481054808131\n",
      "\n",
      "Running time 15.947612762451172\n"
     ]
    }
   ],
   "source": [
    "df_predictions_training_1 = predictions_training_1.toPandas()\n",
    "df_predictions_test_1 = predictions_test_1.toPandas()\n",
    "precision_simpleALS_training = precision(df_predictions_training_1['rating'], df_predictions_training_1['prediction'])  \n",
    "precision_simpleALS_test = precision(df_predictions_test_1['rating'], df_predictions_test_1['prediction'])  \n",
    "\n",
    "print('For the training set:')\n",
    "print('MAE: ', mae_training_1, '\\nRMSE: ', rmse_training_1, '\\nprecision: ', precision_simpleALS_training)\n",
    "print()\n",
    "print('For the test set:')\n",
    "print('MAE: ', mae_test_1, '\\nRMSE: ', rmse_test_1, '\\nprecision: ', precision_simpleALS_test)\n",
    "print()\n",
    "print('Running time', t_simpleALS)"
   ]
  },
  {
   "cell_type": "markdown",
   "metadata": {},
   "source": [
    "This model is quite simple, we did not try to fit the hyperparameters, namely the dimension of the latent vectors (rank of the matrix), the number of ALS iterations and the regularization parameter.\n",
    "<br>Despite its simplicity, it is way better than the user-based model. The running is much lower which means that we can afford to often compute new predictions for a larger dataset.\n",
    "<br><br>\n",
    "We can now generate Top 10 user recommendations:"
   ]
  },
  {
   "cell_type": "code",
   "execution_count": 47,
   "metadata": {},
   "outputs": [
    {
     "data": {
      "text/html": [
       "<div>\n",
       "<style scoped>\n",
       "    .dataframe tbody tr th:only-of-type {\n",
       "        vertical-align: middle;\n",
       "    }\n",
       "\n",
       "    .dataframe tbody tr th {\n",
       "        vertical-align: top;\n",
       "    }\n",
       "\n",
       "    .dataframe thead th {\n",
       "        text-align: right;\n",
       "    }\n",
       "</style>\n",
       "<table border=\"1\" class=\"dataframe\">\n",
       "  <thead>\n",
       "    <tr style=\"text-align: right;\">\n",
       "      <th></th>\n",
       "      <th>recommendations</th>\n",
       "    </tr>\n",
       "    <tr>\n",
       "      <th>userId</th>\n",
       "      <th></th>\n",
       "    </tr>\n",
       "  </thead>\n",
       "  <tbody>\n",
       "    <tr>\n",
       "      <th>7340</th>\n",
       "      <td>[(6773, 4.900662899017334), (5690, 4.889193534...</td>\n",
       "    </tr>\n",
       "    <tr>\n",
       "      <th>13840</th>\n",
       "      <td>[(914, 5.533960819244385), (1035, 5.5053625106...</td>\n",
       "    </tr>\n",
       "    <tr>\n",
       "      <th>41890</th>\n",
       "      <td>[(112852, 4.691947937011719), (8638, 4.4866318...</td>\n",
       "    </tr>\n",
       "    <tr>\n",
       "      <th>83250</th>\n",
       "      <td>[(5690, 6.769101142883301), (27611, 6.41861581...</td>\n",
       "    </tr>\n",
       "    <tr>\n",
       "      <th>18051</th>\n",
       "      <td>[(2318, 8.468245506286621), (2387, 7.878695964...</td>\n",
       "    </tr>\n",
       "  </tbody>\n",
       "</table>\n",
       "</div>"
      ],
      "text/plain": [
       "                                          recommendations\n",
       "userId                                                   \n",
       "7340    [(6773, 4.900662899017334), (5690, 4.889193534...\n",
       "13840   [(914, 5.533960819244385), (1035, 5.5053625106...\n",
       "41890   [(112852, 4.691947937011719), (8638, 4.4866318...\n",
       "83250   [(5690, 6.769101142883301), (27611, 6.41861581...\n",
       "18051   [(2318, 8.468245506286621), (2387, 7.878695964..."
      ]
     },
     "execution_count": 47,
     "metadata": {},
     "output_type": "execute_result"
    }
   ],
   "source": [
    "userRecs = SimpleModel.recommendForAllUsers(10).toPandas().set_index('userId')\n",
    "userRecs.head()"
   ]
  },
  {
   "cell_type": "markdown",
   "metadata": {},
   "source": [
    "### 2. Better ALS method: fitting the hyperparameters"
   ]
  },
  {
   "cell_type": "markdown",
   "metadata": {},
   "source": [
    "One way to improve our previous model is to fit the hyperparameters to the model. For this, we are using the *pyspark.ml.tuning* library and its ParamGridBuilder function.\n",
    "\n",
    "Here we are offering differents possibilites for the hyperparameters and the model will try them all to find the best one."
   ]
  },
  {
   "cell_type": "code",
   "execution_count": 48,
   "metadata": {},
   "outputs": [],
   "source": [
    "# Create ALS Model\n",
    "FitALS = ALS(userCol=\"userId\", itemCol=\"movieId\", ratingCol=\"rating\",\n",
    "          coldStartStrategy=\"drop\", nonnegative=True)"
   ]
  },
  {
   "cell_type": "code",
   "execution_count": 49,
   "metadata": {},
   "outputs": [],
   "source": [
    "# Tune model using ParamGridBuilder\n",
    "param_grid = ParamGridBuilder().addGrid(FitALS.rank, [15,17,20]).addGrid(FitALS.maxIter, [15,20,25]).addGrid(FitALS.regParam, [.01,.05,.1]).build()"
   ]
  },
  {
   "cell_type": "markdown",
   "metadata": {},
   "source": [
    "Let us use a cross-validation set up to train and tune our model. We will split the training set into a train set and a tune set, with ratio 0.8, 0.2 respectively:"
   ]
  },
  {
   "cell_type": "code",
   "execution_count": 50,
   "metadata": {},
   "outputs": [],
   "source": [
    "# Build cross validation using TrainValidationSplit\n",
    "tvs = TrainValidationSplit(estimator=FitALS, estimatorParamMaps=param_grid, evaluator=evaluator_rmse, trainRatio=0.8)"
   ]
  },
  {
   "cell_type": "code",
   "execution_count": 51,
   "metadata": {
    "scrolled": true
   },
   "outputs": [
    {
     "name": "stdout",
     "output_type": "stream",
     "text": [
      "Time of the training: 674.2750627994537\n"
     ]
    }
   ],
   "source": [
    "# Fit ALS model to train data\n",
    "import time\n",
    "\n",
    "t0 = time.time()\n",
    "FitModel = tvs.fit(training)\n",
    "t_fitALS = time.time() - t0\n",
    "print (\"Time of the training:\", t_fitALS)"
   ]
  },
  {
   "cell_type": "markdown",
   "metadata": {},
   "source": [
    "Let's save the model:"
   ]
  },
  {
   "cell_type": "code",
   "execution_count": 52,
   "metadata": {},
   "outputs": [],
   "source": [
    "FitModel.save(\"FitModelALS_2000movies\")"
   ]
  },
  {
   "cell_type": "code",
   "execution_count": 53,
   "metadata": {},
   "outputs": [],
   "source": [
    "# Extract the best model from the tuning of Hyperparameters\n",
    "best_model = FitModel.bestModel"
   ]
  },
  {
   "cell_type": "code",
   "execution_count": 54,
   "metadata": {},
   "outputs": [],
   "source": [
    "# Generate predictions and evaluate RMSE\n",
    "predictions_training_2 = best_model.transform(training)\n",
    "predictions_test_2 = best_model.transform(test)\n",
    "\n",
    "rmse_training_2 = evaluator_rmse.evaluate(predictions_training_2)\n",
    "rmse_test_2 = evaluator_rmse.evaluate(predictions_test_2)\n",
    "\n",
    "mae_training_2 = evaluator_mae.evaluate(predictions_training_2)\n",
    "mae_test_2 = evaluator_mae.evaluate(predictions_test_2)"
   ]
  },
  {
   "cell_type": "markdown",
   "metadata": {},
   "source": [
    "We can print the metrics for this new model:"
   ]
  },
  {
   "cell_type": "code",
   "execution_count": 55,
   "metadata": {
    "scrolled": true
   },
   "outputs": [
    {
     "name": "stdout",
     "output_type": "stream",
     "text": [
      "Best hyperparameters found: \n",
      "Rank: 20\n",
      "MaxIter: 25\n",
      "RegParam: 0.1\n",
      "\n",
      "Metrics: \n",
      "For the training set:\n",
      "MAE:  0.580730263812518 \n",
      "RMSE:  0.7432814577503993 \n",
      "precision:  0.278134869781944\n",
      "\n",
      "For the test set:\n",
      "MAE:  0.6249016755286761 \n",
      "RMSE:  0.8030013699715939 \n",
      "precision:  0.2600544232301261\n",
      "\n",
      "Running time 674.2750627994537\n"
     ]
    }
   ],
   "source": [
    "df_predictions_training_2 = predictions_training_2.toPandas()\n",
    "df_predictions_test_2 = predictions_test_2.toPandas()\n",
    "precision_simpleALS_training = precision(df_predictions_training_2['rating'], df_predictions_training_2['prediction'])  \n",
    "precision_simpleALS_test = precision(df_predictions_test_2['rating'], df_predictions_test_2['prediction'])  \n",
    "\n",
    "print('Best hyperparameters found: ')\n",
    "print('Rank:', best_model.rank)\n",
    "print('MaxIter:', best_model._java_obj.parent().getMaxIter())\n",
    "print('RegParam:', best_model._java_obj.parent().getRegParam())\n",
    "print()\n",
    "print('Metrics: ')\n",
    "print('For the training set:')\n",
    "print('MAE: ', mae_training_2, '\\nRMSE: ', rmse_training_2, '\\nprecision: ', precision_simpleALS_training)\n",
    "print()\n",
    "print('For the test set:')\n",
    "print('MAE: ', mae_test_2, '\\nRMSE: ', rmse_test_2, '\\nprecision: ', precision_simpleALS_test)\n",
    "print()\n",
    "print('Running time', t_fitALS)"
   ]
  },
  {
   "cell_type": "markdown",
   "metadata": {},
   "source": [
    "We see that the **error** is much lower than the previous one. Fitting the hyperparameters is effective."
   ]
  },
  {
   "cell_type": "markdown",
   "metadata": {},
   "source": [
    "Let's see how our model predict the actual ratings of the test set:"
   ]
  },
  {
   "cell_type": "code",
   "execution_count": 56,
   "metadata": {
    "scrolled": true
   },
   "outputs": [
    {
     "name": "stdout",
     "output_type": "stream",
     "text": [
      "+------+-------+------+----------+\n",
      "|userId|movieId|rating|prediction|\n",
      "+------+-------+------+----------+\n",
      "| 20924|    471|   4.0| 3.3842738|\n",
      "|109342|    471|   5.0| 3.5155904|\n",
      "| 10303|    471|   2.0| 3.5598423|\n",
      "| 84272|    471|   3.5|  3.615347|\n",
      "| 62003|    471|   4.0| 3.0425408|\n",
      "| 78157|    471|   5.0| 4.2493663|\n",
      "|  8325|    471|   5.0| 3.6070476|\n",
      "|115672|    471|   4.0|   4.11361|\n",
      "| 51003|    471|   4.0| 3.4260638|\n",
      "| 69596|    471|   4.0| 3.6280766|\n",
      "| 55995|    471|   5.0| 3.7864935|\n",
      "| 72765|    471|   4.0| 4.0653067|\n",
      "|108399|    471|   4.0| 3.4060042|\n",
      "|126273|    471|   4.0| 3.4876924|\n",
      "| 27646|    471|   4.0| 3.3718226|\n",
      "| 90358|    471|   4.0| 3.3369744|\n",
      "|  6847|    471|   4.0| 3.8846874|\n",
      "| 60525|    471|   3.0| 3.5209608|\n",
      "| 37897|    471|   3.0| 3.7177033|\n",
      "| 37404|    471|   3.0| 3.0095532|\n",
      "+------+-------+------+----------+\n",
      "only showing top 20 rows\n",
      "\n"
     ]
    }
   ],
   "source": [
    "predictions_test_2.show()"
   ]
  },
  {
   "cell_type": "markdown",
   "metadata": {},
   "source": [
    "We can now generate the top 10 recommendations for all users:"
   ]
  },
  {
   "cell_type": "code",
   "execution_count": 57,
   "metadata": {
    "scrolled": true
   },
   "outputs": [
    {
     "data": {
      "text/html": [
       "<div>\n",
       "<style scoped>\n",
       "    .dataframe tbody tr th:only-of-type {\n",
       "        vertical-align: middle;\n",
       "    }\n",
       "\n",
       "    .dataframe tbody tr th {\n",
       "        vertical-align: top;\n",
       "    }\n",
       "\n",
       "    .dataframe thead th {\n",
       "        text-align: right;\n",
       "    }\n",
       "</style>\n",
       "<table border=\"1\" class=\"dataframe\">\n",
       "  <thead>\n",
       "    <tr style=\"text-align: right;\">\n",
       "      <th></th>\n",
       "      <th>recommendations</th>\n",
       "    </tr>\n",
       "    <tr>\n",
       "      <th>userId</th>\n",
       "      <th></th>\n",
       "    </tr>\n",
       "  </thead>\n",
       "  <tbody>\n",
       "    <tr>\n",
       "      <th>7340</th>\n",
       "      <td>[(5618, 3.7806320190429688), (7099, 3.77805590...</td>\n",
       "    </tr>\n",
       "    <tr>\n",
       "      <th>13840</th>\n",
       "      <td>[(527, 4.752536773681641), (1207, 4.5672874450...</td>\n",
       "    </tr>\n",
       "    <tr>\n",
       "      <th>41890</th>\n",
       "      <td>[(2959, 4.125954627990723), (318, 4.1196269989...</td>\n",
       "    </tr>\n",
       "    <tr>\n",
       "      <th>83250</th>\n",
       "      <td>[(5618, 5.04010534286499), (2360, 5.0140237808...</td>\n",
       "    </tr>\n",
       "    <tr>\n",
       "      <th>18051</th>\n",
       "      <td>[(318, 4.646414279937744), (4880, 4.5492238998...</td>\n",
       "    </tr>\n",
       "  </tbody>\n",
       "</table>\n",
       "</div>"
      ],
      "text/plain": [
       "                                          recommendations\n",
       "userId                                                   \n",
       "7340    [(5618, 3.7806320190429688), (7099, 3.77805590...\n",
       "13840   [(527, 4.752536773681641), (1207, 4.5672874450...\n",
       "41890   [(2959, 4.125954627990723), (318, 4.1196269989...\n",
       "83250   [(5618, 5.04010534286499), (2360, 5.0140237808...\n",
       "18051   [(318, 4.646414279937744), (4880, 4.5492238998..."
      ]
     },
     "execution_count": 57,
     "metadata": {},
     "output_type": "execute_result"
    }
   ],
   "source": [
    "user_recs_fit = best_model.recommendForAllUsers(10).toPandas().set_index('userId')\n",
    "user_recs_fit.head()"
   ]
  }
 ],
 "metadata": {
  "kernelspec": {
   "display_name": "Python 3",
   "language": "python",
   "name": "python3"
  },
  "language_info": {
   "codemirror_mode": {
    "name": "ipython",
    "version": 3
   },
   "file_extension": ".py",
   "mimetype": "text/x-python",
   "name": "python",
   "nbconvert_exporter": "python",
   "pygments_lexer": "ipython3",
   "version": "3.7.5"
  }
 },
 "nbformat": 4,
 "nbformat_minor": 2
}
